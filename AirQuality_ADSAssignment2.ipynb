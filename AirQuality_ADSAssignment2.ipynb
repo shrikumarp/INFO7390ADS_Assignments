{
 "cells": [
  {
   "cell_type": "markdown",
   "metadata": {},
   "source": [
    "DATASET INFORMATION:\n",
    "\n",
    "\n",
    "\n",
    "Air Quality Data Set \n",
    "Abstract: Contains the responses of a gas multisensor device deployed on the field in an Italian city. Hourly responses averages are recorded along with gas concentrations references from a certified analyzer.\n",
    "\n",
    "Data Set Characteristics:  \n",
    "\n",
    "Multivariate, Time-Series\n",
    "\n",
    "Number of Instances:\n",
    "\n",
    "9358\n",
    "\n",
    "Area:\n",
    "\n",
    "Computer\n",
    "\n",
    "Attribute Characteristics:\n",
    "\n",
    "Real\n",
    "\n",
    "Number of Attributes:\n",
    "\n",
    "15\n",
    "\n",
    "Date Donated\n",
    "\n",
    "2016-03-23\n",
    "\n",
    "Associated Tasks:\n",
    "\n",
    "Regression\n",
    "\n",
    "Missing Values?\n",
    "\n",
    "Yes\n",
    "\n",
    "Number of Web Hits:\n",
    "\n",
    "160639\n",
    "\n",
    "\n",
    "Source:\n",
    "\n",
    "Saverio De Vito (saverio.devito '@' enea.it), ENEA - National Agency for New Technologies, Energy and Sustainable Economic Development\n",
    "\n",
    "\n",
    "Data Set Information:\n",
    "\n",
    "The dataset contains 9358 instances of hourly averaged responses from an array of 5 metal oxide chemical sensors embedded in an Air Quality Chemical Multisensor Device. The device was located on the field in a significantly polluted area, at road level,within an Italian city. Data were recorded from March 2004 to February 2005 (one year)representing the longest freely available recordings of on field deployed air quality chemical sensor devices responses. Ground Truth hourly averaged concentrations for CO, Non Metanic Hydrocarbons, Benzene, Total Nitrogen Oxides (NOx) and Nitrogen Dioxide (NO2) and were provided by a co-located reference certified analyzer. Evidences of cross-sensitivities as well as both concept and sensor drifts are present as described in De Vito et al., Sens. And Act. B, Vol. 129,2,2008 (citation required) eventually affecting sensors concentration estimation capabilities. Missing values are tagged with -200 value. \n",
    "This dataset can be used exclusively for research purposes. Commercial purposes are fully excluded. \n",
    "\n",
    "\n",
    "Attribute Information:\n",
    "\n",
    "0 Date\t(DD/MM/YYYY) \n",
    "1 Time\t(HH.MM.SS) \n",
    "2 True hourly averaged concentration CO in mg/m^3 (reference analyzer) \n",
    "3 PT08.S1 (tin oxide) hourly averaged sensor response (nominally CO targeted)\t\n",
    "4 True hourly averaged overall Non Metanic HydroCarbons concentration in microg/m^3 (reference analyzer) \n",
    "5 True hourly averaged Benzene concentration in microg/m^3 (reference analyzer) \n",
    "6 PT08.S2 (titania) hourly averaged sensor response (nominally NMHC targeted)\t\n",
    "7 True hourly averaged NOx concentration in ppb (reference analyzer) \n",
    "8 PT08.S3 (tungsten oxide) hourly averaged sensor response (nominally NOx targeted) \n",
    "9 True hourly averaged NO2 concentration in microg/m^3 (reference analyzer)\t\n",
    "10 PT08.S4 (tungsten oxide) hourly averaged sensor response (nominally NO2 targeted)\t\n",
    "11 PT08.S5 (indium oxide) hourly averaged sensor response (nominally O3 targeted) \n",
    "12 Temperature in Â°C\t\n",
    "13 Relative Humidity (%) \n",
    "14 AH Absolute Humidity \n",
    "\n"
   ]
  },
  {
   "cell_type": "code",
   "execution_count": 1,
   "metadata": {
    "collapsed": true
   },
   "outputs": [],
   "source": [
    "import pandas as pd\n",
    "import numpy as np\n",
    "import matplotlib.pyplot as plt\n",
    "%matplotlib inline\n",
    "import seaborn as sns"
   ]
  },
  {
   "cell_type": "code",
   "execution_count": 2,
   "metadata": {
    "collapsed": true
   },
   "outputs": [],
   "source": [
    "dfc = pd.read_csv(\"AirQualityUCI.csv\", sep=\";\", decimal=\",\")"
   ]
  },
  {
   "cell_type": "markdown",
   "metadata": {},
   "source": [
    "We first try to clean the data by visualising any NA/null values in the data set. "
   ]
  },
  {
   "cell_type": "code",
   "execution_count": 3,
   "metadata": {},
   "outputs": [
    {
     "data": {
      "text/plain": [
       "<matplotlib.axes._subplots.AxesSubplot at 0x1a0a5d4978>"
      ]
     },
     "execution_count": 3,
     "metadata": {},
     "output_type": "execute_result"
    },
    {
     "data": {
      "image/png": "[encoded data removed]",
      "text/plain": [
       "<matplotlib.figure.Figure at 0x1a0a5d4438>"
      ]
     },
     "metadata": {},
     "output_type": "display_data"
    }
   ],
   "source": [
    "sns.heatmap(dfc.isnull(),yticklabels=False,cbar=False,cmap='viridis')"
   ]
  },
  {
   "cell_type": "markdown",
   "metadata": {},
   "source": [
    "As from the above heatmap, we can see that the last two columns are completely empty and hence we can eliminate them."
   ]
  },
  {
   "cell_type": "code",
   "execution_count": 4,
   "metadata": {},
   "outputs": [
    {
     "name": "stdout",
     "output_type": "stream",
     "text": [
      "<class 'pandas.core.frame.DataFrame'>\n",
      "RangeIndex: 9471 entries, 0 to 9470\n",
      "Data columns (total 17 columns):\n",
      "Date             9357 non-null object\n",
      "Time             9357 non-null object\n",
      "CO(GT)           9357 non-null float64\n",
      "PT08.S1(CO)      9357 non-null float64\n",
      "NMHC(GT)         9357 non-null float64\n",
      "C6H6(GT)         9357 non-null float64\n",
      "PT08.S2(NMHC)    9357 non-null float64\n",
      "NOx(GT)          9357 non-null float64\n",
      "PT08.S3(NOx)     9357 non-null float64\n",
      "NO2(GT)          9357 non-null float64\n",
      "PT08.S4(NO2)     9357 non-null float64\n",
      "PT08.S5(O3)      9357 non-null float64\n",
      "T                9357 non-null float64\n",
      "RH               9357 non-null float64\n",
      "AH               9357 non-null float64\n",
      "Unnamed: 15      0 non-null float64\n",
      "Unnamed: 16      0 non-null float64\n",
      "dtypes: float64(15), object(2)\n",
      "memory usage: 1.2+ MB\n"
     ]
    }
   ],
   "source": [
    "dfc.info()"
   ]
  },
  {
   "cell_type": "code",
   "execution_count": 5,
   "metadata": {},
   "outputs": [
    {
     "data": {
      "text/html": [
       "<div>\n",
       "<style>\n",
       "    .dataframe thead tr:only-child th {\n",
       "        text-align: right;\n",
       "    }\n",
       "\n",
       "    .dataframe thead th {\n",
       "        text-align: left;\n",
       "    }\n",
       "\n",
       "    .dataframe tbody tr th {\n",
       "        vertical-align: top;\n",
       "    }\n",
       "</style>\n",
       "<table border=\"1\" class=\"dataframe\">\n",
       "  <thead>\n",
       "    <tr style=\"text-align: right;\">\n",
       "      <th></th>\n",
       "      <th>CO(GT)</th>\n",
       "      <th>PT08.S1(CO)</th>\n",
       "      <th>NMHC(GT)</th>\n",
       "      <th>C6H6(GT)</th>\n",
       "      <th>PT08.S2(NMHC)</th>\n",
       "      <th>NOx(GT)</th>\n",
       "      <th>PT08.S3(NOx)</th>\n",
       "      <th>NO2(GT)</th>\n",
       "      <th>PT08.S4(NO2)</th>\n",
       "      <th>PT08.S5(O3)</th>\n",
       "      <th>T</th>\n",
       "      <th>RH</th>\n",
       "      <th>AH</th>\n",
       "      <th>Unnamed: 15</th>\n",
       "      <th>Unnamed: 16</th>\n",
       "    </tr>\n",
       "  </thead>\n",
       "  <tbody>\n",
       "    <tr>\n",
       "      <th>count</th>\n",
       "      <td>9357.000000</td>\n",
       "      <td>9357.000000</td>\n",
       "      <td>9357.000000</td>\n",
       "      <td>9357.000000</td>\n",
       "      <td>9357.000000</td>\n",
       "      <td>9357.000000</td>\n",
       "      <td>9357.000000</td>\n",
       "      <td>9357.000000</td>\n",
       "      <td>9357.000000</td>\n",
       "      <td>9357.000000</td>\n",
       "      <td>9357.000000</td>\n",
       "      <td>9357.000000</td>\n",
       "      <td>9357.000000</td>\n",
       "      <td>0.0</td>\n",
       "      <td>0.0</td>\n",
       "    </tr>\n",
       "    <tr>\n",
       "      <th>mean</th>\n",
       "      <td>-34.207524</td>\n",
       "      <td>1048.990061</td>\n",
       "      <td>-159.090093</td>\n",
       "      <td>1.865683</td>\n",
       "      <td>894.595276</td>\n",
       "      <td>168.616971</td>\n",
       "      <td>794.990168</td>\n",
       "      <td>58.148873</td>\n",
       "      <td>1391.479641</td>\n",
       "      <td>975.072032</td>\n",
       "      <td>9.778305</td>\n",
       "      <td>39.485380</td>\n",
       "      <td>-6.837604</td>\n",
       "      <td>NaN</td>\n",
       "      <td>NaN</td>\n",
       "    </tr>\n",
       "    <tr>\n",
       "      <th>std</th>\n",
       "      <td>77.657170</td>\n",
       "      <td>329.832710</td>\n",
       "      <td>139.789093</td>\n",
       "      <td>41.380206</td>\n",
       "      <td>342.333252</td>\n",
       "      <td>257.433866</td>\n",
       "      <td>321.993552</td>\n",
       "      <td>126.940455</td>\n",
       "      <td>467.210125</td>\n",
       "      <td>456.938184</td>\n",
       "      <td>43.203623</td>\n",
       "      <td>51.216145</td>\n",
       "      <td>38.976670</td>\n",
       "      <td>NaN</td>\n",
       "      <td>NaN</td>\n",
       "    </tr>\n",
       "    <tr>\n",
       "      <th>min</th>\n",
       "      <td>-200.000000</td>\n",
       "      <td>-200.000000</td>\n",
       "      <td>-200.000000</td>\n",
       "      <td>-200.000000</td>\n",
       "      <td>-200.000000</td>\n",
       "      <td>-200.000000</td>\n",
       "      <td>-200.000000</td>\n",
       "      <td>-200.000000</td>\n",
       "      <td>-200.000000</td>\n",
       "      <td>-200.000000</td>\n",
       "      <td>-200.000000</td>\n",
       "      <td>-200.000000</td>\n",
       "      <td>-200.000000</td>\n",
       "      <td>NaN</td>\n",
       "      <td>NaN</td>\n",
       "    </tr>\n",
       "    <tr>\n",
       "      <th>25%</th>\n",
       "      <td>0.600000</td>\n",
       "      <td>921.000000</td>\n",
       "      <td>-200.000000</td>\n",
       "      <td>4.000000</td>\n",
       "      <td>711.000000</td>\n",
       "      <td>50.000000</td>\n",
       "      <td>637.000000</td>\n",
       "      <td>53.000000</td>\n",
       "      <td>1185.000000</td>\n",
       "      <td>700.000000</td>\n",
       "      <td>10.900000</td>\n",
       "      <td>34.100000</td>\n",
       "      <td>0.692300</td>\n",
       "      <td>NaN</td>\n",
       "      <td>NaN</td>\n",
       "    </tr>\n",
       "    <tr>\n",
       "      <th>50%</th>\n",
       "      <td>1.500000</td>\n",
       "      <td>1053.000000</td>\n",
       "      <td>-200.000000</td>\n",
       "      <td>7.900000</td>\n",
       "      <td>895.000000</td>\n",
       "      <td>141.000000</td>\n",
       "      <td>794.000000</td>\n",
       "      <td>96.000000</td>\n",
       "      <td>1446.000000</td>\n",
       "      <td>942.000000</td>\n",
       "      <td>17.200000</td>\n",
       "      <td>48.600000</td>\n",
       "      <td>0.976800</td>\n",
       "      <td>NaN</td>\n",
       "      <td>NaN</td>\n",
       "    </tr>\n",
       "    <tr>\n",
       "      <th>75%</th>\n",
       "      <td>2.600000</td>\n",
       "      <td>1221.000000</td>\n",
       "      <td>-200.000000</td>\n",
       "      <td>13.600000</td>\n",
       "      <td>1105.000000</td>\n",
       "      <td>284.000000</td>\n",
       "      <td>960.000000</td>\n",
       "      <td>133.000000</td>\n",
       "      <td>1662.000000</td>\n",
       "      <td>1255.000000</td>\n",
       "      <td>24.100000</td>\n",
       "      <td>61.900000</td>\n",
       "      <td>1.296200</td>\n",
       "      <td>NaN</td>\n",
       "      <td>NaN</td>\n",
       "    </tr>\n",
       "    <tr>\n",
       "      <th>max</th>\n",
       "      <td>11.900000</td>\n",
       "      <td>2040.000000</td>\n",
       "      <td>1189.000000</td>\n",
       "      <td>63.700000</td>\n",
       "      <td>2214.000000</td>\n",
       "      <td>1479.000000</td>\n",
       "      <td>2683.000000</td>\n",
       "      <td>340.000000</td>\n",
       "      <td>2775.000000</td>\n",
       "      <td>2523.000000</td>\n",
       "      <td>44.600000</td>\n",
       "      <td>88.700000</td>\n",
       "      <td>2.231000</td>\n",
       "      <td>NaN</td>\n",
       "      <td>NaN</td>\n",
       "    </tr>\n",
       "  </tbody>\n",
       "</table>\n",
       "</div>"
      ],
      "text/plain": [
       "            CO(GT)  PT08.S1(CO)     NMHC(GT)     C6H6(GT)  PT08.S2(NMHC)  \\\n",
       "count  9357.000000  9357.000000  9357.000000  9357.000000    9357.000000   \n",
       "mean    -34.207524  1048.990061  -159.090093     1.865683     894.595276   \n",
       "std      77.657170   329.832710   139.789093    41.380206     342.333252   \n",
       "min    -200.000000  -200.000000  -200.000000  -200.000000    -200.000000   \n",
       "25%       0.600000   921.000000  -200.000000     4.000000     711.000000   \n",
       "50%       1.500000  1053.000000  -200.000000     7.900000     895.000000   \n",
       "75%       2.600000  1221.000000  -200.000000    13.600000    1105.000000   \n",
       "max      11.900000  2040.000000  1189.000000    63.700000    2214.000000   \n",
       "\n",
       "           NOx(GT)  PT08.S3(NOx)      NO2(GT)  PT08.S4(NO2)  PT08.S5(O3)  \\\n",
       "count  9357.000000   9357.000000  9357.000000   9357.000000  9357.000000   \n",
       "mean    168.616971    794.990168    58.148873   1391.479641   975.072032   \n",
       "std     257.433866    321.993552   126.940455    467.210125   456.938184   \n",
       "min    -200.000000   -200.000000  -200.000000   -200.000000  -200.000000   \n",
       "25%      50.000000    637.000000    53.000000   1185.000000   700.000000   \n",
       "50%     141.000000    794.000000    96.000000   1446.000000   942.000000   \n",
       "75%     284.000000    960.000000   133.000000   1662.000000  1255.000000   \n",
       "max    1479.000000   2683.000000   340.000000   2775.000000  2523.000000   \n",
       "\n",
       "                 T           RH           AH  Unnamed: 15  Unnamed: 16  \n",
       "count  9357.000000  9357.000000  9357.000000          0.0          0.0  \n",
       "mean      9.778305    39.485380    -6.837604          NaN          NaN  \n",
       "std      43.203623    51.216145    38.976670          NaN          NaN  \n",
       "min    -200.000000  -200.000000  -200.000000          NaN          NaN  \n",
       "25%      10.900000    34.100000     0.692300          NaN          NaN  \n",
       "50%      17.200000    48.600000     0.976800          NaN          NaN  \n",
       "75%      24.100000    61.900000     1.296200          NaN          NaN  \n",
       "max      44.600000    88.700000     2.231000          NaN          NaN  "
      ]
     },
     "execution_count": 5,
     "metadata": {},
     "output_type": "execute_result"
    }
   ],
   "source": [
    "dfc.describe()"
   ]
  },
  {
   "cell_type": "code",
   "execution_count": 6,
   "metadata": {},
   "outputs": [
    {
     "data": {
      "text/plain": [
       "Index(['Date', 'Time', 'CO(GT)', 'PT08.S1(CO)', 'NMHC(GT)', 'C6H6(GT)',\n",
       "       'PT08.S2(NMHC)', 'NOx(GT)', 'PT08.S3(NOx)', 'NO2(GT)', 'PT08.S4(NO2)',\n",
       "       'PT08.S5(O3)', 'T', 'RH', 'AH', 'Unnamed: 15', 'Unnamed: 16'],\n",
       "      dtype='object')"
      ]
     },
     "execution_count": 6,
     "metadata": {},
     "output_type": "execute_result"
    }
   ],
   "source": [
    "dfc.columns"
   ]
  },
  {
   "cell_type": "code",
   "execution_count": 7,
   "metadata": {},
   "outputs": [
    {
     "data": {
      "text/plain": [
       "True"
      ]
     },
     "execution_count": 7,
     "metadata": {},
     "output_type": "execute_result"
    }
   ],
   "source": [
    "dfc.Date.isnull().values.any()"
   ]
  },
  {
   "cell_type": "code",
   "execution_count": 8,
   "metadata": {
    "collapsed": true
   },
   "outputs": [],
   "source": [
    "dfc.dropna(axis=0, how= 'all', inplace=True)"
   ]
  },
  {
   "cell_type": "code",
   "execution_count": 9,
   "metadata": {
    "collapsed": true
   },
   "outputs": [],
   "source": [
    "dfc.dropna(axis=1, inplace=True)"
   ]
  },
  {
   "cell_type": "raw",
   "metadata": {},
   "source": [
    "We drop all the rows which have NaN values for all the columns, and the two columns for which the values for all the rows are NaN."
   ]
  },
  {
   "cell_type": "markdown",
   "metadata": {
    "collapsed": true
   },
   "source": [
    "Now the data is free of all the null values, but there are more unknown values which are -200 in value, as given in the description of the dataset.These -200 values in the data should be imputed with appropriate values (or be removed)."
   ]
  },
  {
   "cell_type": "code",
   "execution_count": 10,
   "metadata": {},
   "outputs": [
    {
     "data": {
      "text/plain": [
       "(9357, 15)"
      ]
     },
     "execution_count": 10,
     "metadata": {},
     "output_type": "execute_result"
    }
   ],
   "source": [
    "dfc.shape"
   ]
  },
  {
   "cell_type": "markdown",
   "metadata": {},
   "source": [
    "As the dataset desciption states that the missing values are substituted by the value -200, we need to perform imputation to replace those values as these -200 values will mess up our statistical measures and graphs/correlation."
   ]
  },
  {
   "cell_type": "markdown",
   "metadata": {},
   "source": [
    "First ley us replace the dummy value of -200 by NaN throughout the dataset."
   ]
  },
  {
   "cell_type": "code",
   "execution_count": 11,
   "metadata": {
    "collapsed": true
   },
   "outputs": [],
   "source": [
    "dfc.replace(to_replace= -200, value= np.NaN, inplace= True)"
   ]
  },
  {
   "cell_type": "markdown",
   "metadata": {},
   "source": [
    "Now let us visualize the distribution of the null values using a heatmap."
   ]
  },
  {
   "cell_type": "code",
   "execution_count": 12,
   "metadata": {},
   "outputs": [
    {
     "data": {
      "text/plain": [
       "<matplotlib.axes._subplots.AxesSubplot at 0x1030eb550>"
      ]
     },
     "execution_count": 12,
     "metadata": {},
     "output_type": "execute_result"
    },
    {
     "data": {
      "image/png": "[encoded data removed]",
      "text/plain": [
       "<matplotlib.figure.Figure at 0x10266b7f0>"
      ]
     },
     "metadata": {},
     "output_type": "display_data"
    }
   ],
   "source": [
    "sns.heatmap(dfc.isnull(),yticklabels=False,cbar=False,cmap='viridis')"
   ]
  },
  {
   "cell_type": "code",
   "execution_count": 13,
   "metadata": {},
   "outputs": [
    {
     "name": "stdout",
     "output_type": "stream",
     "text": [
      "<class 'pandas.core.frame.DataFrame'>\n",
      "Int64Index: 9357 entries, 0 to 9356\n",
      "Data columns (total 15 columns):\n",
      "Date             9357 non-null object\n",
      "Time             9357 non-null object\n",
      "CO(GT)           7674 non-null float64\n",
      "PT08.S1(CO)      8991 non-null float64\n",
      "NMHC(GT)         914 non-null float64\n",
      "C6H6(GT)         8991 non-null float64\n",
      "PT08.S2(NMHC)    8991 non-null float64\n",
      "NOx(GT)          7718 non-null float64\n",
      "PT08.S3(NOx)     8991 non-null float64\n",
      "NO2(GT)          7715 non-null float64\n",
      "PT08.S4(NO2)     8991 non-null float64\n",
      "PT08.S5(O3)      8991 non-null float64\n",
      "T                8991 non-null float64\n",
      "RH               8991 non-null float64\n",
      "AH               8991 non-null float64\n",
      "dtypes: float64(13), object(2)\n",
      "memory usage: 1.1+ MB\n"
     ]
    }
   ],
   "source": [
    "dfc.info()"
   ]
  },
  {
   "cell_type": "markdown",
   "metadata": {
    "collapsed": true
   },
   "source": [
    "manipulating the date and time columns to make them into a single column of DateTime object. Also, converting date to the datetime object and proper format."
   ]
  },
  {
   "cell_type": "code",
   "execution_count": 14,
   "metadata": {
    "collapsed": true
   },
   "outputs": [],
   "source": [
    "dfc['DateTime'] = dfc['Date']+ ' ' + dfc['Time']"
   ]
  },
  {
   "cell_type": "code",
   "execution_count": 15,
   "metadata": {
    "collapsed": true
   },
   "outputs": [],
   "source": [
    "dfc.drop(['Time'], axis=1, inplace=True)"
   ]
  },
  {
   "cell_type": "code",
   "execution_count": 16,
   "metadata": {
    "collapsed": true
   },
   "outputs": [],
   "source": [
    "dfc['DateTime'] = pd.to_datetime(dfc['DateTime'].astype(str), format='%d/%m/%Y %H.%M.%S')"
   ]
  },
  {
   "cell_type": "code",
   "execution_count": 17,
   "metadata": {
    "collapsed": true
   },
   "outputs": [],
   "source": [
    "dfc['Date'] = pd.to_datetime(dfc['Date'].astype(str), format='%d/%m/%Y')"
   ]
  },
  {
   "cell_type": "code",
   "execution_count": 18,
   "metadata": {
    "collapsed": true
   },
   "outputs": [],
   "source": [
    "#dfc['Time'] = pd.to_datetime(dfc['Time'].astype(str), format='%H.%M.%S') "
   ]
  },
  {
   "cell_type": "code",
   "execution_count": 19,
   "metadata": {
    "collapsed": true
   },
   "outputs": [],
   "source": [
    "dfc[['CO(GT)','C6H6(GT)','T','RH','AH']] = dfc[['CO(GT)','C6H6(GT)','T','RH','AH']].apply(pd.to_numeric)"
   ]
  },
  {
   "cell_type": "code",
   "execution_count": 20,
   "metadata": {
    "collapsed": true
   },
   "outputs": [],
   "source": [
    "import datetime"
   ]
  },
  {
   "cell_type": "code",
   "execution_count": 21,
   "metadata": {
    "collapsed": true
   },
   "outputs": [],
   "source": [
    "#Making a new column year, which may be useful to visualize yearly trends or year averages or measures.\n",
    "dfc['Year'] = dfc['DateTime'].map(lambda x:x.year)"
   ]
  },
  {
   "cell_type": "code",
   "execution_count": 22,
   "metadata": {
    "collapsed": true
   },
   "outputs": [],
   "source": [
    "#Making a new column YearMonth, which may be useful to visualize monthly trends or year averages or measures.\n",
    "dfc['YearMonth'] = pd.to_datetime(dfc.DateTime).dt.to_period('m')"
   ]
  },
  {
   "cell_type": "code",
   "execution_count": 23,
   "metadata": {},
   "outputs": [
    {
     "data": {
      "text/plain": [
       "<matplotlib.axes._subplots.AxesSubplot at 0x1a13ac7e10>"
      ]
     },
     "execution_count": 23,
     "metadata": {},
     "output_type": "execute_result"
    },
    {
     "data": {
      "image/png": "[encoded data removed]",
      "text/plain": [
       "<matplotlib.figure.Figure at 0x1050217b8>"
      ]
     },
     "metadata": {},
     "output_type": "display_data"
    }
   ],
   "source": [
    "sns.heatmap(dfc.isnull(),yticklabels=False,cbar=False,cmap='viridis')"
   ]
  },
  {
   "cell_type": "markdown",
   "metadata": {},
   "source": [
    "As we can see the NHMC(GT) column is missing many values, more than 85% values are NaN. Thus we can remove this column from the dataset as these values are very less likely to be of any significant importance in this dataset."
   ]
  },
  {
   "cell_type": "code",
   "execution_count": 24,
   "metadata": {
    "collapsed": true
   },
   "outputs": [],
   "source": [
    "dfc.drop(['NMHC(GT)'], axis= 1, inplace= True)"
   ]
  },
  {
   "cell_type": "markdown",
   "metadata": {},
   "source": [
    "Now let us get the value-counts of values in the columns to look at the number of NaN values present in each column."
   ]
  },
  {
   "cell_type": "markdown",
   "metadata": {},
   "source": [
    "We can try to replace these NaN values by taking the mean or the median of the whole column, but this won't be accurate and proper way to fill those values. \n",
    "Thus, filling the mean of that perticular day in which day the value is NaN makes more sense and would be proper way to impute the values. Hence, we groupby the date and take the mean and replace any NaN value by the mean of the values of that day."
   ]
  },
  {
   "cell_type": "code",
   "execution_count": 25,
   "metadata": {
    "collapsed": true
   },
   "outputs": [],
   "source": [
    "dfc[\"T\"] = dfc.groupby(\"Date\")[\"T\"].transform(lambda x: x.fillna(x.mean()))"
   ]
  },
  {
   "cell_type": "code",
   "execution_count": 26,
   "metadata": {
    "collapsed": true
   },
   "outputs": [],
   "source": [
    "dfc[\"CO(GT)\"] = dfc.groupby(\"Date\")[\"CO(GT)\"].transform(lambda x: x.fillna(x.mean()))"
   ]
  },
  {
   "cell_type": "code",
   "execution_count": 27,
   "metadata": {
    "collapsed": true
   },
   "outputs": [],
   "source": [
    "dfc[\"NOx(GT)\"] = dfc.groupby(\"Date\")[\"NOx(GT)\"].transform(lambda x: x.fillna(x.mean()))\n",
    "dfc[\"NO2(GT)\"] = dfc.groupby(\"Date\")[\"NO2(GT)\"].transform(lambda x: x.fillna(x.mean()))"
   ]
  },
  {
   "cell_type": "markdown",
   "metadata": {},
   "source": [
    "Checking for the number of mean values again in each column."
   ]
  },
  {
   "cell_type": "code",
   "execution_count": 28,
   "metadata": {},
   "outputs": [
    {
     "data": {
      "text/plain": [
       "<matplotlib.axes._subplots.AxesSubplot at 0x1a14368dd8>"
      ]
     },
     "execution_count": 28,
     "metadata": {},
     "output_type": "execute_result"
    },
    {
     "data": {
      "image/png": "[encoded data removed]",
      "text/plain": [
       "<matplotlib.figure.Figure at 0x1a143a3a58>"
      ]
     },
     "metadata": {},
     "output_type": "display_data"
    }
   ],
   "source": [
    "sns.heatmap(dfc.isnull(),yticklabels=False,cbar=False,cmap='viridis')"
   ]
  },
  {
   "cell_type": "markdown",
   "metadata": {},
   "source": [
    "As we can see there are still some NaN values, this is because for these values, and for their corresponding date all the values for that date are NaN, hence the mean is also NaN. \n",
    "For this case, we fill these values using Forward Fill way inside the fillna function, using method 'ffill'.\n",
    "We use forward fill here as even now taking the nean of the whole column(which has values for an entire year) does not make sense. Hence as these are hourly values, we can assume strong relationship between consecutive values for gas concentrations and humidity, and thus forward fill will be a very good method to fill thses values instead of dropping these records."
   ]
  },
  {
   "cell_type": "code",
   "execution_count": 29,
   "metadata": {
    "collapsed": true
   },
   "outputs": [],
   "source": [
    "dfc.fillna(method='ffill', inplace= True)"
   ]
  },
  {
   "cell_type": "code",
   "execution_count": 30,
   "metadata": {},
   "outputs": [
    {
     "data": {
      "text/plain": [
       "False"
      ]
     },
     "execution_count": 30,
     "metadata": {},
     "output_type": "execute_result"
    }
   ],
   "source": [
    "dfc.isnull().any().any()"
   ]
  },
  {
   "cell_type": "code",
   "execution_count": 31,
   "metadata": {},
   "outputs": [
    {
     "name": "stdout",
     "output_type": "stream",
     "text": [
      "<class 'pandas.core.frame.DataFrame'>\n",
      "Int64Index: 9357 entries, 0 to 9356\n",
      "Data columns (total 16 columns):\n",
      "Date             9357 non-null datetime64[ns]\n",
      "CO(GT)           9357 non-null float64\n",
      "PT08.S1(CO)      9357 non-null float64\n",
      "C6H6(GT)         9357 non-null float64\n",
      "PT08.S2(NMHC)    9357 non-null float64\n",
      "NOx(GT)          9357 non-null float64\n",
      "PT08.S3(NOx)     9357 non-null float64\n",
      "NO2(GT)          9357 non-null float64\n",
      "PT08.S4(NO2)     9357 non-null float64\n",
      "PT08.S5(O3)      9357 non-null float64\n",
      "T                9357 non-null float64\n",
      "RH               9357 non-null float64\n",
      "AH               9357 non-null float64\n",
      "DateTime         9357 non-null datetime64[ns]\n",
      "Year             9357 non-null int64\n",
      "YearMonth        9357 non-null object\n",
      "dtypes: datetime64[ns](2), float64(12), int64(1), object(1)\n",
      "memory usage: 1.2+ MB\n"
     ]
    }
   ],
   "source": [
    "dfc.info()"
   ]
  },
  {
   "cell_type": "code",
   "execution_count": 32,
   "metadata": {},
   "outputs": [
    {
     "data": {
      "text/html": [
       "<div>\n",
       "<style>\n",
       "    .dataframe thead tr:only-child th {\n",
       "        text-align: right;\n",
       "    }\n",
       "\n",
       "    .dataframe thead th {\n",
       "        text-align: left;\n",
       "    }\n",
       "\n",
       "    .dataframe tbody tr th {\n",
       "        vertical-align: top;\n",
       "    }\n",
       "</style>\n",
       "<table border=\"1\" class=\"dataframe\">\n",
       "  <thead>\n",
       "    <tr style=\"text-align: right;\">\n",
       "      <th></th>\n",
       "      <th>CO(GT)</th>\n",
       "      <th>PT08.S1(CO)</th>\n",
       "      <th>C6H6(GT)</th>\n",
       "      <th>PT08.S2(NMHC)</th>\n",
       "      <th>NOx(GT)</th>\n",
       "      <th>PT08.S3(NOx)</th>\n",
       "      <th>NO2(GT)</th>\n",
       "      <th>PT08.S4(NO2)</th>\n",
       "      <th>PT08.S5(O3)</th>\n",
       "      <th>T</th>\n",
       "      <th>RH</th>\n",
       "      <th>AH</th>\n",
       "      <th>Year</th>\n",
       "    </tr>\n",
       "  </thead>\n",
       "  <tbody>\n",
       "    <tr>\n",
       "      <th>count</th>\n",
       "      <td>9357.000000</td>\n",
       "      <td>9357.000000</td>\n",
       "      <td>9357.000000</td>\n",
       "      <td>9357.000000</td>\n",
       "      <td>9357.000000</td>\n",
       "      <td>9357.000000</td>\n",
       "      <td>9357.000000</td>\n",
       "      <td>9357.000000</td>\n",
       "      <td>9357.000000</td>\n",
       "      <td>9357.000000</td>\n",
       "      <td>9357.000000</td>\n",
       "      <td>9357.000000</td>\n",
       "      <td>9357.000000</td>\n",
       "    </tr>\n",
       "    <tr>\n",
       "      <th>mean</th>\n",
       "      <td>2.082589</td>\n",
       "      <td>1102.730362</td>\n",
       "      <td>10.190392</td>\n",
       "      <td>942.548253</td>\n",
       "      <td>239.419651</td>\n",
       "      <td>832.742225</td>\n",
       "      <td>109.382418</td>\n",
       "      <td>1453.014535</td>\n",
       "      <td>1030.511916</td>\n",
       "      <td>18.167474</td>\n",
       "      <td>48.817431</td>\n",
       "      <td>1.017382</td>\n",
       "      <td>2004.240141</td>\n",
       "    </tr>\n",
       "    <tr>\n",
       "      <th>std</th>\n",
       "      <td>1.383347</td>\n",
       "      <td>219.588101</td>\n",
       "      <td>7.565771</td>\n",
       "      <td>269.581368</td>\n",
       "      <td>200.833596</td>\n",
       "      <td>255.709423</td>\n",
       "      <td>46.058214</td>\n",
       "      <td>347.434084</td>\n",
       "      <td>410.916759</td>\n",
       "      <td>8.833685</td>\n",
       "      <td>17.354326</td>\n",
       "      <td>0.404829</td>\n",
       "      <td>0.427192</td>\n",
       "    </tr>\n",
       "    <tr>\n",
       "      <th>min</th>\n",
       "      <td>0.100000</td>\n",
       "      <td>647.000000</td>\n",
       "      <td>0.100000</td>\n",
       "      <td>383.000000</td>\n",
       "      <td>2.000000</td>\n",
       "      <td>322.000000</td>\n",
       "      <td>2.000000</td>\n",
       "      <td>551.000000</td>\n",
       "      <td>221.000000</td>\n",
       "      <td>-1.900000</td>\n",
       "      <td>9.200000</td>\n",
       "      <td>0.184700</td>\n",
       "      <td>2004.000000</td>\n",
       "    </tr>\n",
       "    <tr>\n",
       "      <th>25%</th>\n",
       "      <td>1.100000</td>\n",
       "      <td>938.000000</td>\n",
       "      <td>4.400000</td>\n",
       "      <td>733.000000</td>\n",
       "      <td>102.000000</td>\n",
       "      <td>655.000000</td>\n",
       "      <td>76.000000</td>\n",
       "      <td>1228.000000</td>\n",
       "      <td>726.000000</td>\n",
       "      <td>11.500000</td>\n",
       "      <td>35.400000</td>\n",
       "      <td>0.726200</td>\n",
       "      <td>2004.000000</td>\n",
       "    </tr>\n",
       "    <tr>\n",
       "      <th>50%</th>\n",
       "      <td>1.700000</td>\n",
       "      <td>1062.000000</td>\n",
       "      <td>8.300000</td>\n",
       "      <td>911.000000</td>\n",
       "      <td>177.000000</td>\n",
       "      <td>807.000000</td>\n",
       "      <td>103.608696</td>\n",
       "      <td>1460.000000</td>\n",
       "      <td>964.000000</td>\n",
       "      <td>17.600000</td>\n",
       "      <td>48.900000</td>\n",
       "      <td>0.987500</td>\n",
       "      <td>2004.000000</td>\n",
       "    </tr>\n",
       "    <tr>\n",
       "      <th>75%</th>\n",
       "      <td>2.700000</td>\n",
       "      <td>1237.000000</td>\n",
       "      <td>14.000000</td>\n",
       "      <td>1117.000000</td>\n",
       "      <td>316.000000</td>\n",
       "      <td>968.000000</td>\n",
       "      <td>135.000000</td>\n",
       "      <td>1677.000000</td>\n",
       "      <td>1287.000000</td>\n",
       "      <td>24.300000</td>\n",
       "      <td>61.900000</td>\n",
       "      <td>1.306700</td>\n",
       "      <td>2004.000000</td>\n",
       "    </tr>\n",
       "    <tr>\n",
       "      <th>max</th>\n",
       "      <td>11.900000</td>\n",
       "      <td>2040.000000</td>\n",
       "      <td>63.700000</td>\n",
       "      <td>2214.000000</td>\n",
       "      <td>1479.000000</td>\n",
       "      <td>2683.000000</td>\n",
       "      <td>340.000000</td>\n",
       "      <td>2775.000000</td>\n",
       "      <td>2523.000000</td>\n",
       "      <td>44.600000</td>\n",
       "      <td>88.700000</td>\n",
       "      <td>2.231000</td>\n",
       "      <td>2005.000000</td>\n",
       "    </tr>\n",
       "  </tbody>\n",
       "</table>\n",
       "</div>"
      ],
      "text/plain": [
       "            CO(GT)  PT08.S1(CO)     C6H6(GT)  PT08.S2(NMHC)      NOx(GT)  \\\n",
       "count  9357.000000  9357.000000  9357.000000    9357.000000  9357.000000   \n",
       "mean      2.082589  1102.730362    10.190392     942.548253   239.419651   \n",
       "std       1.383347   219.588101     7.565771     269.581368   200.833596   \n",
       "min       0.100000   647.000000     0.100000     383.000000     2.000000   \n",
       "25%       1.100000   938.000000     4.400000     733.000000   102.000000   \n",
       "50%       1.700000  1062.000000     8.300000     911.000000   177.000000   \n",
       "75%       2.700000  1237.000000    14.000000    1117.000000   316.000000   \n",
       "max      11.900000  2040.000000    63.700000    2214.000000  1479.000000   \n",
       "\n",
       "       PT08.S3(NOx)      NO2(GT)  PT08.S4(NO2)  PT08.S5(O3)            T  \\\n",
       "count   9357.000000  9357.000000   9357.000000  9357.000000  9357.000000   \n",
       "mean     832.742225   109.382418   1453.014535  1030.511916    18.167474   \n",
       "std      255.709423    46.058214    347.434084   410.916759     8.833685   \n",
       "min      322.000000     2.000000    551.000000   221.000000    -1.900000   \n",
       "25%      655.000000    76.000000   1228.000000   726.000000    11.500000   \n",
       "50%      807.000000   103.608696   1460.000000   964.000000    17.600000   \n",
       "75%      968.000000   135.000000   1677.000000  1287.000000    24.300000   \n",
       "max     2683.000000   340.000000   2775.000000  2523.000000    44.600000   \n",
       "\n",
       "                RH           AH         Year  \n",
       "count  9357.000000  9357.000000  9357.000000  \n",
       "mean     48.817431     1.017382  2004.240141  \n",
       "std      17.354326     0.404829     0.427192  \n",
       "min       9.200000     0.184700  2004.000000  \n",
       "25%      35.400000     0.726200  2004.000000  \n",
       "50%      48.900000     0.987500  2004.000000  \n",
       "75%      61.900000     1.306700  2004.000000  \n",
       "max      88.700000     2.231000  2005.000000  "
      ]
     },
     "execution_count": 32,
     "metadata": {},
     "output_type": "execute_result"
    }
   ],
   "source": [
    "dfc.describe()"
   ]
  },
  {
   "cell_type": "markdown",
   "metadata": {},
   "source": [
    "The describe method is used to find the summar statistics for every column. We get mean of values, standard devistion, minimum value,maximum value and 25%, 50% and 75% quartiles."
   ]
  },
  {
   "cell_type": "code",
   "execution_count": 33,
   "metadata": {
    "collapsed": true
   },
   "outputs": [],
   "source": [
    "#sns.pairplot(dfc, hue='Year')"
   ]
  },
  {
   "cell_type": "markdown",
   "metadata": {},
   "source": [
    "The pairplot above helps us analyse the relationships of variables with each other.As we can see except the temperature, Relative and Absolute humidity attributes, almost all of the other attributes show significant (though not exact) linear dependency with each other."
   ]
  },
  {
   "cell_type": "code",
   "execution_count": 34,
   "metadata": {},
   "outputs": [
    {
     "data": {
      "text/plain": [
       "<matplotlib.axes._subplots.AxesSubplot at 0x1a143b6358>"
      ]
     },
     "execution_count": 34,
     "metadata": {},
     "output_type": "execute_result"
    },
    {
     "data": {
      "image/png": "[encoded data removed]",
      "text/plain": [
       "<matplotlib.figure.Figure at 0x1a142d92b0>"
      ]
     },
     "metadata": {},
     "output_type": "display_data"
    }
   ],
   "source": [
    "sns.heatmap(dfc.corr(), annot=True)"
   ]
  },
  {
   "cell_type": "code",
   "execution_count": 35,
   "metadata": {},
   "outputs": [
    {
     "name": "stdout",
     "output_type": "stream",
     "text": [
      "                 CO(GT)  PT08.S1(CO)  C6H6(GT)  PT08.S2(NMHC)   NOx(GT)  \\\n",
      "CO(GT)         1.000000     0.781841  0.803253       0.788371  0.758892   \n",
      "PT08.S1(CO)    0.781841     1.000000  0.886325       0.896015  0.651010   \n",
      "C6H6(GT)       0.803253     0.886325  1.000000       0.982485  0.641097   \n",
      "PT08.S2(NMHC)  0.788371     0.896015  0.982485       1.000000  0.625352   \n",
      "NOx(GT)        0.758892     0.651010  0.641097       0.625352  1.000000   \n",
      "PT08.S3(NOx)  -0.616421    -0.777913 -0.737702      -0.798121 -0.598576   \n",
      "NO2(GT)        0.641499     0.569623  0.525939       0.548668  0.756066   \n",
      "PT08.S4(NO2)   0.529622     0.676413  0.756328       0.769786  0.186632   \n",
      "PT08.S5(O3)    0.761814     0.901460  0.861688       0.876588  0.722046   \n",
      "T             -0.028404     0.027467  0.180001       0.221644 -0.287481   \n",
      "RH             0.059654     0.120042 -0.054949      -0.082087  0.209849   \n",
      "AH             0.007591     0.121724  0.155825       0.174921 -0.156331   \n",
      "Year          -0.025597     0.016204 -0.143514      -0.154727  0.223926   \n",
      "\n",
      "               PT08.S3(NOx)   NO2(GT)  PT08.S4(NO2)  PT08.S5(O3)         T  \\\n",
      "CO(GT)            -0.616421  0.641499      0.529622     0.761814 -0.028404   \n",
      "PT08.S1(CO)       -0.777913  0.569623      0.676413     0.901460  0.027467   \n",
      "C6H6(GT)          -0.737702  0.525939      0.756328     0.861688  0.180001   \n",
      "PT08.S2(NMHC)     -0.798121  0.548668      0.769786     0.876588  0.221644   \n",
      "NOx(GT)           -0.598576  0.756066      0.186632     0.722046 -0.287481   \n",
      "PT08.S3(NOx)       1.000000 -0.562983     -0.535264    -0.795958 -0.124768   \n",
      "NO2(GT)           -0.562983  1.000000      0.087560     0.629989 -0.239713   \n",
      "PT08.S4(NO2)      -0.535264  0.087560      1.000000     0.579192  0.556908   \n",
      "PT08.S5(O3)       -0.795958  0.629989      0.579192     1.000000 -0.052393   \n",
      "T                 -0.124768 -0.239713      0.556908    -0.052393  1.000000   \n",
      "RH                -0.060581 -0.080338     -0.015158     0.137821 -0.554272   \n",
      "AH                -0.216738 -0.365643      0.630272     0.055483  0.662174   \n",
      "Year              -0.140800  0.402556     -0.514442     0.041717 -0.528371   \n",
      "\n",
      "                     RH        AH      Year  \n",
      "CO(GT)         0.059654  0.007591 -0.025597  \n",
      "PT08.S1(CO)    0.120042  0.121724  0.016204  \n",
      "C6H6(GT)      -0.054949  0.155825 -0.143514  \n",
      "PT08.S2(NMHC) -0.082087  0.174921 -0.154727  \n",
      "NOx(GT)        0.209849 -0.156331  0.223926  \n",
      "PT08.S3(NOx)  -0.060581 -0.216738 -0.140800  \n",
      "NO2(GT)       -0.080338 -0.365643  0.402556  \n",
      "PT08.S4(NO2)  -0.015158  0.630272 -0.514442  \n",
      "PT08.S5(O3)    0.137821  0.055483  0.041717  \n",
      "T             -0.554272  0.662174 -0.528371  \n",
      "RH             1.000000  0.180512  0.085588  \n",
      "AH             0.180512  1.000000 -0.524179  \n",
      "Year           0.085588 -0.524179  1.000000  \n"
     ]
    }
   ],
   "source": [
    "#correlation values table\n",
    "print(dfc.corr())"
   ]
  },
  {
   "cell_type": "code",
   "execution_count": 36,
   "metadata": {},
   "outputs": [
    {
     "data": {
      "text/html": [
       "<div>\n",
       "<style>\n",
       "    .dataframe thead tr:only-child th {\n",
       "        text-align: right;\n",
       "    }\n",
       "\n",
       "    .dataframe thead th {\n",
       "        text-align: left;\n",
       "    }\n",
       "\n",
       "    .dataframe tbody tr th {\n",
       "        vertical-align: top;\n",
       "    }\n",
       "</style>\n",
       "<table border=\"1\" class=\"dataframe\">\n",
       "  <thead>\n",
       "    <tr style=\"text-align: right;\">\n",
       "      <th></th>\n",
       "      <th>Date</th>\n",
       "      <th>CO(GT)</th>\n",
       "      <th>PT08.S1(CO)</th>\n",
       "      <th>C6H6(GT)</th>\n",
       "      <th>PT08.S2(NMHC)</th>\n",
       "      <th>NOx(GT)</th>\n",
       "      <th>PT08.S3(NOx)</th>\n",
       "      <th>NO2(GT)</th>\n",
       "      <th>PT08.S4(NO2)</th>\n",
       "      <th>PT08.S5(O3)</th>\n",
       "      <th>T</th>\n",
       "      <th>RH</th>\n",
       "      <th>AH</th>\n",
       "      <th>DateTime</th>\n",
       "      <th>Year</th>\n",
       "      <th>YearMonth</th>\n",
       "    </tr>\n",
       "  </thead>\n",
       "  <tbody>\n",
       "    <tr>\n",
       "      <th>0</th>\n",
       "      <td>2004-03-10</td>\n",
       "      <td>2.600000</td>\n",
       "      <td>1360.0</td>\n",
       "      <td>11.9</td>\n",
       "      <td>1046.0</td>\n",
       "      <td>166.000000</td>\n",
       "      <td>1056.0</td>\n",
       "      <td>113.000000</td>\n",
       "      <td>1692.0</td>\n",
       "      <td>1268.0</td>\n",
       "      <td>13.6</td>\n",
       "      <td>48.9</td>\n",
       "      <td>0.7578</td>\n",
       "      <td>2004-03-10 18:00:00</td>\n",
       "      <td>2004</td>\n",
       "      <td>2004-03</td>\n",
       "    </tr>\n",
       "    <tr>\n",
       "      <th>1</th>\n",
       "      <td>2004-03-10</td>\n",
       "      <td>2.000000</td>\n",
       "      <td>1292.0</td>\n",
       "      <td>9.4</td>\n",
       "      <td>955.0</td>\n",
       "      <td>103.000000</td>\n",
       "      <td>1174.0</td>\n",
       "      <td>92.000000</td>\n",
       "      <td>1559.0</td>\n",
       "      <td>972.0</td>\n",
       "      <td>13.3</td>\n",
       "      <td>47.7</td>\n",
       "      <td>0.7255</td>\n",
       "      <td>2004-03-10 19:00:00</td>\n",
       "      <td>2004</td>\n",
       "      <td>2004-03</td>\n",
       "    </tr>\n",
       "    <tr>\n",
       "      <th>2</th>\n",
       "      <td>2004-03-10</td>\n",
       "      <td>2.200000</td>\n",
       "      <td>1402.0</td>\n",
       "      <td>9.0</td>\n",
       "      <td>939.0</td>\n",
       "      <td>131.000000</td>\n",
       "      <td>1140.0</td>\n",
       "      <td>114.000000</td>\n",
       "      <td>1555.0</td>\n",
       "      <td>1074.0</td>\n",
       "      <td>11.9</td>\n",
       "      <td>54.0</td>\n",
       "      <td>0.7502</td>\n",
       "      <td>2004-03-10 20:00:00</td>\n",
       "      <td>2004</td>\n",
       "      <td>2004-03</td>\n",
       "    </tr>\n",
       "    <tr>\n",
       "      <th>3</th>\n",
       "      <td>2004-03-10</td>\n",
       "      <td>2.200000</td>\n",
       "      <td>1376.0</td>\n",
       "      <td>9.2</td>\n",
       "      <td>948.0</td>\n",
       "      <td>172.000000</td>\n",
       "      <td>1092.0</td>\n",
       "      <td>122.000000</td>\n",
       "      <td>1584.0</td>\n",
       "      <td>1203.0</td>\n",
       "      <td>11.0</td>\n",
       "      <td>60.0</td>\n",
       "      <td>0.7867</td>\n",
       "      <td>2004-03-10 21:00:00</td>\n",
       "      <td>2004</td>\n",
       "      <td>2004-03</td>\n",
       "    </tr>\n",
       "    <tr>\n",
       "      <th>4</th>\n",
       "      <td>2004-03-10</td>\n",
       "      <td>1.600000</td>\n",
       "      <td>1272.0</td>\n",
       "      <td>6.5</td>\n",
       "      <td>836.0</td>\n",
       "      <td>131.000000</td>\n",
       "      <td>1205.0</td>\n",
       "      <td>116.000000</td>\n",
       "      <td>1490.0</td>\n",
       "      <td>1110.0</td>\n",
       "      <td>11.2</td>\n",
       "      <td>59.6</td>\n",
       "      <td>0.7888</td>\n",
       "      <td>2004-03-10 22:00:00</td>\n",
       "      <td>2004</td>\n",
       "      <td>2004-03</td>\n",
       "    </tr>\n",
       "    <tr>\n",
       "      <th>5</th>\n",
       "      <td>2004-03-10</td>\n",
       "      <td>1.200000</td>\n",
       "      <td>1197.0</td>\n",
       "      <td>4.7</td>\n",
       "      <td>750.0</td>\n",
       "      <td>89.000000</td>\n",
       "      <td>1337.0</td>\n",
       "      <td>96.000000</td>\n",
       "      <td>1393.0</td>\n",
       "      <td>949.0</td>\n",
       "      <td>11.2</td>\n",
       "      <td>59.2</td>\n",
       "      <td>0.7848</td>\n",
       "      <td>2004-03-10 23:00:00</td>\n",
       "      <td>2004</td>\n",
       "      <td>2004-03</td>\n",
       "    </tr>\n",
       "    <tr>\n",
       "      <th>6</th>\n",
       "      <td>2004-03-11</td>\n",
       "      <td>1.200000</td>\n",
       "      <td>1185.0</td>\n",
       "      <td>3.6</td>\n",
       "      <td>690.0</td>\n",
       "      <td>62.000000</td>\n",
       "      <td>1462.0</td>\n",
       "      <td>77.000000</td>\n",
       "      <td>1333.0</td>\n",
       "      <td>733.0</td>\n",
       "      <td>11.3</td>\n",
       "      <td>56.8</td>\n",
       "      <td>0.7603</td>\n",
       "      <td>2004-03-11 00:00:00</td>\n",
       "      <td>2004</td>\n",
       "      <td>2004-03</td>\n",
       "    </tr>\n",
       "    <tr>\n",
       "      <th>7</th>\n",
       "      <td>2004-03-11</td>\n",
       "      <td>1.000000</td>\n",
       "      <td>1136.0</td>\n",
       "      <td>3.3</td>\n",
       "      <td>672.0</td>\n",
       "      <td>62.000000</td>\n",
       "      <td>1453.0</td>\n",
       "      <td>76.000000</td>\n",
       "      <td>1333.0</td>\n",
       "      <td>730.0</td>\n",
       "      <td>10.7</td>\n",
       "      <td>60.0</td>\n",
       "      <td>0.7702</td>\n",
       "      <td>2004-03-11 01:00:00</td>\n",
       "      <td>2004</td>\n",
       "      <td>2004-03</td>\n",
       "    </tr>\n",
       "    <tr>\n",
       "      <th>8</th>\n",
       "      <td>2004-03-11</td>\n",
       "      <td>0.900000</td>\n",
       "      <td>1094.0</td>\n",
       "      <td>2.3</td>\n",
       "      <td>609.0</td>\n",
       "      <td>45.000000</td>\n",
       "      <td>1579.0</td>\n",
       "      <td>60.000000</td>\n",
       "      <td>1276.0</td>\n",
       "      <td>620.0</td>\n",
       "      <td>10.7</td>\n",
       "      <td>59.7</td>\n",
       "      <td>0.7648</td>\n",
       "      <td>2004-03-11 02:00:00</td>\n",
       "      <td>2004</td>\n",
       "      <td>2004-03</td>\n",
       "    </tr>\n",
       "    <tr>\n",
       "      <th>9</th>\n",
       "      <td>2004-03-11</td>\n",
       "      <td>0.600000</td>\n",
       "      <td>1010.0</td>\n",
       "      <td>1.7</td>\n",
       "      <td>561.0</td>\n",
       "      <td>144.391304</td>\n",
       "      <td>1705.0</td>\n",
       "      <td>99.869565</td>\n",
       "      <td>1235.0</td>\n",
       "      <td>501.0</td>\n",
       "      <td>10.3</td>\n",
       "      <td>60.2</td>\n",
       "      <td>0.7517</td>\n",
       "      <td>2004-03-11 03:00:00</td>\n",
       "      <td>2004</td>\n",
       "      <td>2004-03</td>\n",
       "    </tr>\n",
       "    <tr>\n",
       "      <th>10</th>\n",
       "      <td>2004-03-11</td>\n",
       "      <td>2.239130</td>\n",
       "      <td>1011.0</td>\n",
       "      <td>1.3</td>\n",
       "      <td>527.0</td>\n",
       "      <td>21.000000</td>\n",
       "      <td>1818.0</td>\n",
       "      <td>34.000000</td>\n",
       "      <td>1197.0</td>\n",
       "      <td>445.0</td>\n",
       "      <td>10.1</td>\n",
       "      <td>60.5</td>\n",
       "      <td>0.7465</td>\n",
       "      <td>2004-03-11 04:00:00</td>\n",
       "      <td>2004</td>\n",
       "      <td>2004-03</td>\n",
       "    </tr>\n",
       "    <tr>\n",
       "      <th>11</th>\n",
       "      <td>2004-03-11</td>\n",
       "      <td>0.700000</td>\n",
       "      <td>1066.0</td>\n",
       "      <td>1.1</td>\n",
       "      <td>512.0</td>\n",
       "      <td>16.000000</td>\n",
       "      <td>1918.0</td>\n",
       "      <td>28.000000</td>\n",
       "      <td>1182.0</td>\n",
       "      <td>422.0</td>\n",
       "      <td>11.0</td>\n",
       "      <td>56.2</td>\n",
       "      <td>0.7366</td>\n",
       "      <td>2004-03-11 05:00:00</td>\n",
       "      <td>2004</td>\n",
       "      <td>2004-03</td>\n",
       "    </tr>\n",
       "    <tr>\n",
       "      <th>12</th>\n",
       "      <td>2004-03-11</td>\n",
       "      <td>0.700000</td>\n",
       "      <td>1052.0</td>\n",
       "      <td>1.6</td>\n",
       "      <td>553.0</td>\n",
       "      <td>34.000000</td>\n",
       "      <td>1738.0</td>\n",
       "      <td>48.000000</td>\n",
       "      <td>1221.0</td>\n",
       "      <td>472.0</td>\n",
       "      <td>10.5</td>\n",
       "      <td>58.1</td>\n",
       "      <td>0.7353</td>\n",
       "      <td>2004-03-11 06:00:00</td>\n",
       "      <td>2004</td>\n",
       "      <td>2004-03</td>\n",
       "    </tr>\n",
       "    <tr>\n",
       "      <th>13</th>\n",
       "      <td>2004-03-11</td>\n",
       "      <td>1.100000</td>\n",
       "      <td>1144.0</td>\n",
       "      <td>3.2</td>\n",
       "      <td>667.0</td>\n",
       "      <td>98.000000</td>\n",
       "      <td>1490.0</td>\n",
       "      <td>82.000000</td>\n",
       "      <td>1339.0</td>\n",
       "      <td>730.0</td>\n",
       "      <td>10.2</td>\n",
       "      <td>59.6</td>\n",
       "      <td>0.7417</td>\n",
       "      <td>2004-03-11 07:00:00</td>\n",
       "      <td>2004</td>\n",
       "      <td>2004-03</td>\n",
       "    </tr>\n",
       "    <tr>\n",
       "      <th>14</th>\n",
       "      <td>2004-03-11</td>\n",
       "      <td>2.000000</td>\n",
       "      <td>1333.0</td>\n",
       "      <td>8.0</td>\n",
       "      <td>900.0</td>\n",
       "      <td>174.000000</td>\n",
       "      <td>1136.0</td>\n",
       "      <td>112.000000</td>\n",
       "      <td>1517.0</td>\n",
       "      <td>1102.0</td>\n",
       "      <td>10.8</td>\n",
       "      <td>57.4</td>\n",
       "      <td>0.7408</td>\n",
       "      <td>2004-03-11 08:00:00</td>\n",
       "      <td>2004</td>\n",
       "      <td>2004-03</td>\n",
       "    </tr>\n",
       "    <tr>\n",
       "      <th>15</th>\n",
       "      <td>2004-03-11</td>\n",
       "      <td>2.200000</td>\n",
       "      <td>1351.0</td>\n",
       "      <td>9.5</td>\n",
       "      <td>960.0</td>\n",
       "      <td>129.000000</td>\n",
       "      <td>1079.0</td>\n",
       "      <td>101.000000</td>\n",
       "      <td>1583.0</td>\n",
       "      <td>1028.0</td>\n",
       "      <td>10.5</td>\n",
       "      <td>60.6</td>\n",
       "      <td>0.7691</td>\n",
       "      <td>2004-03-11 09:00:00</td>\n",
       "      <td>2004</td>\n",
       "      <td>2004-03</td>\n",
       "    </tr>\n",
       "    <tr>\n",
       "      <th>16</th>\n",
       "      <td>2004-03-11</td>\n",
       "      <td>1.700000</td>\n",
       "      <td>1233.0</td>\n",
       "      <td>6.3</td>\n",
       "      <td>827.0</td>\n",
       "      <td>112.000000</td>\n",
       "      <td>1218.0</td>\n",
       "      <td>98.000000</td>\n",
       "      <td>1446.0</td>\n",
       "      <td>860.0</td>\n",
       "      <td>10.8</td>\n",
       "      <td>58.4</td>\n",
       "      <td>0.7552</td>\n",
       "      <td>2004-03-11 10:00:00</td>\n",
       "      <td>2004</td>\n",
       "      <td>2004-03</td>\n",
       "    </tr>\n",
       "    <tr>\n",
       "      <th>17</th>\n",
       "      <td>2004-03-11</td>\n",
       "      <td>1.500000</td>\n",
       "      <td>1179.0</td>\n",
       "      <td>5.0</td>\n",
       "      <td>762.0</td>\n",
       "      <td>95.000000</td>\n",
       "      <td>1328.0</td>\n",
       "      <td>92.000000</td>\n",
       "      <td>1362.0</td>\n",
       "      <td>671.0</td>\n",
       "      <td>10.5</td>\n",
       "      <td>57.9</td>\n",
       "      <td>0.7352</td>\n",
       "      <td>2004-03-11 11:00:00</td>\n",
       "      <td>2004</td>\n",
       "      <td>2004-03</td>\n",
       "    </tr>\n",
       "    <tr>\n",
       "      <th>18</th>\n",
       "      <td>2004-03-11</td>\n",
       "      <td>1.600000</td>\n",
       "      <td>1236.0</td>\n",
       "      <td>5.2</td>\n",
       "      <td>774.0</td>\n",
       "      <td>104.000000</td>\n",
       "      <td>1301.0</td>\n",
       "      <td>95.000000</td>\n",
       "      <td>1401.0</td>\n",
       "      <td>664.0</td>\n",
       "      <td>9.5</td>\n",
       "      <td>66.8</td>\n",
       "      <td>0.7951</td>\n",
       "      <td>2004-03-11 12:00:00</td>\n",
       "      <td>2004</td>\n",
       "      <td>2004-03</td>\n",
       "    </tr>\n",
       "    <tr>\n",
       "      <th>19</th>\n",
       "      <td>2004-03-11</td>\n",
       "      <td>1.900000</td>\n",
       "      <td>1286.0</td>\n",
       "      <td>7.3</td>\n",
       "      <td>869.0</td>\n",
       "      <td>146.000000</td>\n",
       "      <td>1162.0</td>\n",
       "      <td>112.000000</td>\n",
       "      <td>1537.0</td>\n",
       "      <td>799.0</td>\n",
       "      <td>8.3</td>\n",
       "      <td>76.4</td>\n",
       "      <td>0.8393</td>\n",
       "      <td>2004-03-11 13:00:00</td>\n",
       "      <td>2004</td>\n",
       "      <td>2004-03</td>\n",
       "    </tr>\n",
       "    <tr>\n",
       "      <th>20</th>\n",
       "      <td>2004-03-11</td>\n",
       "      <td>2.900000</td>\n",
       "      <td>1371.0</td>\n",
       "      <td>11.5</td>\n",
       "      <td>1034.0</td>\n",
       "      <td>207.000000</td>\n",
       "      <td>983.0</td>\n",
       "      <td>128.000000</td>\n",
       "      <td>1730.0</td>\n",
       "      <td>1037.0</td>\n",
       "      <td>8.0</td>\n",
       "      <td>81.1</td>\n",
       "      <td>0.8736</td>\n",
       "      <td>2004-03-11 14:00:00</td>\n",
       "      <td>2004</td>\n",
       "      <td>2004-03</td>\n",
       "    </tr>\n",
       "    <tr>\n",
       "      <th>21</th>\n",
       "      <td>2004-03-11</td>\n",
       "      <td>2.200000</td>\n",
       "      <td>1310.0</td>\n",
       "      <td>8.8</td>\n",
       "      <td>933.0</td>\n",
       "      <td>184.000000</td>\n",
       "      <td>1082.0</td>\n",
       "      <td>126.000000</td>\n",
       "      <td>1647.0</td>\n",
       "      <td>946.0</td>\n",
       "      <td>8.3</td>\n",
       "      <td>79.8</td>\n",
       "      <td>0.8778</td>\n",
       "      <td>2004-03-11 15:00:00</td>\n",
       "      <td>2004</td>\n",
       "      <td>2004-03</td>\n",
       "    </tr>\n",
       "    <tr>\n",
       "      <th>22</th>\n",
       "      <td>2004-03-11</td>\n",
       "      <td>2.200000</td>\n",
       "      <td>1292.0</td>\n",
       "      <td>8.3</td>\n",
       "      <td>912.0</td>\n",
       "      <td>193.000000</td>\n",
       "      <td>1103.0</td>\n",
       "      <td>131.000000</td>\n",
       "      <td>1591.0</td>\n",
       "      <td>957.0</td>\n",
       "      <td>9.7</td>\n",
       "      <td>71.2</td>\n",
       "      <td>0.8569</td>\n",
       "      <td>2004-03-11 16:00:00</td>\n",
       "      <td>2004</td>\n",
       "      <td>2004-03</td>\n",
       "    </tr>\n",
       "    <tr>\n",
       "      <th>23</th>\n",
       "      <td>2004-03-11</td>\n",
       "      <td>2.900000</td>\n",
       "      <td>1383.0</td>\n",
       "      <td>11.2</td>\n",
       "      <td>1020.0</td>\n",
       "      <td>243.000000</td>\n",
       "      <td>1008.0</td>\n",
       "      <td>135.000000</td>\n",
       "      <td>1719.0</td>\n",
       "      <td>1104.0</td>\n",
       "      <td>9.8</td>\n",
       "      <td>67.6</td>\n",
       "      <td>0.8185</td>\n",
       "      <td>2004-03-11 17:00:00</td>\n",
       "      <td>2004</td>\n",
       "      <td>2004-03</td>\n",
       "    </tr>\n",
       "    <tr>\n",
       "      <th>24</th>\n",
       "      <td>2004-03-11</td>\n",
       "      <td>4.800000</td>\n",
       "      <td>1581.0</td>\n",
       "      <td>20.8</td>\n",
       "      <td>1319.0</td>\n",
       "      <td>281.000000</td>\n",
       "      <td>799.0</td>\n",
       "      <td>151.000000</td>\n",
       "      <td>2083.0</td>\n",
       "      <td>1409.0</td>\n",
       "      <td>10.3</td>\n",
       "      <td>64.2</td>\n",
       "      <td>0.8065</td>\n",
       "      <td>2004-03-11 18:00:00</td>\n",
       "      <td>2004</td>\n",
       "      <td>2004-03</td>\n",
       "    </tr>\n",
       "    <tr>\n",
       "      <th>25</th>\n",
       "      <td>2004-03-11</td>\n",
       "      <td>6.900000</td>\n",
       "      <td>1776.0</td>\n",
       "      <td>27.4</td>\n",
       "      <td>1488.0</td>\n",
       "      <td>383.000000</td>\n",
       "      <td>702.0</td>\n",
       "      <td>172.000000</td>\n",
       "      <td>2333.0</td>\n",
       "      <td>1704.0</td>\n",
       "      <td>9.7</td>\n",
       "      <td>69.3</td>\n",
       "      <td>0.8319</td>\n",
       "      <td>2004-03-11 19:00:00</td>\n",
       "      <td>2004</td>\n",
       "      <td>2004-03</td>\n",
       "    </tr>\n",
       "    <tr>\n",
       "      <th>26</th>\n",
       "      <td>2004-03-11</td>\n",
       "      <td>6.100000</td>\n",
       "      <td>1640.0</td>\n",
       "      <td>24.0</td>\n",
       "      <td>1404.0</td>\n",
       "      <td>351.000000</td>\n",
       "      <td>743.0</td>\n",
       "      <td>165.000000</td>\n",
       "      <td>2191.0</td>\n",
       "      <td>1654.0</td>\n",
       "      <td>9.6</td>\n",
       "      <td>67.8</td>\n",
       "      <td>0.8133</td>\n",
       "      <td>2004-03-11 20:00:00</td>\n",
       "      <td>2004</td>\n",
       "      <td>2004-03</td>\n",
       "    </tr>\n",
       "    <tr>\n",
       "      <th>27</th>\n",
       "      <td>2004-03-11</td>\n",
       "      <td>3.900000</td>\n",
       "      <td>1313.0</td>\n",
       "      <td>12.8</td>\n",
       "      <td>1076.0</td>\n",
       "      <td>240.000000</td>\n",
       "      <td>957.0</td>\n",
       "      <td>136.000000</td>\n",
       "      <td>1707.0</td>\n",
       "      <td>1285.0</td>\n",
       "      <td>9.1</td>\n",
       "      <td>64.0</td>\n",
       "      <td>0.7419</td>\n",
       "      <td>2004-03-11 21:00:00</td>\n",
       "      <td>2004</td>\n",
       "      <td>2004-03</td>\n",
       "    </tr>\n",
       "    <tr>\n",
       "      <th>28</th>\n",
       "      <td>2004-03-11</td>\n",
       "      <td>1.500000</td>\n",
       "      <td>965.0</td>\n",
       "      <td>4.7</td>\n",
       "      <td>749.0</td>\n",
       "      <td>94.000000</td>\n",
       "      <td>1325.0</td>\n",
       "      <td>85.000000</td>\n",
       "      <td>1333.0</td>\n",
       "      <td>821.0</td>\n",
       "      <td>8.2</td>\n",
       "      <td>63.4</td>\n",
       "      <td>0.6905</td>\n",
       "      <td>2004-03-11 22:00:00</td>\n",
       "      <td>2004</td>\n",
       "      <td>2004-03</td>\n",
       "    </tr>\n",
       "    <tr>\n",
       "      <th>29</th>\n",
       "      <td>2004-03-11</td>\n",
       "      <td>1.000000</td>\n",
       "      <td>913.0</td>\n",
       "      <td>2.6</td>\n",
       "      <td>629.0</td>\n",
       "      <td>47.000000</td>\n",
       "      <td>1565.0</td>\n",
       "      <td>53.000000</td>\n",
       "      <td>1252.0</td>\n",
       "      <td>552.0</td>\n",
       "      <td>8.2</td>\n",
       "      <td>60.8</td>\n",
       "      <td>0.6657</td>\n",
       "      <td>2004-03-11 23:00:00</td>\n",
       "      <td>2004</td>\n",
       "      <td>2004-03</td>\n",
       "    </tr>\n",
       "    <tr>\n",
       "      <th>...</th>\n",
       "      <td>...</td>\n",
       "      <td>...</td>\n",
       "      <td>...</td>\n",
       "      <td>...</td>\n",
       "      <td>...</td>\n",
       "      <td>...</td>\n",
       "      <td>...</td>\n",
       "      <td>...</td>\n",
       "      <td>...</td>\n",
       "      <td>...</td>\n",
       "      <td>...</td>\n",
       "      <td>...</td>\n",
       "      <td>...</td>\n",
       "      <td>...</td>\n",
       "      <td>...</td>\n",
       "      <td>...</td>\n",
       "    </tr>\n",
       "    <tr>\n",
       "      <th>9327</th>\n",
       "      <td>2005-04-03</td>\n",
       "      <td>1.200000</td>\n",
       "      <td>1022.0</td>\n",
       "      <td>4.1</td>\n",
       "      <td>715.0</td>\n",
       "      <td>192.000000</td>\n",
       "      <td>806.0</td>\n",
       "      <td>118.000000</td>\n",
       "      <td>1004.0</td>\n",
       "      <td>831.0</td>\n",
       "      <td>17.8</td>\n",
       "      <td>30.7</td>\n",
       "      <td>0.6205</td>\n",
       "      <td>2005-04-03 09:00:00</td>\n",
       "      <td>2005</td>\n",
       "      <td>2005-04</td>\n",
       "    </tr>\n",
       "    <tr>\n",
       "      <th>9328</th>\n",
       "      <td>2005-04-03</td>\n",
       "      <td>1.400000</td>\n",
       "      <td>970.0</td>\n",
       "      <td>3.4</td>\n",
       "      <td>677.0</td>\n",
       "      <td>166.000000</td>\n",
       "      <td>888.0</td>\n",
       "      <td>113.000000</td>\n",
       "      <td>931.0</td>\n",
       "      <td>613.0</td>\n",
       "      <td>21.1</td>\n",
       "      <td>23.7</td>\n",
       "      <td>0.5875</td>\n",
       "      <td>2005-04-03 10:00:00</td>\n",
       "      <td>2005</td>\n",
       "      <td>2005-04</td>\n",
       "    </tr>\n",
       "    <tr>\n",
       "      <th>9329</th>\n",
       "      <td>2005-04-03</td>\n",
       "      <td>1.300000</td>\n",
       "      <td>1000.0</td>\n",
       "      <td>5.3</td>\n",
       "      <td>779.0</td>\n",
       "      <td>171.000000</td>\n",
       "      <td>805.0</td>\n",
       "      <td>115.000000</td>\n",
       "      <td>1001.0</td>\n",
       "      <td>640.0</td>\n",
       "      <td>24.0</td>\n",
       "      <td>19.3</td>\n",
       "      <td>0.5673</td>\n",
       "      <td>2005-04-03 11:00:00</td>\n",
       "      <td>2005</td>\n",
       "      <td>2005-04</td>\n",
       "    </tr>\n",
       "    <tr>\n",
       "      <th>9330</th>\n",
       "      <td>2005-04-03</td>\n",
       "      <td>1.400000</td>\n",
       "      <td>996.0</td>\n",
       "      <td>5.3</td>\n",
       "      <td>781.0</td>\n",
       "      <td>177.000000</td>\n",
       "      <td>806.0</td>\n",
       "      <td>124.000000</td>\n",
       "      <td>985.0</td>\n",
       "      <td>631.0</td>\n",
       "      <td>26.5</td>\n",
       "      <td>16.4</td>\n",
       "      <td>0.5594</td>\n",
       "      <td>2005-04-03 12:00:00</td>\n",
       "      <td>2005</td>\n",
       "      <td>2005-04</td>\n",
       "    </tr>\n",
       "    <tr>\n",
       "      <th>9331</th>\n",
       "      <td>2005-04-03</td>\n",
       "      <td>1.000000</td>\n",
       "      <td>928.0</td>\n",
       "      <td>3.8</td>\n",
       "      <td>701.0</td>\n",
       "      <td>119.000000</td>\n",
       "      <td>926.0</td>\n",
       "      <td>86.000000</td>\n",
       "      <td>902.0</td>\n",
       "      <td>456.0</td>\n",
       "      <td>28.7</td>\n",
       "      <td>13.7</td>\n",
       "      <td>0.5302</td>\n",
       "      <td>2005-04-03 13:00:00</td>\n",
       "      <td>2005</td>\n",
       "      <td>2005-04</td>\n",
       "    </tr>\n",
       "    <tr>\n",
       "      <th>9332</th>\n",
       "      <td>2005-04-03</td>\n",
       "      <td>1.000000</td>\n",
       "      <td>933.0</td>\n",
       "      <td>4.2</td>\n",
       "      <td>722.0</td>\n",
       "      <td>121.000000</td>\n",
       "      <td>899.0</td>\n",
       "      <td>87.000000</td>\n",
       "      <td>890.0</td>\n",
       "      <td>450.0</td>\n",
       "      <td>28.5</td>\n",
       "      <td>13.1</td>\n",
       "      <td>0.5002</td>\n",
       "      <td>2005-04-03 14:00:00</td>\n",
       "      <td>2005</td>\n",
       "      <td>2005-04</td>\n",
       "    </tr>\n",
       "    <tr>\n",
       "      <th>9333</th>\n",
       "      <td>2005-04-03</td>\n",
       "      <td>1.100000</td>\n",
       "      <td>956.0</td>\n",
       "      <td>5.4</td>\n",
       "      <td>783.0</td>\n",
       "      <td>142.000000</td>\n",
       "      <td>857.0</td>\n",
       "      <td>100.000000</td>\n",
       "      <td>896.0</td>\n",
       "      <td>516.0</td>\n",
       "      <td>30.0</td>\n",
       "      <td>11.1</td>\n",
       "      <td>0.4624</td>\n",
       "      <td>2005-04-03 15:00:00</td>\n",
       "      <td>2005</td>\n",
       "      <td>2005-04</td>\n",
       "    </tr>\n",
       "    <tr>\n",
       "      <th>9334</th>\n",
       "      <td>2005-04-03</td>\n",
       "      <td>1.300000</td>\n",
       "      <td>968.0</td>\n",
       "      <td>6.3</td>\n",
       "      <td>826.0</td>\n",
       "      <td>197.000000</td>\n",
       "      <td>867.0</td>\n",
       "      <td>132.000000</td>\n",
       "      <td>898.0</td>\n",
       "      <td>548.0</td>\n",
       "      <td>29.4</td>\n",
       "      <td>10.4</td>\n",
       "      <td>0.4192</td>\n",
       "      <td>2005-04-03 16:00:00</td>\n",
       "      <td>2005</td>\n",
       "      <td>2005-04</td>\n",
       "    </tr>\n",
       "    <tr>\n",
       "      <th>9335</th>\n",
       "      <td>2005-04-03</td>\n",
       "      <td>1.400000</td>\n",
       "      <td>953.0</td>\n",
       "      <td>6.1</td>\n",
       "      <td>817.0</td>\n",
       "      <td>242.000000</td>\n",
       "      <td>872.0</td>\n",
       "      <td>156.000000</td>\n",
       "      <td>891.0</td>\n",
       "      <td>603.0</td>\n",
       "      <td>28.9</td>\n",
       "      <td>9.9</td>\n",
       "      <td>0.3866</td>\n",
       "      <td>2005-04-03 17:00:00</td>\n",
       "      <td>2005</td>\n",
       "      <td>2005-04</td>\n",
       "    </tr>\n",
       "    <tr>\n",
       "      <th>9336</th>\n",
       "      <td>2005-04-03</td>\n",
       "      <td>1.200000</td>\n",
       "      <td>1015.0</td>\n",
       "      <td>4.6</td>\n",
       "      <td>743.0</td>\n",
       "      <td>190.000000</td>\n",
       "      <td>851.0</td>\n",
       "      <td>138.000000</td>\n",
       "      <td>981.0</td>\n",
       "      <td>597.0</td>\n",
       "      <td>22.8</td>\n",
       "      <td>21.7</td>\n",
       "      <td>0.5945</td>\n",
       "      <td>2005-04-03 18:00:00</td>\n",
       "      <td>2005</td>\n",
       "      <td>2005-04</td>\n",
       "    </tr>\n",
       "    <tr>\n",
       "      <th>9337</th>\n",
       "      <td>2005-04-03</td>\n",
       "      <td>2.700000</td>\n",
       "      <td>1248.0</td>\n",
       "      <td>11.1</td>\n",
       "      <td>1018.0</td>\n",
       "      <td>367.000000</td>\n",
       "      <td>599.0</td>\n",
       "      <td>181.000000</td>\n",
       "      <td>1289.0</td>\n",
       "      <td>1167.0</td>\n",
       "      <td>19.9</td>\n",
       "      <td>33.0</td>\n",
       "      <td>0.7608</td>\n",
       "      <td>2005-04-03 19:00:00</td>\n",
       "      <td>2005</td>\n",
       "      <td>2005-04</td>\n",
       "    </tr>\n",
       "    <tr>\n",
       "      <th>9338</th>\n",
       "      <td>2005-04-03</td>\n",
       "      <td>2.500000</td>\n",
       "      <td>1180.0</td>\n",
       "      <td>7.9</td>\n",
       "      <td>894.0</td>\n",
       "      <td>355.000000</td>\n",
       "      <td>636.0</td>\n",
       "      <td>187.000000</td>\n",
       "      <td>1200.0</td>\n",
       "      <td>1372.0</td>\n",
       "      <td>17.5</td>\n",
       "      <td>40.7</td>\n",
       "      <td>0.8073</td>\n",
       "      <td>2005-04-03 20:00:00</td>\n",
       "      <td>2005</td>\n",
       "      <td>2005-04</td>\n",
       "    </tr>\n",
       "    <tr>\n",
       "      <th>9339</th>\n",
       "      <td>2005-04-03</td>\n",
       "      <td>1.500000</td>\n",
       "      <td>1102.0</td>\n",
       "      <td>6.0</td>\n",
       "      <td>812.0</td>\n",
       "      <td>235.000000</td>\n",
       "      <td>693.0</td>\n",
       "      <td>158.000000</td>\n",
       "      <td>1178.0</td>\n",
       "      <td>1042.0</td>\n",
       "      <td>16.4</td>\n",
       "      <td>46.6</td>\n",
       "      <td>0.8642</td>\n",
       "      <td>2005-04-03 21:00:00</td>\n",
       "      <td>2005</td>\n",
       "      <td>2005-04</td>\n",
       "    </tr>\n",
       "    <tr>\n",
       "      <th>9340</th>\n",
       "      <td>2005-04-03</td>\n",
       "      <td>1.600000</td>\n",
       "      <td>1116.0</td>\n",
       "      <td>5.8</td>\n",
       "      <td>803.0</td>\n",
       "      <td>233.000000</td>\n",
       "      <td>696.0</td>\n",
       "      <td>153.000000</td>\n",
       "      <td>1173.0</td>\n",
       "      <td>1055.0</td>\n",
       "      <td>15.5</td>\n",
       "      <td>49.0</td>\n",
       "      <td>0.8579</td>\n",
       "      <td>2005-04-03 22:00:00</td>\n",
       "      <td>2005</td>\n",
       "      <td>2005-04</td>\n",
       "    </tr>\n",
       "    <tr>\n",
       "      <th>9341</th>\n",
       "      <td>2005-04-03</td>\n",
       "      <td>1.200000</td>\n",
       "      <td>1100.0</td>\n",
       "      <td>5.1</td>\n",
       "      <td>769.0</td>\n",
       "      <td>170.000000</td>\n",
       "      <td>722.0</td>\n",
       "      <td>128.000000</td>\n",
       "      <td>1147.0</td>\n",
       "      <td>1049.0</td>\n",
       "      <td>14.3</td>\n",
       "      <td>52.5</td>\n",
       "      <td>0.8497</td>\n",
       "      <td>2005-04-03 23:00:00</td>\n",
       "      <td>2005</td>\n",
       "      <td>2005-04</td>\n",
       "    </tr>\n",
       "    <tr>\n",
       "      <th>9342</th>\n",
       "      <td>2005-04-04</td>\n",
       "      <td>0.900000</td>\n",
       "      <td>1012.0</td>\n",
       "      <td>3.5</td>\n",
       "      <td>683.0</td>\n",
       "      <td>117.000000</td>\n",
       "      <td>801.0</td>\n",
       "      <td>93.000000</td>\n",
       "      <td>1073.0</td>\n",
       "      <td>816.0</td>\n",
       "      <td>14.2</td>\n",
       "      <td>51.4</td>\n",
       "      <td>0.8275</td>\n",
       "      <td>2005-04-04 00:00:00</td>\n",
       "      <td>2005</td>\n",
       "      <td>2005-04</td>\n",
       "    </tr>\n",
       "    <tr>\n",
       "      <th>9343</th>\n",
       "      <td>2005-04-04</td>\n",
       "      <td>0.600000</td>\n",
       "      <td>944.0</td>\n",
       "      <td>1.9</td>\n",
       "      <td>579.0</td>\n",
       "      <td>70.000000</td>\n",
       "      <td>925.0</td>\n",
       "      <td>58.000000</td>\n",
       "      <td>1002.0</td>\n",
       "      <td>598.0</td>\n",
       "      <td>13.8</td>\n",
       "      <td>51.2</td>\n",
       "      <td>0.8058</td>\n",
       "      <td>2005-04-04 01:00:00</td>\n",
       "      <td>2005</td>\n",
       "      <td>2005-04</td>\n",
       "    </tr>\n",
       "    <tr>\n",
       "      <th>9344</th>\n",
       "      <td>2005-04-04</td>\n",
       "      <td>0.500000</td>\n",
       "      <td>912.0</td>\n",
       "      <td>1.5</td>\n",
       "      <td>544.0</td>\n",
       "      <td>69.000000</td>\n",
       "      <td>959.0</td>\n",
       "      <td>55.000000</td>\n",
       "      <td>1002.0</td>\n",
       "      <td>573.0</td>\n",
       "      <td>12.1</td>\n",
       "      <td>56.3</td>\n",
       "      <td>0.7927</td>\n",
       "      <td>2005-04-04 02:00:00</td>\n",
       "      <td>2005</td>\n",
       "      <td>2005-04</td>\n",
       "    </tr>\n",
       "    <tr>\n",
       "      <th>9345</th>\n",
       "      <td>2005-04-04</td>\n",
       "      <td>0.400000</td>\n",
       "      <td>887.0</td>\n",
       "      <td>1.1</td>\n",
       "      <td>508.0</td>\n",
       "      <td>62.000000</td>\n",
       "      <td>1047.0</td>\n",
       "      <td>51.000000</td>\n",
       "      <td>974.0</td>\n",
       "      <td>549.0</td>\n",
       "      <td>11.3</td>\n",
       "      <td>58.9</td>\n",
       "      <td>0.7888</td>\n",
       "      <td>2005-04-04 03:00:00</td>\n",
       "      <td>2005</td>\n",
       "      <td>2005-04</td>\n",
       "    </tr>\n",
       "    <tr>\n",
       "      <th>9346</th>\n",
       "      <td>2005-04-04</td>\n",
       "      <td>2.078571</td>\n",
       "      <td>864.0</td>\n",
       "      <td>0.8</td>\n",
       "      <td>478.0</td>\n",
       "      <td>52.000000</td>\n",
       "      <td>1116.0</td>\n",
       "      <td>43.000000</td>\n",
       "      <td>958.0</td>\n",
       "      <td>489.0</td>\n",
       "      <td>11.8</td>\n",
       "      <td>56.0</td>\n",
       "      <td>0.7743</td>\n",
       "      <td>2005-04-04 04:00:00</td>\n",
       "      <td>2005</td>\n",
       "      <td>2005-04</td>\n",
       "    </tr>\n",
       "    <tr>\n",
       "      <th>9347</th>\n",
       "      <td>2005-04-04</td>\n",
       "      <td>0.500000</td>\n",
       "      <td>888.0</td>\n",
       "      <td>1.3</td>\n",
       "      <td>528.0</td>\n",
       "      <td>77.000000</td>\n",
       "      <td>1077.0</td>\n",
       "      <td>53.000000</td>\n",
       "      <td>987.0</td>\n",
       "      <td>578.0</td>\n",
       "      <td>10.4</td>\n",
       "      <td>59.9</td>\n",
       "      <td>0.7550</td>\n",
       "      <td>2005-04-04 05:00:00</td>\n",
       "      <td>2005</td>\n",
       "      <td>2005-04</td>\n",
       "    </tr>\n",
       "    <tr>\n",
       "      <th>9348</th>\n",
       "      <td>2005-04-04</td>\n",
       "      <td>1.100000</td>\n",
       "      <td>1031.0</td>\n",
       "      <td>4.4</td>\n",
       "      <td>730.0</td>\n",
       "      <td>182.000000</td>\n",
       "      <td>760.0</td>\n",
       "      <td>93.000000</td>\n",
       "      <td>1129.0</td>\n",
       "      <td>905.0</td>\n",
       "      <td>9.5</td>\n",
       "      <td>63.1</td>\n",
       "      <td>0.7531</td>\n",
       "      <td>2005-04-04 06:00:00</td>\n",
       "      <td>2005</td>\n",
       "      <td>2005-04</td>\n",
       "    </tr>\n",
       "    <tr>\n",
       "      <th>9349</th>\n",
       "      <td>2005-04-04</td>\n",
       "      <td>4.000000</td>\n",
       "      <td>1384.0</td>\n",
       "      <td>17.4</td>\n",
       "      <td>1221.0</td>\n",
       "      <td>594.000000</td>\n",
       "      <td>470.0</td>\n",
       "      <td>155.000000</td>\n",
       "      <td>1600.0</td>\n",
       "      <td>1457.0</td>\n",
       "      <td>9.7</td>\n",
       "      <td>61.9</td>\n",
       "      <td>0.7446</td>\n",
       "      <td>2005-04-04 07:00:00</td>\n",
       "      <td>2005</td>\n",
       "      <td>2005-04</td>\n",
       "    </tr>\n",
       "    <tr>\n",
       "      <th>9350</th>\n",
       "      <td>2005-04-04</td>\n",
       "      <td>5.000000</td>\n",
       "      <td>1446.0</td>\n",
       "      <td>22.4</td>\n",
       "      <td>1362.0</td>\n",
       "      <td>586.000000</td>\n",
       "      <td>415.0</td>\n",
       "      <td>174.000000</td>\n",
       "      <td>1777.0</td>\n",
       "      <td>1705.0</td>\n",
       "      <td>13.5</td>\n",
       "      <td>48.9</td>\n",
       "      <td>0.7553</td>\n",
       "      <td>2005-04-04 08:00:00</td>\n",
       "      <td>2005</td>\n",
       "      <td>2005-04</td>\n",
       "    </tr>\n",
       "    <tr>\n",
       "      <th>9351</th>\n",
       "      <td>2005-04-04</td>\n",
       "      <td>3.900000</td>\n",
       "      <td>1297.0</td>\n",
       "      <td>13.6</td>\n",
       "      <td>1102.0</td>\n",
       "      <td>523.000000</td>\n",
       "      <td>507.0</td>\n",
       "      <td>187.000000</td>\n",
       "      <td>1375.0</td>\n",
       "      <td>1583.0</td>\n",
       "      <td>18.2</td>\n",
       "      <td>36.3</td>\n",
       "      <td>0.7487</td>\n",
       "      <td>2005-04-04 09:00:00</td>\n",
       "      <td>2005</td>\n",
       "      <td>2005-04</td>\n",
       "    </tr>\n",
       "    <tr>\n",
       "      <th>9352</th>\n",
       "      <td>2005-04-04</td>\n",
       "      <td>3.100000</td>\n",
       "      <td>1314.0</td>\n",
       "      <td>13.5</td>\n",
       "      <td>1101.0</td>\n",
       "      <td>472.000000</td>\n",
       "      <td>539.0</td>\n",
       "      <td>190.000000</td>\n",
       "      <td>1374.0</td>\n",
       "      <td>1729.0</td>\n",
       "      <td>21.9</td>\n",
       "      <td>29.3</td>\n",
       "      <td>0.7568</td>\n",
       "      <td>2005-04-04 10:00:00</td>\n",
       "      <td>2005</td>\n",
       "      <td>2005-04</td>\n",
       "    </tr>\n",
       "    <tr>\n",
       "      <th>9353</th>\n",
       "      <td>2005-04-04</td>\n",
       "      <td>2.400000</td>\n",
       "      <td>1163.0</td>\n",
       "      <td>11.4</td>\n",
       "      <td>1027.0</td>\n",
       "      <td>353.000000</td>\n",
       "      <td>604.0</td>\n",
       "      <td>179.000000</td>\n",
       "      <td>1264.0</td>\n",
       "      <td>1269.0</td>\n",
       "      <td>24.3</td>\n",
       "      <td>23.7</td>\n",
       "      <td>0.7119</td>\n",
       "      <td>2005-04-04 11:00:00</td>\n",
       "      <td>2005</td>\n",
       "      <td>2005-04</td>\n",
       "    </tr>\n",
       "    <tr>\n",
       "      <th>9354</th>\n",
       "      <td>2005-04-04</td>\n",
       "      <td>2.400000</td>\n",
       "      <td>1142.0</td>\n",
       "      <td>12.4</td>\n",
       "      <td>1063.0</td>\n",
       "      <td>293.000000</td>\n",
       "      <td>603.0</td>\n",
       "      <td>175.000000</td>\n",
       "      <td>1241.0</td>\n",
       "      <td>1092.0</td>\n",
       "      <td>26.9</td>\n",
       "      <td>18.3</td>\n",
       "      <td>0.6406</td>\n",
       "      <td>2005-04-04 12:00:00</td>\n",
       "      <td>2005</td>\n",
       "      <td>2005-04</td>\n",
       "    </tr>\n",
       "    <tr>\n",
       "      <th>9355</th>\n",
       "      <td>2005-04-04</td>\n",
       "      <td>2.100000</td>\n",
       "      <td>1003.0</td>\n",
       "      <td>9.5</td>\n",
       "      <td>961.0</td>\n",
       "      <td>235.000000</td>\n",
       "      <td>702.0</td>\n",
       "      <td>156.000000</td>\n",
       "      <td>1041.0</td>\n",
       "      <td>770.0</td>\n",
       "      <td>28.3</td>\n",
       "      <td>13.5</td>\n",
       "      <td>0.5139</td>\n",
       "      <td>2005-04-04 13:00:00</td>\n",
       "      <td>2005</td>\n",
       "      <td>2005-04</td>\n",
       "    </tr>\n",
       "    <tr>\n",
       "      <th>9356</th>\n",
       "      <td>2005-04-04</td>\n",
       "      <td>2.200000</td>\n",
       "      <td>1071.0</td>\n",
       "      <td>11.9</td>\n",
       "      <td>1047.0</td>\n",
       "      <td>265.000000</td>\n",
       "      <td>654.0</td>\n",
       "      <td>168.000000</td>\n",
       "      <td>1129.0</td>\n",
       "      <td>816.0</td>\n",
       "      <td>28.5</td>\n",
       "      <td>13.1</td>\n",
       "      <td>0.5028</td>\n",
       "      <td>2005-04-04 14:00:00</td>\n",
       "      <td>2005</td>\n",
       "      <td>2005-04</td>\n",
       "    </tr>\n",
       "  </tbody>\n",
       "</table>\n",
       "<p>9357 rows × 16 columns</p>\n",
       "</div>"
      ],
      "text/plain": [
       "           Date    CO(GT)  PT08.S1(CO)  C6H6(GT)  PT08.S2(NMHC)     NOx(GT)  \\\n",
       "0    2004-03-10  2.600000       1360.0      11.9         1046.0  166.000000   \n",
       "1    2004-03-10  2.000000       1292.0       9.4          955.0  103.000000   \n",
       "2    2004-03-10  2.200000       1402.0       9.0          939.0  131.000000   \n",
       "3    2004-03-10  2.200000       1376.0       9.2          948.0  172.000000   \n",
       "4    2004-03-10  1.600000       1272.0       6.5          836.0  131.000000   \n",
       "5    2004-03-10  1.200000       1197.0       4.7          750.0   89.000000   \n",
       "6    2004-03-11  1.200000       1185.0       3.6          690.0   62.000000   \n",
       "7    2004-03-11  1.000000       1136.0       3.3          672.0   62.000000   \n",
       "8    2004-03-11  0.900000       1094.0       2.3          609.0   45.000000   \n",
       "9    2004-03-11  0.600000       1010.0       1.7          561.0  144.391304   \n",
       "10   2004-03-11  2.239130       1011.0       1.3          527.0   21.000000   \n",
       "11   2004-03-11  0.700000       1066.0       1.1          512.0   16.000000   \n",
       "12   2004-03-11  0.700000       1052.0       1.6          553.0   34.000000   \n",
       "13   2004-03-11  1.100000       1144.0       3.2          667.0   98.000000   \n",
       "14   2004-03-11  2.000000       1333.0       8.0          900.0  174.000000   \n",
       "15   2004-03-11  2.200000       1351.0       9.5          960.0  129.000000   \n",
       "16   2004-03-11  1.700000       1233.0       6.3          827.0  112.000000   \n",
       "17   2004-03-11  1.500000       1179.0       5.0          762.0   95.000000   \n",
       "18   2004-03-11  1.600000       1236.0       5.2          774.0  104.000000   \n",
       "19   2004-03-11  1.900000       1286.0       7.3          869.0  146.000000   \n",
       "20   2004-03-11  2.900000       1371.0      11.5         1034.0  207.000000   \n",
       "21   2004-03-11  2.200000       1310.0       8.8          933.0  184.000000   \n",
       "22   2004-03-11  2.200000       1292.0       8.3          912.0  193.000000   \n",
       "23   2004-03-11  2.900000       1383.0      11.2         1020.0  243.000000   \n",
       "24   2004-03-11  4.800000       1581.0      20.8         1319.0  281.000000   \n",
       "25   2004-03-11  6.900000       1776.0      27.4         1488.0  383.000000   \n",
       "26   2004-03-11  6.100000       1640.0      24.0         1404.0  351.000000   \n",
       "27   2004-03-11  3.900000       1313.0      12.8         1076.0  240.000000   \n",
       "28   2004-03-11  1.500000        965.0       4.7          749.0   94.000000   \n",
       "29   2004-03-11  1.000000        913.0       2.6          629.0   47.000000   \n",
       "...         ...       ...          ...       ...            ...         ...   \n",
       "9327 2005-04-03  1.200000       1022.0       4.1          715.0  192.000000   \n",
       "9328 2005-04-03  1.400000        970.0       3.4          677.0  166.000000   \n",
       "9329 2005-04-03  1.300000       1000.0       5.3          779.0  171.000000   \n",
       "9330 2005-04-03  1.400000        996.0       5.3          781.0  177.000000   \n",
       "9331 2005-04-03  1.000000        928.0       3.8          701.0  119.000000   \n",
       "9332 2005-04-03  1.000000        933.0       4.2          722.0  121.000000   \n",
       "9333 2005-04-03  1.100000        956.0       5.4          783.0  142.000000   \n",
       "9334 2005-04-03  1.300000        968.0       6.3          826.0  197.000000   \n",
       "9335 2005-04-03  1.400000        953.0       6.1          817.0  242.000000   \n",
       "9336 2005-04-03  1.200000       1015.0       4.6          743.0  190.000000   \n",
       "9337 2005-04-03  2.700000       1248.0      11.1         1018.0  367.000000   \n",
       "9338 2005-04-03  2.500000       1180.0       7.9          894.0  355.000000   \n",
       "9339 2005-04-03  1.500000       1102.0       6.0          812.0  235.000000   \n",
       "9340 2005-04-03  1.600000       1116.0       5.8          803.0  233.000000   \n",
       "9341 2005-04-03  1.200000       1100.0       5.1          769.0  170.000000   \n",
       "9342 2005-04-04  0.900000       1012.0       3.5          683.0  117.000000   \n",
       "9343 2005-04-04  0.600000        944.0       1.9          579.0   70.000000   \n",
       "9344 2005-04-04  0.500000        912.0       1.5          544.0   69.000000   \n",
       "9345 2005-04-04  0.400000        887.0       1.1          508.0   62.000000   \n",
       "9346 2005-04-04  2.078571        864.0       0.8          478.0   52.000000   \n",
       "9347 2005-04-04  0.500000        888.0       1.3          528.0   77.000000   \n",
       "9348 2005-04-04  1.100000       1031.0       4.4          730.0  182.000000   \n",
       "9349 2005-04-04  4.000000       1384.0      17.4         1221.0  594.000000   \n",
       "9350 2005-04-04  5.000000       1446.0      22.4         1362.0  586.000000   \n",
       "9351 2005-04-04  3.900000       1297.0      13.6         1102.0  523.000000   \n",
       "9352 2005-04-04  3.100000       1314.0      13.5         1101.0  472.000000   \n",
       "9353 2005-04-04  2.400000       1163.0      11.4         1027.0  353.000000   \n",
       "9354 2005-04-04  2.400000       1142.0      12.4         1063.0  293.000000   \n",
       "9355 2005-04-04  2.100000       1003.0       9.5          961.0  235.000000   \n",
       "9356 2005-04-04  2.200000       1071.0      11.9         1047.0  265.000000   \n",
       "\n",
       "      PT08.S3(NOx)     NO2(GT)  PT08.S4(NO2)  PT08.S5(O3)     T    RH      AH  \\\n",
       "0           1056.0  113.000000        1692.0       1268.0  13.6  48.9  0.7578   \n",
       "1           1174.0   92.000000        1559.0        972.0  13.3  47.7  0.7255   \n",
       "2           1140.0  114.000000        1555.0       1074.0  11.9  54.0  0.7502   \n",
       "3           1092.0  122.000000        1584.0       1203.0  11.0  60.0  0.7867   \n",
       "4           1205.0  116.000000        1490.0       1110.0  11.2  59.6  0.7888   \n",
       "5           1337.0   96.000000        1393.0        949.0  11.2  59.2  0.7848   \n",
       "6           1462.0   77.000000        1333.0        733.0  11.3  56.8  0.7603   \n",
       "7           1453.0   76.000000        1333.0        730.0  10.7  60.0  0.7702   \n",
       "8           1579.0   60.000000        1276.0        620.0  10.7  59.7  0.7648   \n",
       "9           1705.0   99.869565        1235.0        501.0  10.3  60.2  0.7517   \n",
       "10          1818.0   34.000000        1197.0        445.0  10.1  60.5  0.7465   \n",
       "11          1918.0   28.000000        1182.0        422.0  11.0  56.2  0.7366   \n",
       "12          1738.0   48.000000        1221.0        472.0  10.5  58.1  0.7353   \n",
       "13          1490.0   82.000000        1339.0        730.0  10.2  59.6  0.7417   \n",
       "14          1136.0  112.000000        1517.0       1102.0  10.8  57.4  0.7408   \n",
       "15          1079.0  101.000000        1583.0       1028.0  10.5  60.6  0.7691   \n",
       "16          1218.0   98.000000        1446.0        860.0  10.8  58.4  0.7552   \n",
       "17          1328.0   92.000000        1362.0        671.0  10.5  57.9  0.7352   \n",
       "18          1301.0   95.000000        1401.0        664.0   9.5  66.8  0.7951   \n",
       "19          1162.0  112.000000        1537.0        799.0   8.3  76.4  0.8393   \n",
       "20           983.0  128.000000        1730.0       1037.0   8.0  81.1  0.8736   \n",
       "21          1082.0  126.000000        1647.0        946.0   8.3  79.8  0.8778   \n",
       "22          1103.0  131.000000        1591.0        957.0   9.7  71.2  0.8569   \n",
       "23          1008.0  135.000000        1719.0       1104.0   9.8  67.6  0.8185   \n",
       "24           799.0  151.000000        2083.0       1409.0  10.3  64.2  0.8065   \n",
       "25           702.0  172.000000        2333.0       1704.0   9.7  69.3  0.8319   \n",
       "26           743.0  165.000000        2191.0       1654.0   9.6  67.8  0.8133   \n",
       "27           957.0  136.000000        1707.0       1285.0   9.1  64.0  0.7419   \n",
       "28          1325.0   85.000000        1333.0        821.0   8.2  63.4  0.6905   \n",
       "29          1565.0   53.000000        1252.0        552.0   8.2  60.8  0.6657   \n",
       "...            ...         ...           ...          ...   ...   ...     ...   \n",
       "9327         806.0  118.000000        1004.0        831.0  17.8  30.7  0.6205   \n",
       "9328         888.0  113.000000         931.0        613.0  21.1  23.7  0.5875   \n",
       "9329         805.0  115.000000        1001.0        640.0  24.0  19.3  0.5673   \n",
       "9330         806.0  124.000000         985.0        631.0  26.5  16.4  0.5594   \n",
       "9331         926.0   86.000000         902.0        456.0  28.7  13.7  0.5302   \n",
       "9332         899.0   87.000000         890.0        450.0  28.5  13.1  0.5002   \n",
       "9333         857.0  100.000000         896.0        516.0  30.0  11.1  0.4624   \n",
       "9334         867.0  132.000000         898.0        548.0  29.4  10.4  0.4192   \n",
       "9335         872.0  156.000000         891.0        603.0  28.9   9.9  0.3866   \n",
       "9336         851.0  138.000000         981.0        597.0  22.8  21.7  0.5945   \n",
       "9337         599.0  181.000000        1289.0       1167.0  19.9  33.0  0.7608   \n",
       "9338         636.0  187.000000        1200.0       1372.0  17.5  40.7  0.8073   \n",
       "9339         693.0  158.000000        1178.0       1042.0  16.4  46.6  0.8642   \n",
       "9340         696.0  153.000000        1173.0       1055.0  15.5  49.0  0.8579   \n",
       "9341         722.0  128.000000        1147.0       1049.0  14.3  52.5  0.8497   \n",
       "9342         801.0   93.000000        1073.0        816.0  14.2  51.4  0.8275   \n",
       "9343         925.0   58.000000        1002.0        598.0  13.8  51.2  0.8058   \n",
       "9344         959.0   55.000000        1002.0        573.0  12.1  56.3  0.7927   \n",
       "9345        1047.0   51.000000         974.0        549.0  11.3  58.9  0.7888   \n",
       "9346        1116.0   43.000000         958.0        489.0  11.8  56.0  0.7743   \n",
       "9347        1077.0   53.000000         987.0        578.0  10.4  59.9  0.7550   \n",
       "9348         760.0   93.000000        1129.0        905.0   9.5  63.1  0.7531   \n",
       "9349         470.0  155.000000        1600.0       1457.0   9.7  61.9  0.7446   \n",
       "9350         415.0  174.000000        1777.0       1705.0  13.5  48.9  0.7553   \n",
       "9351         507.0  187.000000        1375.0       1583.0  18.2  36.3  0.7487   \n",
       "9352         539.0  190.000000        1374.0       1729.0  21.9  29.3  0.7568   \n",
       "9353         604.0  179.000000        1264.0       1269.0  24.3  23.7  0.7119   \n",
       "9354         603.0  175.000000        1241.0       1092.0  26.9  18.3  0.6406   \n",
       "9355         702.0  156.000000        1041.0        770.0  28.3  13.5  0.5139   \n",
       "9356         654.0  168.000000        1129.0        816.0  28.5  13.1  0.5028   \n",
       "\n",
       "                DateTime  Year YearMonth  \n",
       "0    2004-03-10 18:00:00  2004   2004-03  \n",
       "1    2004-03-10 19:00:00  2004   2004-03  \n",
       "2    2004-03-10 20:00:00  2004   2004-03  \n",
       "3    2004-03-10 21:00:00  2004   2004-03  \n",
       "4    2004-03-10 22:00:00  2004   2004-03  \n",
       "5    2004-03-10 23:00:00  2004   2004-03  \n",
       "6    2004-03-11 00:00:00  2004   2004-03  \n",
       "7    2004-03-11 01:00:00  2004   2004-03  \n",
       "8    2004-03-11 02:00:00  2004   2004-03  \n",
       "9    2004-03-11 03:00:00  2004   2004-03  \n",
       "10   2004-03-11 04:00:00  2004   2004-03  \n",
       "11   2004-03-11 05:00:00  2004   2004-03  \n",
       "12   2004-03-11 06:00:00  2004   2004-03  \n",
       "13   2004-03-11 07:00:00  2004   2004-03  \n",
       "14   2004-03-11 08:00:00  2004   2004-03  \n",
       "15   2004-03-11 09:00:00  2004   2004-03  \n",
       "16   2004-03-11 10:00:00  2004   2004-03  \n",
       "17   2004-03-11 11:00:00  2004   2004-03  \n",
       "18   2004-03-11 12:00:00  2004   2004-03  \n",
       "19   2004-03-11 13:00:00  2004   2004-03  \n",
       "20   2004-03-11 14:00:00  2004   2004-03  \n",
       "21   2004-03-11 15:00:00  2004   2004-03  \n",
       "22   2004-03-11 16:00:00  2004   2004-03  \n",
       "23   2004-03-11 17:00:00  2004   2004-03  \n",
       "24   2004-03-11 18:00:00  2004   2004-03  \n",
       "25   2004-03-11 19:00:00  2004   2004-03  \n",
       "26   2004-03-11 20:00:00  2004   2004-03  \n",
       "27   2004-03-11 21:00:00  2004   2004-03  \n",
       "28   2004-03-11 22:00:00  2004   2004-03  \n",
       "29   2004-03-11 23:00:00  2004   2004-03  \n",
       "...                  ...   ...       ...  \n",
       "9327 2005-04-03 09:00:00  2005   2005-04  \n",
       "9328 2005-04-03 10:00:00  2005   2005-04  \n",
       "9329 2005-04-03 11:00:00  2005   2005-04  \n",
       "9330 2005-04-03 12:00:00  2005   2005-04  \n",
       "9331 2005-04-03 13:00:00  2005   2005-04  \n",
       "9332 2005-04-03 14:00:00  2005   2005-04  \n",
       "9333 2005-04-03 15:00:00  2005   2005-04  \n",
       "9334 2005-04-03 16:00:00  2005   2005-04  \n",
       "9335 2005-04-03 17:00:00  2005   2005-04  \n",
       "9336 2005-04-03 18:00:00  2005   2005-04  \n",
       "9337 2005-04-03 19:00:00  2005   2005-04  \n",
       "9338 2005-04-03 20:00:00  2005   2005-04  \n",
       "9339 2005-04-03 21:00:00  2005   2005-04  \n",
       "9340 2005-04-03 22:00:00  2005   2005-04  \n",
       "9341 2005-04-03 23:00:00  2005   2005-04  \n",
       "9342 2005-04-04 00:00:00  2005   2005-04  \n",
       "9343 2005-04-04 01:00:00  2005   2005-04  \n",
       "9344 2005-04-04 02:00:00  2005   2005-04  \n",
       "9345 2005-04-04 03:00:00  2005   2005-04  \n",
       "9346 2005-04-04 04:00:00  2005   2005-04  \n",
       "9347 2005-04-04 05:00:00  2005   2005-04  \n",
       "9348 2005-04-04 06:00:00  2005   2005-04  \n",
       "9349 2005-04-04 07:00:00  2005   2005-04  \n",
       "9350 2005-04-04 08:00:00  2005   2005-04  \n",
       "9351 2005-04-04 09:00:00  2005   2005-04  \n",
       "9352 2005-04-04 10:00:00  2005   2005-04  \n",
       "9353 2005-04-04 11:00:00  2005   2005-04  \n",
       "9354 2005-04-04 12:00:00  2005   2005-04  \n",
       "9355 2005-04-04 13:00:00  2005   2005-04  \n",
       "9356 2005-04-04 14:00:00  2005   2005-04  \n",
       "\n",
       "[9357 rows x 16 columns]"
      ]
     },
     "execution_count": 36,
     "metadata": {},
     "output_type": "execute_result"
    }
   ],
   "source": [
    "dfc"
   ]
  },
  {
   "cell_type": "markdown",
   "metadata": {
    "collapsed": true
   },
   "source": [
    "As from the correlation heatmap or the values in the correlation matrix, we can see that there is a very significant correlation between the gases among themselves. Also NOx(GT) and NO2(GT) are also highly correlated as expected, because the NO2(GT) is a subset value of the NOx(GT) values.\n",
    "The temperature(T), RH and AH values show somewhat significant correlation around 0.60 amongst themselves, but are very weakly correlated with the gas concentration attributes.Hence in a model approximating the gas concentrations, T, RH or AH values might not contribute well in the model estimation.\n",
    "The value of correlation in the correlation matrix above 0.6-0.7 is generally considered a decent correlation. The correlations grater than 0.8 are good, and the ones with values grater than 0.9 are very well corelated."
   ]
  },
  {
   "cell_type": "markdown",
   "metadata": {},
   "source": [
    "Linear Regression"
   ]
  },
  {
   "cell_type": "markdown",
   "metadata": {},
   "source": [
    "Question:\n",
    "   * Find a significant linear relation of your choosing in your data. Create a multivariate linear model. (50 points)\n",
    "Answer the following questions for the multivariate linear model:\n",
    "* Is the relationship significant?   \n",
    "* Are any model assumptions violated?   \n",
    "* Is there any multi-colinearity in the model?   \n",
    "* In the multiple regression models are predictor variables independent of all the other predictor variables?   \n",
    "* In in multiple regression models rank the most significant predictor variables and exclude insignificant ones from the model.   \n",
    "* Does the model make sense?  \n",
    "* Cross-validate the model. How well did it do?      \n",
    "* Does regularization help with creating models that validate better on out of sample data?   "
   ]
  },
  {
   "cell_type": "markdown",
   "metadata": {},
   "source": [
    "We will try to predict the column values of C6H6 using other columns, As it has significant linear relationships with other gas concentrations. Also from the p-values of each relationship, we can infer that for p-value <0.05, we can reject the null hypothesis and the there is strong significant relationship between the attributes. As from the correlation matrix we can see that the columns T, AH, RH, Year and PT08.S3(NOx). "
   ]
  },
  {
   "cell_type": "markdown",
   "metadata": {},
   "source": [
    "- In the multiple regression model, predictor variables are not independent of all the other predictor variables.  \n",
    "Variable to predict: 'C6H6(GT)'\n",
    "Also,ranking the most significant predictor variables:\n",
    "1.'PT08.S2(NMHC)'\n",
    "2.'PT08.S1(CO)'\n",
    "3.'PT08.S5(O3)'\n",
    "4.'CO(GT)'\n",
    "5.'PT08.S4(NO2)'\n",
    "6.'NOx(GT)'\n",
    "7.'NO2(GT)'\n",
    "\n",
    "Neglected columns due to poor correlation:\n",
    "'Date', 'Time', 'NMHC(GT)','PT08.S3(NOx)' 'T', 'RH', 'AH',\n"
   ]
  },
  {
   "cell_type": "code",
   "execution_count": 37,
   "metadata": {},
   "outputs": [
    {
     "data": {
      "text/plain": [
       "<seaborn.axisgrid.JointGrid at 0x1a15618358>"
      ]
     },
     "execution_count": 37,
     "metadata": {},
     "output_type": "execute_result"
    },
    {
     "data": {
      "image/png": "[encoded data removed]",
      "text/plain": [
       "<matplotlib.figure.Figure at 0x1a15618320>"
      ]
     },
     "metadata": {},
     "output_type": "display_data"
    }
   ],
   "source": [
    "sns.jointplot(x=\"CO(GT)\", y=\"C6H6(GT)\", data=dfc, kind=\"reg\")"
   ]
  },
  {
   "cell_type": "code",
   "execution_count": 38,
   "metadata": {},
   "outputs": [
    {
     "data": {
      "text/plain": [
       "<seaborn.axisgrid.JointGrid at 0x1a15618978>"
      ]
     },
     "execution_count": 38,
     "metadata": {},
     "output_type": "execute_result"
    },
    {
     "data": {
      "image/png": "[encoded data removed]",
      "text/plain": [
       "<matplotlib.figure.Figure at 0x1a15618240>"
      ]
     },
     "metadata": {},
     "output_type": "display_data"
    }
   ],
   "source": [
    "sns.jointplot(x=\"PT08.S1(CO)\", y=\"C6H6(GT)\", data=dfc, kind=\"reg\")"
   ]
  },
  {
   "cell_type": "code",
   "execution_count": 39,
   "metadata": {},
   "outputs": [
    {
     "data": {
      "text/plain": [
       "<seaborn.axisgrid.JointGrid at 0x1a156180f0>"
      ]
     },
     "execution_count": 39,
     "metadata": {},
     "output_type": "execute_result"
    },
    {
     "data": {
      "image/png": "[encoded data removed]",
      "text/plain": [
       "<matplotlib.figure.Figure at 0x1a15618f28>"
      ]
     },
     "metadata": {},
     "output_type": "display_data"
    }
   ],
   "source": [
    "sns.jointplot(x=\"PT08.S2(NMHC)\", y=\"C6H6(GT)\", data=dfc, kind=\"reg\")"
   ]
  },
  {
   "cell_type": "code",
   "execution_count": 40,
   "metadata": {},
   "outputs": [
    {
     "data": {
      "text/plain": [
       "<seaborn.axisgrid.JointGrid at 0x1a15ad2a20>"
      ]
     },
     "execution_count": 40,
     "metadata": {},
     "output_type": "execute_result"
    },
    {
     "data": {
      "image/png": "[encoded data removed]",
      "text/plain": [
       "<matplotlib.figure.Figure at 0x1a15ad2400>"
      ]
     },
     "metadata": {},
     "output_type": "display_data"
    }
   ],
   "source": [
    "sns.jointplot(x=\"NOx(GT)\", y=\"C6H6(GT)\", data=dfc, kind=\"reg\")"
   ]
  },
  {
   "cell_type": "code",
   "execution_count": 41,
   "metadata": {},
   "outputs": [
    {
     "data": {
      "text/plain": [
       "<seaborn.axisgrid.JointGrid at 0x1a15618ef0>"
      ]
     },
     "execution_count": 41,
     "metadata": {},
     "output_type": "execute_result"
    },
    {
     "data": {
      "image/png": "[encoded data removed]",
      "text/plain": [
       "<matplotlib.figure.Figure at 0x1a15618208>"
      ]
     },
     "metadata": {},
     "output_type": "display_data"
    }
   ],
   "source": [
    "sns.jointplot(x=\"PT08.S4(NO2)\", y=\"C6H6(GT)\", data=dfc, kind=\"reg\")"
   ]
  },
  {
   "cell_type": "code",
   "execution_count": 42,
   "metadata": {},
   "outputs": [
    {
     "data": {
      "text/plain": [
       "<seaborn.axisgrid.JointGrid at 0x1a17118c18>"
      ]
     },
     "execution_count": 42,
     "metadata": {},
     "output_type": "execute_result"
    },
    {
     "data": {
      "image/png": "[encoded data removed]",
      "text/plain": [
       "<matplotlib.figure.Figure at 0x1a17118ac8>"
      ]
     },
     "metadata": {},
     "output_type": "display_data"
    }
   ],
   "source": [
    "sns.jointplot(x=\"PT08.S5(O3)\", y=\"C6H6(GT)\", data=dfc, kind=\"reg\")"
   ]
  },
  {
   "cell_type": "code",
   "execution_count": 43,
   "metadata": {},
   "outputs": [
    {
     "data": {
      "text/plain": [
       "<seaborn.axisgrid.JointGrid at 0x1a17473cc0>"
      ]
     },
     "execution_count": 43,
     "metadata": {},
     "output_type": "execute_result"
    },
    {
     "data": {
      "image/png": "[encoded data removed]",
      "text/plain": [
       "<matplotlib.figure.Figure at 0x1a174735c0>"
      ]
     },
     "metadata": {},
     "output_type": "display_data"
    }
   ],
   "source": [
    "sns.jointplot(x=\"CO(GT)\", y=\"C6H6(GT)\", data=dfc, kind=\"reg\")"
   ]
  },
  {
   "cell_type": "markdown",
   "metadata": {},
   "source": [
    "All of the p-values are zero, and also there is strong correlation between C6H6 with others from plot and from correlation matrix.relationship significant."
   ]
  },
  {
   "cell_type": "code",
   "execution_count": 44,
   "metadata": {
    "collapsed": true
   },
   "outputs": [],
   "source": [
    "dfclm= dfc[:]"
   ]
  },
  {
   "cell_type": "code",
   "execution_count": 45,
   "metadata": {
    "collapsed": true
   },
   "outputs": [],
   "source": [
    "target_dfclm = pd.DataFrame(dfclm['C6H6(GT)'])"
   ]
  },
  {
   "cell_type": "code",
   "execution_count": 46,
   "metadata": {},
   "outputs": [
    {
     "name": "stderr",
     "output_type": "stream",
     "text": [
      "/Users/shrikumarpatil/anaconda3/lib/python3.6/site-packages/ipykernel_launcher.py:1: SettingWithCopyWarning: \n",
      "A value is trying to be set on a copy of a slice from a DataFrame\n",
      "\n",
      "See the caveats in the documentation: http://pandas.pydata.org/pandas-docs/stable/indexing.html#indexing-view-versus-copy\n",
      "  \"\"\"Entry point for launching an IPython kernel.\n"
     ]
    }
   ],
   "source": [
    "dfclm.drop(['PT08.S3(NOx)','T', 'RH', 'AH','Year','C6H6(GT)', 'DateTime','YearMonth','Date'], axis= 1, inplace= True)"
   ]
  },
  {
   "cell_type": "code",
   "execution_count": 47,
   "metadata": {
    "collapsed": true
   },
   "outputs": [],
   "source": [
    "from sklearn.model_selection import train_test_split"
   ]
  },
  {
   "cell_type": "code",
   "execution_count": 48,
   "metadata": {
    "collapsed": true
   },
   "outputs": [],
   "source": [
    "X_train, X_test, y_train, y_test = train_test_split(dfclm, target_dfclm, test_size=0.4, random_state=101)"
   ]
  },
  {
   "cell_type": "code",
   "execution_count": 49,
   "metadata": {
    "collapsed": true
   },
   "outputs": [],
   "source": [
    "from sklearn.linear_model import LinearRegression"
   ]
  },
  {
   "cell_type": "code",
   "execution_count": 50,
   "metadata": {
    "collapsed": true
   },
   "outputs": [],
   "source": [
    "lm= LinearRegression()"
   ]
  },
  {
   "cell_type": "code",
   "execution_count": 51,
   "metadata": {},
   "outputs": [
    {
     "data": {
      "text/plain": [
       "LinearRegression(copy_X=True, fit_intercept=True, n_jobs=1, normalize=False)"
      ]
     },
     "execution_count": 51,
     "metadata": {},
     "output_type": "execute_result"
    }
   ],
   "source": [
    "lm.fit(X_train, y_train)"
   ]
  },
  {
   "cell_type": "code",
   "execution_count": 52,
   "metadata": {},
   "outputs": [
    {
     "name": "stdout",
     "output_type": "stream",
     "text": [
      "[-14.52692972]\n"
     ]
    }
   ],
   "source": [
    "print(lm.intercept_)"
   ]
  },
  {
   "cell_type": "code",
   "execution_count": 53,
   "metadata": {},
   "outputs": [
    {
     "data": {
      "text/plain": [
       "array([[  3.91595154e-01,   7.57512232e-04,   2.67145617e-02,\n",
       "          2.55362471e-03,  -1.36036059e-02,  -3.49437120e-04,\n",
       "         -7.01154250e-04]])"
      ]
     },
     "execution_count": 53,
     "metadata": {},
     "output_type": "execute_result"
    }
   ],
   "source": [
    "lm.coef_"
   ]
  },
  {
   "cell_type": "code",
   "execution_count": 54,
   "metadata": {
    "collapsed": true
   },
   "outputs": [],
   "source": [
    "predictions = lm.predict(X_test)"
   ]
  },
  {
   "cell_type": "code",
   "execution_count": 55,
   "metadata": {},
   "outputs": [
    {
     "data": {
      "text/plain": [
       "<matplotlib.collections.PathCollection at 0x1a17f848d0>"
      ]
     },
     "execution_count": 55,
     "metadata": {},
     "output_type": "execute_result"
    },
    {
     "data": {
      "image/png": "[encoded data removed]",
      "text/plain": [
       "<matplotlib.figure.Figure at 0x1a17efa908>"
      ]
     },
     "metadata": {},
     "output_type": "display_data"
    }
   ],
   "source": [
    "plt.scatter(y_test,predictions)"
   ]
  },
  {
   "cell_type": "code",
   "execution_count": 56,
   "metadata": {},
   "outputs": [
    {
     "data": {
      "image/png": "[encoded data removed]",
      "text/plain": [
       "<matplotlib.figure.Figure at 0x1a17eca630>"
      ]
     },
     "metadata": {},
     "output_type": "display_data"
    }
   ],
   "source": [
    "sns.distplot((y_test-predictions),bins=50);"
   ]
  },
  {
   "cell_type": "markdown",
   "metadata": {},
   "source": [
    "The residuals when plotted are normally distributed, hence this assumption of the linear model is not violated."
   ]
  },
  {
   "cell_type": "code",
   "execution_count": 57,
   "metadata": {
    "collapsed": true
   },
   "outputs": [],
   "source": [
    "from sklearn import metrics"
   ]
  },
  {
   "cell_type": "code",
   "execution_count": 58,
   "metadata": {},
   "outputs": [
    {
     "name": "stdout",
     "output_type": "stream",
     "text": [
      "MAE: 0.943497171691\n",
      "MSE: 1.67321774894\n",
      "RMSE: 1.29352918364\n",
      "R-squared value 0.971145305046\n"
     ]
    }
   ],
   "source": [
    "print('MAE:', metrics.mean_absolute_error(y_test, predictions))\n",
    "print('MSE:', metrics.mean_squared_error(y_test, predictions))\n",
    "print('RMSE:', np.sqrt(metrics.mean_squared_error(y_test, predictions)))\n",
    "print('R-squared value', metrics.r2_score(y_test, predictions))"
   ]
  },
  {
   "cell_type": "markdown",
   "metadata": {},
   "source": [
    "Cross- Validation : K-fold Cross Validation"
   ]
  },
  {
   "cell_type": "code",
   "execution_count": 59,
   "metadata": {
    "collapsed": true
   },
   "outputs": [],
   "source": [
    "from sklearn.model_selection import cross_val_score\n",
    "\n",
    "lm_cv = LinearRegression()\n",
    "\n",
    "# Compute 10-fold cross-validation scores: cv_scores\n",
    "cv_scores = cross_val_score(lm_cv, dfclm, target_dfclm, cv=10)"
   ]
  },
  {
   "cell_type": "code",
   "execution_count": 60,
   "metadata": {},
   "outputs": [
    {
     "name": "stdout",
     "output_type": "stream",
     "text": [
      "[ 0.97152146  0.97060259  0.97492173  0.97204874  0.97008359  0.96343476\n",
      "  0.96310752  0.97151211  0.94744931  0.96470352]\n"
     ]
    }
   ],
   "source": [
    "# Print the 10-fold cross-validation scores\n",
    "print(cv_scores)"
   ]
  },
  {
   "cell_type": "markdown",
   "metadata": {},
   "source": [
    "Cv scores are nothing but R-squared values for each training fold that we train. Hence, we can check if the Cross-validated model did well or not by comparing this average R-squared value with the earlier one without cross-validation."
   ]
  },
  {
   "cell_type": "markdown",
   "metadata": {},
   "source": [
    "As we can see from the cross validations scores, 5 out of the 10 folds actually perform well than the earlier linear model. Hence cross- validation does perform better for some folds but the average is almost similar to the earlier model."
   ]
  },
  {
   "cell_type": "code",
   "execution_count": 61,
   "metadata": {},
   "outputs": [
    {
     "name": "stdout",
     "output_type": "stream",
     "text": [
      "Average 10-Fold CV Score: 0.9669385339318863\n"
     ]
    }
   ],
   "source": [
    "print(\"Average 10-Fold CV Score: {}\".format(np.mean(cv_scores)))"
   ]
  },
  {
   "cell_type": "markdown",
   "metadata": {},
   "source": [
    "Assumption: Autocorrelation \n",
    "This means relation between error terms, which often happens in time series data. But as the accuracy of the model is very good, this assumption is very unlikely to be true. We can also check it using Durbin-Watson statistic from the stats model packages's ordinary least squares model."
   ]
  },
  {
   "cell_type": "markdown",
   "metadata": {},
   "source": [
    "Assumption: Multicollinearity\n",
    "To check for multicollinearity, we can look at the correlation matrix or heatmap again to see relationships between predictor variables. Here, we have significant collinearity between the variables as they all are well correlated with each other according to the correlation matrix.Also, we can do a VIF test: Variance inflation factor. value of VIF grater than 10 suggests serious multicollinearity.\n",
    "Hence, this assuption is violated."
   ]
  },
  {
   "cell_type": "code",
   "execution_count": 62,
   "metadata": {},
   "outputs": [
    {
     "name": "stdout",
     "output_type": "stream",
     "text": [
      "   VIF Factor       features\n",
      "0   11.286111         CO(GT)\n",
      "1  101.291708    PT08.S1(CO)\n",
      "2  137.494327  PT08.S2(NMHC)\n",
      "3   10.305131        NOx(GT)\n",
      "4   17.388783        NO2(GT)\n",
      "5   83.571384   PT08.S4(NO2)\n",
      "6   43.460911    PT08.S5(O3)\n"
     ]
    }
   ],
   "source": [
    "from statsmodels.stats.outliers_influence import variance_inflation_factor\n",
    "\n",
    "vif = pd.DataFrame()\n",
    "vif[\"VIF Factor\"] = [variance_inflation_factor(dfclm.values, i) for i in range(dfclm.shape[1])]\n",
    "vif[\"features\"] = dfclm.columns\n",
    "print(vif)"
   ]
  },
  {
   "cell_type": "markdown",
   "metadata": {},
   "source": [
    "As all the VIF values are grater than 10, the assumption of multicollinearity is also violated."
   ]
  },
  {
   "cell_type": "markdown",
   "metadata": {},
   "source": [
    "Assumption: homoskedasticity\n",
    "error terms must have constant variance. We can check this using residual vs fitted values plot. If heteroskedasticity exists, the plot would exhibit a funnel shape pattern."
   ]
  },
  {
   "cell_type": "code",
   "execution_count": 63,
   "metadata": {},
   "outputs": [
    {
     "data": {
      "text/plain": [
       "<matplotlib.collections.PathCollection at 0x1a188797b8>"
      ]
     },
     "execution_count": 63,
     "metadata": {},
     "output_type": "execute_result"
    },
    {
     "data": {
      "image/png": "[encoded data removed]",
      "text/plain": [
       "<matplotlib.figure.Figure at 0x1a182f9898>"
      ]
     },
     "metadata": {},
     "output_type": "display_data"
    }
   ],
   "source": [
    "plt.scatter((y_test-predictions),predictions)"
   ]
  },
  {
   "cell_type": "markdown",
   "metadata": {},
   "source": [
    "The above graph is funnel shaped, and hence the assumption of homoskedasticity is also violated."
   ]
  },
  {
   "cell_type": "code",
   "execution_count": null,
   "metadata": {
    "collapsed": true
   },
   "outputs": [],
   "source": []
  },
  {
   "cell_type": "code",
   "execution_count": null,
   "metadata": {
    "collapsed": true
   },
   "outputs": [],
   "source": []
  },
  {
   "cell_type": "markdown",
   "metadata": {},
   "source": [
    "Regularisation"
   ]
  },
  {
   "cell_type": "markdown",
   "metadata": {},
   "source": [
    "Ridge"
   ]
  },
  {
   "cell_type": "code",
   "execution_count": 64,
   "metadata": {
    "collapsed": true
   },
   "outputs": [],
   "source": [
    "def display_plot(cv_scores, cv_scores_std):\n",
    "    fig = plt.figure()\n",
    "    ax = fig.add_subplot(1,1,1)\n",
    "    ax.plot(alpha_space, cv_scores)\n",
    "\n",
    "    std_error = cv_scores_std / np.sqrt(10)\n",
    "\n",
    "    ax.fill_between(alpha_space, cv_scores + std_error, cv_scores - std_error, alpha=0.2)\n",
    "    ax.set_ylabel('CV Score +/- Std Error')\n",
    "    ax.set_xlabel('Alpha')\n",
    "    ax.axhline(np.max(cv_scores), linestyle='--', color='.5')\n",
    "    ax.set_xlim([alpha_space[0], alpha_space[-1]])\n",
    "    ax.set_xscale('log')\n",
    "    plt.show()"
   ]
  },
  {
   "cell_type": "code",
   "execution_count": 65,
   "metadata": {},
   "outputs": [
    {
     "data": {
      "image/png": "[encoded data removed]",
      "text/plain": [
       "<matplotlib.figure.Figure at 0x1a1b182908>"
      ]
     },
     "metadata": {},
     "output_type": "display_data"
    }
   ],
   "source": [
    "from sklearn.linear_model import Ridge\n",
    "\n",
    "alpha_space = np.logspace(-4, 0, 50)\n",
    "ridge_scores = []\n",
    "ridge_scores_std = []\n",
    "ridge = Ridge(normalize= True)\n",
    "\n",
    "# Compute scores over range of alphas\n",
    "for alpha in alpha_space:\n",
    "\n",
    "    # Specify the alpha value to use: ridge.alpha\n",
    "    ridge.alpha = alpha\n",
    "    \n",
    "    # Perform 10-fold CV: ridge_cv_scores\n",
    "    ridge_cv_scores = cross_val_score(ridge, dfclm,target_dfclm, cv=10)\n",
    "    \n",
    "    # Append the mean of ridge_cv_scores to ridge_scores\n",
    "    ridge_scores.append(np.mean(ridge_cv_scores))\n",
    "    \n",
    "    # Append the std of ridge_cv_scores to ridge_scores_std\n",
    "    ridge_scores_std.append(np.std(ridge_cv_scores))\n",
    "\n",
    "# Display the plot\n",
    "display_plot(ridge_scores, ridge_scores_std)"
   ]
  },
  {
   "cell_type": "code",
   "execution_count": 66,
   "metadata": {},
   "outputs": [
    {
     "name": "stdout",
     "output_type": "stream",
     "text": [
      "R-squared value 0.970654384188\n"
     ]
    }
   ],
   "source": [
    "ridge = Ridge(alpha= 0.01, normalize= True)\n",
    "ridge.fit(X_train,y_train)\n",
    "\n",
    "ridge_pred = ridge.predict(X_test)\n",
    "\n",
    "print('R-squared value', metrics.r2_score(y_test, ridge_pred))"
   ]
  },
  {
   "cell_type": "markdown",
   "metadata": {},
   "source": [
    "Lasso"
   ]
  },
  {
   "cell_type": "code",
   "execution_count": 67,
   "metadata": {},
   "outputs": [
    {
     "name": "stdout",
     "output_type": "stream",
     "text": [
      "[ 0.  0.  0.  0.  0.  0.  0.]\n"
     ]
    },
    {
     "data": {
      "image/png": "[encoded data removed]",
      "text/plain": [
       "<matplotlib.figure.Figure at 0x1a1add5c88>"
      ]
     },
     "metadata": {},
     "output_type": "display_data"
    }
   ],
   "source": [
    "from sklearn.linear_model import Lasso\n",
    "\n",
    "\n",
    "lasso = Lasso(alpha=0.4, normalize= True)\n",
    "\n",
    "\n",
    "lasso.fit(X_train,y_train)\n",
    "\n",
    "\n",
    "lasso_coef = lasso.coef_\n",
    "print(lasso_coef)\n",
    "\n",
    "\n",
    "plt.plot(range(len(dfclm.columns)), lasso_coef)\n",
    "plt.xticks(range(len(dfclm.columns)), dfclm.columns.values, rotation=60)\n",
    "plt.margins(0.02)\n",
    "plt.show()"
   ]
  },
  {
   "cell_type": "code",
   "execution_count": 68,
   "metadata": {
    "collapsed": true
   },
   "outputs": [],
   "source": [
    "lasso_pred = lasso.predict(X_test)"
   ]
  },
  {
   "cell_type": "markdown",
   "metadata": {},
   "source": [
    "Lasso graph above helps us identify the important characteristics which should be kept and penalizes the coefficient of the less significant predictors to zero, and hence it helps us to select only the significant predictors. Here, however we get a straight line graph because all of the present variables are significantly correlated with C6H6."
   ]
  },
  {
   "cell_type": "code",
   "execution_count": 69,
   "metadata": {},
   "outputs": [
    {
     "name": "stdout",
     "output_type": "stream",
     "text": [
      "R-squared value -0.000430354957182\n"
     ]
    }
   ],
   "source": [
    "print('R-squared value', metrics.r2_score(y_test, lasso_pred))"
   ]
  },
  {
   "cell_type": "markdown",
   "metadata": {
    "collapsed": true
   },
   "source": [
    "The prediction score after ridge regularization is only slighlty better by 0.2. Hence, simple linear model will almost perform identical to ridge regularised model for out of the sample data."
   ]
  },
  {
   "cell_type": "markdown",
   "metadata": {},
   "source": [
    "Logistic Regression\n",
    "Question:\n",
    "* Generate a logistic model for your data:\n",
    "    * Find a significant logistic linear model of your choosing in your data. Create a logistic linear model. (25 points)\n",
    "Answer the following questions for the logistic linear model:\n",
    "* Is the relationship significant?  \n",
    "* Are any model assumptions violated?   \n",
    "* Cross-validate the model. How well did it do? \n",
    "\n",
    "\n",
    "Logistic regression is used for classification and it will predict the probability of belonging to a particular class.\n",
    "So the target column in this case will have to be limited discrete values or binary. So, for logistic regression, we will divide the column C6H6 into 3 categoricals according to a specific range, and make this new column the target for the logistic regression."
   ]
  },
  {
   "cell_type": "code",
   "execution_count": 70,
   "metadata": {
    "collapsed": true
   },
   "outputs": [],
   "source": [
    "dfclog = dfc[:]"
   ]
  },
  {
   "cell_type": "code",
   "execution_count": 71,
   "metadata": {},
   "outputs": [
    {
     "name": "stderr",
     "output_type": "stream",
     "text": [
      "/Users/shrikumarpatil/anaconda3/lib/python3.6/site-packages/ipykernel_launcher.py:1: SettingWithCopyWarning: \n",
      "A value is trying to be set on a copy of a slice from a DataFrame\n",
      "\n",
      "See the caveats in the documentation: http://pandas.pydata.org/pandas-docs/stable/indexing.html#indexing-view-versus-copy\n",
      "  \"\"\"Entry point for launching an IPython kernel.\n"
     ]
    }
   ],
   "source": [
    "dfclog.drop(['PT08.S3(NOx)','T', 'RH', 'AH','Year','DateTime','YearMonth','Date'], axis= 1, inplace= True)"
   ]
  },
  {
   "cell_type": "code",
   "execution_count": 72,
   "metadata": {},
   "outputs": [
    {
     "name": "stderr",
     "output_type": "stream",
     "text": [
      "/Users/shrikumarpatil/anaconda3/lib/python3.6/site-packages/ipykernel_launcher.py:1: SettingWithCopyWarning: \n",
      "A value is trying to be set on a copy of a slice from a DataFrame.\n",
      "Try using .loc[row_indexer,col_indexer] = value instead\n",
      "\n",
      "See the caveats in the documentation: http://pandas.pydata.org/pandas-docs/stable/indexing.html#indexing-view-versus-copy\n",
      "  \"\"\"Entry point for launching an IPython kernel.\n"
     ]
    }
   ],
   "source": [
    "dfclog['C6H6_conc'] = np.where(dfclog['C6H6(GT)']>=10, 'high', 'notHigh')"
   ]
  },
  {
   "cell_type": "code",
   "execution_count": 73,
   "metadata": {
    "collapsed": true
   },
   "outputs": [],
   "source": [
    "target_dfclog = pd.DataFrame(dfclog['C6H6_conc'])"
   ]
  },
  {
   "cell_type": "code",
   "execution_count": 74,
   "metadata": {},
   "outputs": [
    {
     "name": "stderr",
     "output_type": "stream",
     "text": [
      "/Users/shrikumarpatil/anaconda3/lib/python3.6/site-packages/ipykernel_launcher.py:1: SettingWithCopyWarning: \n",
      "A value is trying to be set on a copy of a slice from a DataFrame\n",
      "\n",
      "See the caveats in the documentation: http://pandas.pydata.org/pandas-docs/stable/indexing.html#indexing-view-versus-copy\n",
      "  \"\"\"Entry point for launching an IPython kernel.\n"
     ]
    }
   ],
   "source": [
    "dfclog.drop(['C6H6(GT)','C6H6_conc'], axis= 1, inplace= True)"
   ]
  },
  {
   "cell_type": "code",
   "execution_count": 75,
   "metadata": {
    "collapsed": true
   },
   "outputs": [],
   "source": [
    "X_train, X_test, y_train, y_test = train_test_split(dfclog, target_dfclog, test_size=0.33, random_state=42)"
   ]
  },
  {
   "cell_type": "code",
   "execution_count": 76,
   "metadata": {
    "collapsed": true
   },
   "outputs": [],
   "source": [
    "from sklearn.linear_model import LogisticRegression"
   ]
  },
  {
   "cell_type": "code",
   "execution_count": 77,
   "metadata": {},
   "outputs": [
    {
     "name": "stderr",
     "output_type": "stream",
     "text": [
      "/Users/shrikumarpatil/anaconda3/lib/python3.6/site-packages/sklearn/utils/validation.py:578: DataConversionWarning: A column-vector y was passed when a 1d array was expected. Please change the shape of y to (n_samples, ), for example using ravel().\n",
      "  y = column_or_1d(y, warn=True)\n"
     ]
    },
    {
     "data": {
      "text/plain": [
       "LogisticRegression(C=1.0, class_weight=None, dual=False, fit_intercept=True,\n",
       "          intercept_scaling=1, max_iter=100, multi_class='ovr', n_jobs=1,\n",
       "          penalty='l2', random_state=None, solver='liblinear', tol=0.0001,\n",
       "          verbose=0, warm_start=False)"
      ]
     },
     "execution_count": 77,
     "metadata": {},
     "output_type": "execute_result"
    }
   ],
   "source": [
    "logmodel = LogisticRegression()\n",
    "logmodel.fit(X_train,y_train)"
   ]
  },
  {
   "cell_type": "code",
   "execution_count": 78,
   "metadata": {
    "collapsed": true
   },
   "outputs": [],
   "source": [
    "predictions_log = logmodel.predict(X_test)"
   ]
  },
  {
   "cell_type": "code",
   "execution_count": 79,
   "metadata": {
    "collapsed": true
   },
   "outputs": [],
   "source": [
    "from sklearn.metrics import classification_report\n",
    "from sklearn import model_selection\n",
    "from sklearn.model_selection import cross_val_predict"
   ]
  },
  {
   "cell_type": "code",
   "execution_count": 80,
   "metadata": {},
   "outputs": [
    {
     "name": "stdout",
     "output_type": "stream",
     "text": [
      "             precision    recall  f1-score   support\n",
      "\n",
      "       high       0.98      0.98      0.98      1279\n",
      "    notHigh       0.99      0.98      0.98      1809\n",
      "\n",
      "avg / total       0.98      0.98      0.98      3088\n",
      "\n"
     ]
    }
   ],
   "source": [
    "print(classification_report(y_test,predictions_log))"
   ]
  },
  {
   "cell_type": "code",
   "execution_count": 81,
   "metadata": {},
   "outputs": [
    {
     "name": "stdout",
     "output_type": "stream",
     "text": [
      "0.982189119171\n"
     ]
    }
   ],
   "source": [
    "print(metrics.accuracy_score(y_test, predictions_log))"
   ]
  },
  {
   "cell_type": "code",
   "execution_count": 82,
   "metadata": {},
   "outputs": [
    {
     "name": "stderr",
     "output_type": "stream",
     "text": [
      "/Users/shrikumarpatil/anaconda3/lib/python3.6/site-packages/sklearn/utils/validation.py:578: DataConversionWarning: A column-vector y was passed when a 1d array was expected. Please change the shape of y to (n_samples, ), for example using ravel().\n",
      "  y = column_or_1d(y, warn=True)\n",
      "/Users/shrikumarpatil/anaconda3/lib/python3.6/site-packages/sklearn/utils/validation.py:578: DataConversionWarning: A column-vector y was passed when a 1d array was expected. Please change the shape of y to (n_samples, ), for example using ravel().\n",
      "  y = column_or_1d(y, warn=True)\n",
      "/Users/shrikumarpatil/anaconda3/lib/python3.6/site-packages/sklearn/utils/validation.py:578: DataConversionWarning: A column-vector y was passed when a 1d array was expected. Please change the shape of y to (n_samples, ), for example using ravel().\n",
      "  y = column_or_1d(y, warn=True)\n",
      "/Users/shrikumarpatil/anaconda3/lib/python3.6/site-packages/sklearn/utils/validation.py:578: DataConversionWarning: A column-vector y was passed when a 1d array was expected. Please change the shape of y to (n_samples, ), for example using ravel().\n",
      "  y = column_or_1d(y, warn=True)\n",
      "/Users/shrikumarpatil/anaconda3/lib/python3.6/site-packages/sklearn/utils/validation.py:578: DataConversionWarning: A column-vector y was passed when a 1d array was expected. Please change the shape of y to (n_samples, ), for example using ravel().\n",
      "  y = column_or_1d(y, warn=True)\n",
      "/Users/shrikumarpatil/anaconda3/lib/python3.6/site-packages/sklearn/utils/validation.py:578: DataConversionWarning: A column-vector y was passed when a 1d array was expected. Please change the shape of y to (n_samples, ), for example using ravel().\n",
      "  y = column_or_1d(y, warn=True)\n",
      "/Users/shrikumarpatil/anaconda3/lib/python3.6/site-packages/sklearn/utils/validation.py:578: DataConversionWarning: A column-vector y was passed when a 1d array was expected. Please change the shape of y to (n_samples, ), for example using ravel().\n",
      "  y = column_or_1d(y, warn=True)\n",
      "/Users/shrikumarpatil/anaconda3/lib/python3.6/site-packages/sklearn/utils/validation.py:578: DataConversionWarning: A column-vector y was passed when a 1d array was expected. Please change the shape of y to (n_samples, ), for example using ravel().\n",
      "  y = column_or_1d(y, warn=True)\n",
      "/Users/shrikumarpatil/anaconda3/lib/python3.6/site-packages/sklearn/utils/validation.py:578: DataConversionWarning: A column-vector y was passed when a 1d array was expected. Please change the shape of y to (n_samples, ), for example using ravel().\n",
      "  y = column_or_1d(y, warn=True)\n",
      "/Users/shrikumarpatil/anaconda3/lib/python3.6/site-packages/sklearn/utils/validation.py:578: DataConversionWarning: A column-vector y was passed when a 1d array was expected. Please change the shape of y to (n_samples, ), for example using ravel().\n",
      "  y = column_or_1d(y, warn=True)\n"
     ]
    }
   ],
   "source": [
    "predictions_logcv = model_selection.cross_val_predict(logmodel, dfclog, target_dfclog, cv=10)"
   ]
  },
  {
   "cell_type": "code",
   "execution_count": 83,
   "metadata": {},
   "outputs": [
    {
     "name": "stdout",
     "output_type": "stream",
     "text": [
      "0.972213316234\n"
     ]
    }
   ],
   "source": [
    "print(metrics.accuracy_score(target_dfclog, predictions_logcv))"
   ]
  },
  {
   "cell_type": "markdown",
   "metadata": {},
   "source": [
    "* Is the relationship significant?  Yes, we get 98% accuracy.\n",
    "* Are any model assumptions violated?   Yes.Similar to those of the linear model as logistic regression is also a general linear model classifier.\n",
    "* Cross-validate the model. How well did it do? the difference between the accuracy scores is 0.8."
   ]
  },
  {
   "cell_type": "markdown",
   "metadata": {},
   "source": []
  },
  {
   "cell_type": "markdown",
   "metadata": {},
   "source": [
    "Clustering of Data\n",
    "Question:\n",
    "* Cluster your data:\n",
    "    * Use at least two methods to cluster your data. (25 points)\n",
    "Answer the following questions for the clustering:\n",
    "* Do the clustering methods generate the same clusters?\n",
    "* Does scaling effect the clustering?  \n",
    "* Does the clustering produce interesting groupings?  "
   ]
  },
  {
   "cell_type": "markdown",
   "metadata": {},
   "source": [
    "Method 1: DBSCAN density based"
   ]
  },
  {
   "cell_type": "code",
   "execution_count": 84,
   "metadata": {
    "collapsed": true
   },
   "outputs": [],
   "source": [
    "from sklearn.preprocessing import scale\n",
    "from sklearn.cluster import DBSCAN"
   ]
  },
  {
   "cell_type": "code",
   "execution_count": 85,
   "metadata": {
    "collapsed": true
   },
   "outputs": [],
   "source": [
    "dfcdbscan = dfc[:]"
   ]
  },
  {
   "cell_type": "code",
   "execution_count": 86,
   "metadata": {},
   "outputs": [
    {
     "name": "stderr",
     "output_type": "stream",
     "text": [
      "/Users/shrikumarpatil/anaconda3/lib/python3.6/site-packages/ipykernel_launcher.py:1: SettingWithCopyWarning: \n",
      "A value is trying to be set on a copy of a slice from a DataFrame\n",
      "\n",
      "See the caveats in the documentation: http://pandas.pydata.org/pandas-docs/stable/indexing.html#indexing-view-versus-copy\n",
      "  \"\"\"Entry point for launching an IPython kernel.\n"
     ]
    }
   ],
   "source": [
    "dfcdbscan.drop(['Year','DateTime','YearMonth','Date'], axis= 1, inplace= True)"
   ]
  },
  {
   "cell_type": "code",
   "execution_count": 87,
   "metadata": {},
   "outputs": [
    {
     "data": {
      "text/plain": [
       "DBSCAN(algorithm='auto', eps=0.5, leaf_size=30, metric='euclidean',\n",
       "    metric_params=None, min_samples=10, n_jobs=1, p=None)"
      ]
     },
     "execution_count": 87,
     "metadata": {},
     "output_type": "execute_result"
    }
   ],
   "source": [
    "dbsmod = DBSCAN(eps=0.5, min_samples=10)\n",
    "dbsmod.fit(dfcdbscan)"
   ]
  },
  {
   "cell_type": "code",
   "execution_count": 88,
   "metadata": {
    "collapsed": true
   },
   "outputs": [],
   "source": [
    "dbsmod_scaled = DBSCAN(eps=0.5, min_samples=10)"
   ]
  },
  {
   "cell_type": "code",
   "execution_count": 89,
   "metadata": {},
   "outputs": [
    {
     "data": {
      "text/plain": [
       "DBSCAN(algorithm='auto', eps=0.5, leaf_size=30, metric='euclidean',\n",
       "    metric_params=None, min_samples=10, n_jobs=1, p=None)"
      ]
     },
     "execution_count": 89,
     "metadata": {},
     "output_type": "execute_result"
    }
   ],
   "source": [
    "dbsmod_scaled.fit(scale(dfcdbscan))"
   ]
  },
  {
   "cell_type": "code",
   "execution_count": 90,
   "metadata": {},
   "outputs": [
    {
     "data": {
      "text/plain": [
       "<matplotlib.collections.PathCollection at 0x1a19b74550>"
      ]
     },
     "execution_count": 90,
     "metadata": {},
     "output_type": "execute_result"
    },
    {
     "data": {
      "image/png": "[encoded data removed]",
      "text/plain": [
       "<matplotlib.figure.Figure at 0x1a19c50e10>"
      ]
     },
     "metadata": {},
     "output_type": "display_data"
    }
   ],
   "source": [
    "f, (ax1, ax2) = plt.subplots(1, 2, sharey=True,figsize=(10,6))\n",
    "ax1.set_title('DBSCAN')\n",
    "ax1.scatter(dfcdbscan['CO(GT)'],dfcdbscan['C6H6(GT)'],c=dbsmod.labels_,cmap='rainbow')\n",
    "ax2.set_title(\"DBSCAN with scaling\")\n",
    "ax2.scatter(dfcdbscan['CO(GT)'],dfcdbscan['C6H6(GT)'],c=dbsmod_scaled.labels_,cmap='rainbow')"
   ]
  },
  {
   "cell_type": "markdown",
   "metadata": {},
   "source": [
    "As we can see from the plots, for both scaled and without scaled, we do not get any significantly interpretable clusters, this is because DBSCAN is density based algorithm , and the data points here are all segmented very near to each other and are densely associated with very fine boundaries and not enough distance."
   ]
  },
  {
   "cell_type": "code",
   "execution_count": null,
   "metadata": {
    "collapsed": true
   },
   "outputs": [],
   "source": []
  },
  {
   "cell_type": "code",
   "execution_count": null,
   "metadata": {
    "collapsed": true
   },
   "outputs": [],
   "source": []
  },
  {
   "cell_type": "markdown",
   "metadata": {},
   "source": [
    "Method 2: K-Means clustering"
   ]
  },
  {
   "cell_type": "code",
   "execution_count": 91,
   "metadata": {
    "collapsed": true
   },
   "outputs": [],
   "source": [
    "dfckmeans = dfc[:]"
   ]
  },
  {
   "cell_type": "code",
   "execution_count": 92,
   "metadata": {},
   "outputs": [
    {
     "name": "stderr",
     "output_type": "stream",
     "text": [
      "/Users/shrikumarpatil/anaconda3/lib/python3.6/site-packages/ipykernel_launcher.py:1: SettingWithCopyWarning: \n",
      "A value is trying to be set on a copy of a slice from a DataFrame\n",
      "\n",
      "See the caveats in the documentation: http://pandas.pydata.org/pandas-docs/stable/indexing.html#indexing-view-versus-copy\n",
      "  \"\"\"Entry point for launching an IPython kernel.\n"
     ]
    }
   ],
   "source": [
    "dfckmeans.drop(['Year','DateTime','YearMonth','Date'], axis= 1, inplace= True)"
   ]
  },
  {
   "cell_type": "code",
   "execution_count": 93,
   "metadata": {
    "collapsed": true
   },
   "outputs": [],
   "source": [
    "from sklearn.cluster import KMeans"
   ]
  },
  {
   "cell_type": "code",
   "execution_count": 94,
   "metadata": {
    "collapsed": true
   },
   "outputs": [],
   "source": [
    "kmmodel = KMeans(n_clusters=8)"
   ]
  },
  {
   "cell_type": "code",
   "execution_count": 95,
   "metadata": {},
   "outputs": [
    {
     "data": {
      "text/plain": [
       "KMeans(algorithm='auto', copy_x=True, init='k-means++', max_iter=300,\n",
       "    n_clusters=8, n_init=10, n_jobs=1, precompute_distances='auto',\n",
       "    random_state=None, tol=0.0001, verbose=0)"
      ]
     },
     "execution_count": 95,
     "metadata": {},
     "output_type": "execute_result"
    }
   ],
   "source": [
    "kmmodel.fit(dfckmeans)"
   ]
  },
  {
   "cell_type": "code",
   "execution_count": 96,
   "metadata": {},
   "outputs": [
    {
     "data": {
      "text/plain": [
       "array([[  3.46692445e+00,   1.34250459e+03,   1.62887287e+01,\n",
       "          1.18274836e+03,   5.60249810e+02,   5.61583224e+02,\n",
       "          1.71601200e+02,   1.44314417e+03,   1.61527130e+03,\n",
       "          1.21988070e+01,   5.60710354e+01,   8.00442071e-01],\n",
       "       [  1.91552831e+00,   1.11199545e+03,   1.06905508e+01,\n",
       "          9.98229914e+02,   1.55515107e+02,   7.88688226e+02,\n",
       "          9.80641778e+01,   1.64098636e+03,   1.01185093e+03,\n",
       "          2.44327505e+01,   4.29923194e+01,   1.23443719e+00],\n",
       "       [  1.25610492e+00,   9.23864791e+02,   3.64446461e+00,\n",
       "          6.83812160e+02,   1.96512092e+02,   9.53588022e+02,\n",
       "          1.12599482e+02,   9.54892922e+02,   7.00147005e+02,\n",
       "          9.24806865e+00,   4.86067151e+01,   5.81285209e-01],\n",
       "       [  5.12385576e+00,   1.58555866e+03,   2.91700186e+01,\n",
       "          1.52568156e+03,   6.49207426e+02,   4.65445065e+02,\n",
       "          1.62200451e+02,   2.02309311e+03,   1.89135754e+03,\n",
       "          1.70128025e+01,   5.47201117e+01,   1.12640056e+00],\n",
       "       [  1.99724732e+00,   1.10193083e+03,   8.24400000e+00,\n",
       "          9.02435000e+02,   3.15518333e+02,   7.23179167e+02,\n",
       "          1.38921626e+02,   1.18809333e+03,   1.09714667e+03,\n",
       "          1.14053333e+01,   5.51822500e+01,   7.47595917e-01],\n",
       "       [  8.46093735e-01,   8.23946853e+02,   1.86181818e+00,\n",
       "          5.62696503e+02,   8.69821070e+01,   1.39701259e+03,\n",
       "          6.02016234e+01,   1.10059021e+03,   4.72144056e+02,\n",
       "          1.39376224e+01,   4.99383217e+01,   8.00901818e-01],\n",
       "       [  1.24461876e+00,   9.38286810e+02,   5.13128834e+00,\n",
       "          7.62639571e+02,   1.04177559e+02,   9.90747955e+02,\n",
       "          7.30807200e+01,   1.42720910e+03,   7.18792945e+02,\n",
       "          2.22358107e+01,   4.76798569e+01,   1.20886079e+00],\n",
       "       [  3.14825637e+00,   1.33665701e+03,   1.88464253e+01,\n",
       "          1.25942534e+03,   2.67193167e+02,   6.31028959e+02,\n",
       "          1.21817457e+02,   1.90432398e+03,   1.41199638e+03,\n",
       "          2.34033115e+01,   4.59592760e+01,   1.25448480e+00]])"
      ]
     },
     "execution_count": 96,
     "metadata": {},
     "output_type": "execute_result"
    }
   ],
   "source": [
    "kmmodel.cluster_centers_"
   ]
  },
  {
   "cell_type": "code",
   "execution_count": 97,
   "metadata": {},
   "outputs": [
    {
     "name": "stdout",
     "output_type": "stream",
     "text": [
      "[4 4 4 ..., 2 2 2]\n"
     ]
    }
   ],
   "source": [
    "kmmodel_scaled = KMeans(n_clusters=8)\n",
    "\n",
    "#scaling the data\n",
    "kmmodel_scaled = kmmodel_scaled.fit(scale(dfckmeans))\n",
    "\n",
    "\n",
    "print(kmmodel_scaled.labels_)"
   ]
  },
  {
   "cell_type": "code",
   "execution_count": 98,
   "metadata": {},
   "outputs": [
    {
     "data": {
      "text/plain": [
       "<matplotlib.collections.PathCollection at 0x1a19a2aef0>"
      ]
     },
     "execution_count": 98,
     "metadata": {},
     "output_type": "execute_result"
    },
    {
     "data": {
      "image/png": "[encoded data removed]",
      "text/plain": [
       "<matplotlib.figure.Figure at 0x1a19b13898>"
      ]
     },
     "metadata": {},
     "output_type": "display_data"
    }
   ],
   "source": [
    "f, (ax1, ax2) = plt.subplots(1, 2, sharey=True,figsize=(10,6))\n",
    "ax1.set_title('K Means')\n",
    "ax1.scatter(dfckmeans['CO(GT)'],dfckmeans['C6H6(GT)'],c=kmmodel.labels_,cmap='rainbow')\n",
    "ax2.set_title(\"K means with scaling\")\n",
    "ax2.scatter(dfckmeans['CO(GT)'],dfckmeans['C6H6(GT)'],c=kmmodel_scaled.labels_,cmap='rainbow')"
   ]
  },
  {
   "cell_type": "markdown",
   "metadata": {},
   "source": [
    "The k-means algorithm produces better clusters, but these models are also significantly change after scaling. The reason being the use distance metrics to form clusters."
   ]
  }
 ],
 "metadata": {
  "kernelspec": {
   "display_name": "Python 3",
   "language": "python",
   "name": "python3"
  },
  "language_info": {
   "codemirror_mode": {
    "name": "ipython",
    "version": 3
   },
   "file_extension": ".py",
   "mimetype": "text/x-python",
   "name": "python",
   "nbconvert_exporter": "python",
   "pygments_lexer": "ipython3",
   "version": "3.6.3"
  }
 },
 "nbformat": 4,
 "nbformat_minor": 1
}
