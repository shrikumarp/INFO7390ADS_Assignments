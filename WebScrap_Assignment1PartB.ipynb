{
 "cells": [
  {
   "cell_type": "code",
   "execution_count": 1,
   "metadata": {},
   "outputs": [],
   "source": [
    "from __future__ import print_function\n",
    "import urllib3 #  pip install -i https://pypi.anaconda.org/pypi/simple urllib3\n",
    "import unicodedata\n",
    "from bs4 import BeautifulSoup, SoupStrainer, Comment\n",
    "import warnings\n",
    "warnings.filterwarnings('ignore')"
   ]
  },
  {
   "cell_type": "code",
   "execution_count": 2,
   "metadata": {
    "collapsed": true
   },
   "outputs": [],
   "source": [
    "url='http://www.indiatravelblog.com/resources/3410-Top-10-Online-Travel-Websites-To-Book-Your-Tickets-Cheaper.aspx'"
   ]
  },
  {
   "cell_type": "code",
   "execution_count": 3,
   "metadata": {},
   "outputs": [
    {
     "data": {
      "text/plain": [
       "200"
      ]
     },
     "execution_count": 3,
     "metadata": {},
     "output_type": "execute_result"
    }
   ],
   "source": [
    "http = urllib3.PoolManager()\n",
    "response = http.request('GET',url)\n",
    "response.status"
   ]
  },
  {
   "cell_type": "code",
   "execution_count": 4,
   "metadata": {
    "collapsed": true
   },
   "outputs": [],
   "source": [
    "soup=BeautifulSoup(response.data, \"lxml\")"
   ]
  },
  {
   "cell_type": "markdown",
   "metadata": {},
   "source": [
    "The BeautifulSoup library creates a multi level parse tree from a web page, and hence we can index the soup object using the desired tag name and it will return all the occurences of that tag. Further we can index it, similar to a nested list."
   ]
  },
  {
   "cell_type": "markdown",
   "metadata": {},
   "source": [
    "Below is a function to check if a link is valid or not"
   ]
  },
  {
   "cell_type": "code",
   "execution_count": 1,
   "metadata": {
    "collapsed": true
   },
   "outputs": [],
   "source": [
    "def checkvalidity(url):\n",
    "    if http.request('GET',url).status==200:\n",
    "        return True\n",
    "    else: return False"
   ]
  },
  {
   "cell_type": "code",
   "execution_count": 5,
   "metadata": {},
   "outputs": [
    {
     "data": {
      "text/plain": [
       "'<!DOCTYPE html>\\n<html lang=\"en\">\\n <head id=\"Head1\">\\n  <script language=\"javascript\">\\n   // Search dialog handling\\r\\n    function OpenSearch() {\\r\\n        location = \"/search/default.aspx?Search=\" + escape(document.getElementById(\\'txtSearch\\').value);\\r\\n        return false;\\r\\n    }\\r\\n\\r\\n    function OpenSearchKey(e) {\\r\\n        e.which = e.which || e.keyCode;\\r\\n        if (e.which == 13) {\\r\\n            //window.open(\\'/search/Index.aspx?Search=\\' + document.getElementById(\\'txtSearch\\').value, \"_SELF\");\\r\\n            location = \"/search/default.aspx?Search=\" + escape(document.getElementById(\\'txtSearch\\').value);\\r\\n            return false;\\r\\n        }\\r\\n\\r\\n        return true;\\r\\n    }\\n  </script>\\n  <script async=\"\" defer=\"\" src=\"https://www.google.com/recaptcha/api.js\">\\n  </script>\\n  <meta charset=\"utf-8\"/>\\n  <title>\\n   Top 10 Online Travel Websites in India\\n  </title>\\n  <meta content=\"width=device-width, initial-scale=1.0\" name=\"viewport\"/>\\n  <link href=\"http://fonts.googleapis.com/css?family=Lato:400,700\" rel=\"stylesheet\"/>\\n  <link href=\"http://spiderworks.info/css/font-awesome.min.css\" rel=\"stylesheet\"/>\\n  <link href=\"http://spiderworks.info/css/bootstrap.min.css\" rel=\"stylesheet\"/>\\n  <link href=\"http://spiderworks.info/css/bootstrap-glyphicons.css\" rel=\"stylesheet\"/>\\n  <link href=\"http://spiderworks.info/css/style.css\" rel=\"stylesheet\" type=\"text/css\"/>\\n  <link href=\"http://spiderworks.info/css/media.css\" rel=\"stylesheet\" type=\"text/css\"/>\\n  <link href=\"http://www.indiatravelblog.com/images/India%20Travel%20Blog%20Favicon.png\" rel=\"shortcut icon\"/>\\n  <meta content=\"Here you can read about top 10 online travel websites which can help you with booking flights or hotels with discounts.\" name=\"description\"/>\\n  <meta content=\"Here you can read about top 10 online travel websites which can help you with booking flights or hotels with discounts.\" property=\"og:description\"/>\\n  <meta content=\"http://www.indiatravelblog.com/attachments/resources/3410-1-Makemytrip-website.PNG\" property=\"og:image\"/>\\n  <link href=\"http://www.indiatravelblog.com/resources/3410-Top-10-Online-Travel-Websites-To-Book-Your-Tickets-Cheaper.aspx\" rel=\"canonical\"/>\\n  <meta content=\"http://www.indiatravelblog.com/resources/3410-Top-10-Online-Travel-Websites-To-Book-Your-Tickets-Cheaper.aspx\" property=\"og:url\"/>\\n  <meta content=\"Top 10 Online Travel Websites in India\" property=\"og:title\"/>\\n  <meta content=\"India Travel Blog\" property=\"og:site_name\"/>\\n  <meta content=\"article\" property=\"og:type\"/>\\n  <meta content=\"2015-09-09T23:21:48.0670000\" property=\"og:updated_time\"/>\\n  <meta content=\"2015-09-09T23:21:48.0670000\" property=\"article:published_time\"/>\\n  <meta content=\"2015-09-09T23:21:48.0670000\" property=\"article:modified_time\"/>\\n  <meta content=\"http://www.facebook.com/IndiaTravelBlogs\" property=\"article:publisher\"/>\\n  <link href=\"http://www.indiatravelblog.com/rss/Resources.aspx\" rel=\"alternate\" title=\"IndiaTravelBlog Articles\" type=\"application/rss+xml\"/>\\n  <meta content=\"6393d739617ef676383f69b0f46fb74bb30cc0c1\" name=\"B-verify\"/>\\n  <meta content=\"441184806058808\" property=\"fb:pages\"/>\\n  <script async=\"\" src=\"//pagead2.googlesyndication.com/pagead/js/adsbygoogle.js\">\\n  </script>\\n  <script>\\n   (adsbygoogle = window.adsbygoogle || []).push({\\r\\n    google_ad_client: \"ca-pub-7317001610240998\",\\r\\n    enable_page_level_ads: true\\r\\n  });\\n  </script>\\n  <script src=\"http://www.graphenedigitalanalytics.in/ccanalytics/timeme.js\">\\n  </script>\\n </head>\\n <body>\\n  <nav class=\"navbar navbar-custom navbar-static-top navbar-small bg-blue top-bg-blue-mobile-hide\" id=\"topbar\">\\n   <div class=\"container\">\\n    <ul class=\"nav navbar-nav navbar-right menu-on-blueBg\">\\n     <li class=\"top-rss-outer-btn\">\\n      <a class=\"btn dropdown-toggle rss-dropdown-top-btn\" id=\"dropdownMenu1\" type=\"button\">\\n       <i aria-hidden=\"true\" class=\"fa fa-share-alt\">\\n       </i>\\n      </a>\\n      <ul aria-labelledby=\"dropdownMenu1\" class=\"dropdown-menu network-sharing-dropdown\">\\n       <li>\\n        <a class=\"facebook-icon-dropdown\" href=\"http://www.facebook.com/IndiaTravelBlogs\" rel=\"nofollow\" target=\"_blank\">\\n         <i aria-hidden=\"true\" class=\"fa fa-facebook\">\\n         </i>\\n        </a>\\n       </li>\\n       <li>\\n        <a class=\"googleplus-icon-dropdown\" href=\"https://plus.google.com/IndiaTravelBlog\" rel=\"nofollow\" target=\"_blank\">\\n         <i aria-hidden=\"true\" class=\"fa fa-googleplus\">\\n         </i>\\n        </a>\\n       </li>\\n      </ul>\\n     </li>\\n     <li>\\n      <a href=\"/account/Login.aspx?ReturnUrl=%2fresources%2fViewResourceDetails.aspx%3fresourceId%3d3410\">\\n       Login\\n      </a>\\n     </li>\\n     <li>\\n      <a href=\"/account/Register.aspx\">\\n       Register\\n      </a>\\n     </li>\\n    </ul>\\n   </div>\\n  </nav>\\n  <div class=\"container\" id=\"header\">\\n   <div class=\"row row-margin-remove\">\\n    <div class=\"col-sm-2 col-xs-3 logo logo-new-size\">\\n     <div style=\"width:400px\">\\n      <a href=\"/\" title=\"Indian Travel Blog\">\\n       <img alt=\"The Authentic Indian Travel Blog\" border=\"0\" src=\"http://www.indiatravelblog.com/images/Indian%20Travel%20Blog%20Logo.png\"/>\\n      </a>\\n     </div>\\n    </div>\\n    <div class=\"col-sm-8 col-xs-7 announce\">\\n     <div class=\"row\">\\n      <div class=\"col-md-offset-1 col-md-11 col-xs-12 bigad logo-head-main-bg\">\\n      </div>\\n     </div>\\n    </div>\\n    <div class=\"col-sm-2 col-xs-2 mobile-nav-icon-display\">\\n     <!--    ============Mobile nav==========-->\\n     <!-- Buttons -->\\n     <div class=\"mobile-nav-bar-icon\">\\n      <label class=\"menu-button\" for=\"slide-menu-right\">\\n       <i aria-hidden=\"true\" class=\"fa fa-bars\">\\n       </i>\\n      </label>\\n     </div>\\n     <!-- Menu 1 -->\\n     <div class=\"slide-menu\">\\n      <input class=\"menu-toggle\" id=\"slide-menu-right\" type=\"checkbox\"/>\\n      <div class=\"menu-wrap\">\\n       <label class=\"menu-close\" for=\"slide-menu-right\">\\n        Close\\n       </label>\\n       <div class=\"mobile-nav-social-icons-listing\">\\n        <ul>\\n         <li>\\n          <a class=\"facebook-icon-dropdown\" href=\"http://www.facebook.com/IndiaTravelBlogs\" rel=\"nofollow\" target=\"_blank\">\\n           <i aria-hidden=\"true\" class=\"fa fa-facebook\">\\n           </i>\\n          </a>\\n         </li>\\n         <li>\\n          <a class=\"googleplus-icon-dropdown\" href=\"https://plus.google.com/IndiaTravelBlog\" rel=\"nofollow\" target=\"_blank\">\\n           <i aria-hidden=\"true\" class=\"fa fa-googleplus\">\\n           </i>\\n          </a>\\n         </li>\\n        </ul>\\n       </div>\\n       <div class=\"menu-list\">\\n        <ul class=\"nav navbar-nav page-main-menu-listing\">\\n         <li class=\"dropdown\">\\n          <a aria-expanded=\"false\" aria-haspopup=\"true\" class=\"dropdown-toggle\" data-toggle=\"dropdown\" href=\"/\" role=\"button\">\\n           Articles\\n           <span class=\"caret\">\\n           </span>\\n          </a>\\n          <ul class=\"dropdown-menu main-submenu-item-listing\">\\n           <li>\\n            <a href=\"/resources/Category4-Travel-Tips.aspx\">\\n             Travel Tips\\n            </a>\\n           </li>\\n           <li>\\n            <a href=\"/resources/Category41-Travel-Experience.aspx\">\\n             Travel Experience\\n            </a>\\n           </li>\\n           <li>\\n            <a href=\"/resources/Category5-Travel-Abroad.aspx\">\\n             International\\n            </a>\\n           </li>\\n           <li>\\n            <a href=\"/resources/Category1-India-Travel-Destinations.aspx\">\\n             Indian Destinations\\n            </a>\\n           </li>\\n           <li>\\n            <a href=\"/resources/\">\\n             Travel Blogs\\n            </a>\\n           </li>\\n          </ul>\\n         </li>\\n         <li class=\"dropdown\">\\n          <a aria-expanded=\"false\" aria-haspopup=\"true\" class=\"dropdown-toggle\" data-toggle=\"dropdown\" href=\"/\" role=\"button\">\\n           Destinations\\n           <span class=\"caret\">\\n           </span>\\n          </a>\\n          <ul class=\"dropdown-menu main-submenu-item-listing\">\\n           <li>\\n            <a href=\"/destinations/\">\\n             All Destinations\\n            </a>\\n           </li>\\n           <li>\\n            <a href=\"/destinations/1-Kerala.aspx\">\\n             Kerala\\n            </a>\\n           </li>\\n           <li>\\n            <a href=\"/destinations/3-Goa.aspx\">\\n             Goa\\n            </a>\\n           </li>\\n           <li>\\n            <a href=\"/destinations/32-Andaman-and-Nicobar-Islands.aspx\">\\n             Andaman and Nicobar Islands\\n            </a>\\n           </li>\\n          </ul>\\n         </li>\\n         <li>\\n          <a href=\"http://www.indiatravelblog.com/articles/Best-In-India.aspx\">\\n           Best in India\\n          </a>\\n         </li>\\n         <li>\\n          <a href=\"/forum/\">\\n           Forum\\n          </a>\\n         </li>\\n         <li>\\n          <a href=\"http://www.indiatravelblog.com/resources/PostingOption.aspx?ReturnUrl=/resources/PostResource.aspx?CategoryId=\">\\n           Submit Blog\\n          </a>\\n         </li>\\n        </ul>\\n       </div>\\n      </div>\\n      <label class=\"menu-overlay\" for=\"slide-menu-right\">\\n      </label>\\n     </div>\\n     <!--    ============Mobile nav==========-->\\n    </div>\\n   </div>\\n  </div>\\n  <div class=\"spacer\" id=\"navbarspacer\">\\n  </div>\\n  <nav class=\"navbar navbar-custom navbar-static-top bg-blue\" id=\"navigation\">\\n   <div class=\"container\">\\n    <div class=\"navbar-header navbar-header-new\">\\n     <a class=\"navbar-brand navbar-brand-new\" href=\"/\">\\n      <span aria-hidden=\"true\" class=\"glyphicon glyphicon-home\">\\n      </span>\\n     </a>\\n     <ul class=\"nav navbar-nav navbar-right menu-on-blueBg login-reg-menu-mobile\">\\n      <li>\\n       <a href=\"/account/Login.aspx?ReturnUrl=%2fresources%2fViewResourceDetails.aspx%3fresourceId%3d3410\">\\n        Login\\n       </a>\\n      </li>\\n      <li>\\n       <a href=\"/account/Register.aspx\">\\n        Register\\n       </a>\\n      </li>\\n     </ul>\\n    </div>\\n    <div class=\"mobile-blue-bg-bar-wrap\" id=\"bs-example-navbar-collapse-1\">\\n     <ul class=\"nav navbar-nav page-main-menu-listing page-main-menu-listing-webside\">\\n      <li class=\"dropdown\">\\n       <a aria-expanded=\"false\" aria-haspopup=\"true\" class=\"dropdown-toggle\" data-toggle=\"dropdown\" href=\"/\" role=\"button\">\\n        Articles\\n        <span class=\"caret\">\\n        </span>\\n       </a>\\n       <ul class=\"dropdown-menu main-submenu-item-listing\">\\n        <li>\\n         <a href=\"/resources/Category4-Travel-Tips.aspx\">\\n          Travel Tips\\n         </a>\\n        </li>\\n        <li>\\n         <a href=\"/resources/Category41-Travel-Experience.aspx\">\\n          Travel Experience\\n         </a>\\n        </li>\\n        <li>\\n         <a href=\"/resources/Category5-Travel-Abroad.aspx\">\\n          International\\n         </a>\\n        </li>\\n        <li>\\n         <a href=\"/resources/Category1-India-Travel-Destinations.aspx\">\\n          Indian Destinations\\n         </a>\\n        </li>\\n        <li>\\n         <a href=\"/resources/\">\\n          Travel Blogs\\n         </a>\\n        </li>\\n       </ul>\\n      </li>\\n      <li class=\"dropdown\">\\n       <a aria-expanded=\"false\" aria-haspopup=\"true\" class=\"dropdown-toggle\" data-toggle=\"dropdown\" href=\"/\" role=\"button\">\\n        Destinations\\n        <span class=\"caret\">\\n        </span>\\n       </a>\\n       <ul class=\"dropdown-menu main-submenu-item-listing\">\\n        <li>\\n         <a href=\"/destinations/\">\\n          All Destinations\\n         </a>\\n        </li>\\n        <li>\\n         <a href=\"/destinations/1-Kerala.aspx\">\\n          Kerala\\n         </a>\\n        </li>\\n        <li>\\n         <a href=\"/destinations/3-Goa.aspx\">\\n          Goa\\n         </a>\\n        </li>\\n        <li>\\n         <a href=\"/destinations/32-Andaman-and-Nicobar-Islands.aspx\">\\n          Andaman and Nicobar Islands\\n         </a>\\n        </li>\\n       </ul>\\n      </li>\\n      <li>\\n       <a href=\"http://www.indiatravelblog.com/articles/Best-In-India.aspx\">\\n        Best in India\\n       </a>\\n      </li>\\n      <li>\\n       <a href=\"/forum/\">\\n        Forum\\n       </a>\\n      </li>\\n      <li>\\n       <a href=\"http://www.indiatravelblog.com/resources/PostingOption.aspx?ReturnUrl=/resources/PostResource.aspx?CategoryId=\">\\n        Submit Blog\\n       </a>\\n      </li>\\n     </ul>\\n     <form class=\"navbar-form navbar-left main-menu-search-box\" role=\"search\">\\n      <div class=\"input-group input-group-mobile-icon-wrap\">\\n       <input class=\"form-control form-control-custom\" id=\"txtSearch\" name=\"txtSearch\" onblur=\"if(this.value==\\'\\')this.value=this.defaultValue;\" onfocus=\"if(this.value==this.defaultValue)this.value=\\'\\';\" onkeypress=\"return OpenSearchKey(event);\" placeholder=\"Search\" type=\"text\" value=\"Search\"/>\\n       <span class=\"input-group-btn\">\\n        <button class=\"btn btn-custom\" id=\"searchbutton\" type=\"button\">\\n         <span aria-hidden=\"true\" class=\"glyphicon glyphicon-search\">\\n         </span>\\n        </button>\\n       </span>\\n      </div>\\n     </form>\\n     <form action=\"#\" class=\"search-box pull-right mobile-search-box\" method=\"post\">\\n      <span class=\"icon-magnifier search-icon\">\\n       <img alt=\"Search\" src=\"/images/search-icon.png\"/>\\n      </span>\\n      <input class=\"search-bar\" name=\"search-bar\" placeholder=\"Enter text...\" type=\"text\"/>\\n     </form>\\n    </div>\\n   </div>\\n  </nav>\\n  <!-- 6 -->\\n  <div class=\"container\" id=\"content\">\\n   <div class=\"row\">\\n    <div class=\"col-md-offset-1 col-md-10 bigad\">\\n     <script async=\"\" src=\"//pagead2.googlesyndication.com/pagead/js/adsbygoogle.js\">\\n     </script>\\n     <!-- IndiaTravelBlog 728x90 -->\\n     <ins class=\"adsbygoogle\" data-ad-client=\"ca-pub-7317001610240998\" data-ad-slot=\"5974156152\" style=\"display:inline-block;width:700px;height:90px\">\\n     </ins>\\n     <script>\\n      (adsbygoogle = window.adsbygoogle || []).push({});\\n     </script>\\n    </div>\\n   </div>\\n   <div class=\"row\">\\n    <div class=\"col-md-8\">\\n     <ol class=\"breadcrumb\">\\n      <div class=\"row\">\\n       <div class=\"col-md-12\">\\n        <ol class=\"breadcrumb\">\\n         <li>\\n          <a href=\"/resources/\">\\n           Resources\\n          </a>\\n         </li>\\n         <li>\\n          <a href=\"/resources/Category4-Travel-Tips.aspx\">\\n           Travel Tips\\n          </a>\\n         </li>\\n         <li>\\n          <a href=\"/resources/Category8-Travel-transportation.aspx\">\\n           Travel transportation\\n          </a>\\n         </li>\\n         <li class=\"active\">\\n         </li>\\n        </ol>\\n       </div>\\n      </div>\\n     </ol>\\n    </div>\\n   </div>\\n   <div class=\"row\">\\n    <div class=\"col-md-8 main normalized\">\\n     <script type=\"text/javascript\">\\n      function ConfirmMoveToForum(resourceId) {\\r\\n        var x = confirm(\"Are you sure you want to move this article to the Forum?\");\\r\\n        if (x) {\\r\\n            window.location = \"/resources/ViewResource.aspx?ResourceId=\" + resourceId + \"&PageAction=moveToForum\";\\r\\n        }\\r\\n        else {\\r\\n            // Do nothing.\\r\\n        }\\r\\n    }\\n     </script>\\n     <style>\\n      img { max-width: 100%; }\\n     </style>\\n     <div class=\"row\">\\n      <div class=\"col-md-12\">\\n       <article class=\"item\">\\n        <header>\\n         <h1>\\n          Top 10 online travel websites to book your tickets cheaper\\n         </h1>\\n         <div class=\"byline\">\\n          Posted Date:\\n          <time datetime=\"2015-09-09T23:21:48.0670000\" itemprop=\"publishDate\">\\n           09 Sep 2015\\n          </time>\\n          <span class=\"sep\">\\n           |\\n          </span>\\n          Updated: 09-Sep-2015\\n          <span class=\"sep\">\\n           |\\n          </span>\\n          <span class=\"category\">\\n           Category:\\n           <a href=\"/resources/Category8-Travel-transportation.aspx\">\\n            Travel transportation\\n           </a>\\n          </span>\\n          <span class=\"sep\">\\n           |\\n          </span>\\n          <span class=\"byline-author\">\\n           Author:\\n           <a href=\"/member/prakash123.aspx\" rel=\"author\">\\n            <span itemprop=\"author\">\\n             Prakash\\n            </span>\\n           </a>\\n          </span>\\n          <span class=\"sep\">\\n           |\\n          </span>\\n          <span class=\"category\">\\n           Member Level:\\n           <a href=\"/general/MembershipLevels.aspx\" rel=\"nofollow\" title=\"Total Points: 142\">\\n            Silver\\n           </a>\\n          </span>\\n          <span class=\"sep\">\\n           |\\n          </span>\\n          Points:\\n          <a href=\"/general/ContentRating.aspx?EntityType=1&amp;EntityId=3410\">\\n           100\\n          </a>\\n          <span class=\"sep\">\\n           |\\n          </span>\\n         </div>\\n         <p class=\"lead\">\\n          <br/>\\n          <span itemprop=\"summary\">\\n           Here you can read about top 10 online travel websites which can help you with booking flights or hotels with discounts.\\n          </span>\\n          <br/>\\n          <br/>\\n         </p>\\n        </header>\\n        <p>\\n         <span itemprop=\"articleBody\">\\n          People have become so much passionate about travelling that we read many of them even quitting their job for accomplishing their dream see the light. It is more like an adventure for them, exploring new places, meeting new people, getting to know and learn new culture from other countries, tribes and even neighboring states. The expense involved is never a concern for them.\\n          <br/>\\n          <br/>\\n          We recently read news on a couple who had quit their job to travel the world but, finally landed up scrubbing the loo and that too for money! Chanel Cartell and Stevo Dirnberger had quit their advertising jobs to follow their dream of travelling around the world. But, people were quite alarmed to see a blog post by Cartell which she posted recently. It said that she wanted to share the uglier side of their trip after six months. They landed up bankrupt and now scrub the loo for pay, to earn a living! That sounds so scary indeed!!\\n          <br/>\\n          <br/>\\n          <script async=\"\" src=\"//pagead2.googlesyndication.com/pagead/js/adsbygoogle.js\">\\n          </script>\\n          <!-- IndiaTravelBlog 336x280 -->\\n          <ins class=\"adsbygoogle\" data-ad-client=\"ca-pub-7317001610240998\" data-ad-slot=\"1404355756\" style=\"display:inline-block;width:336px;height:280px\">\\n          </ins>\\n          <script>\\n           (adsbygoogle = window.adsbygoogle || []).push({});\\n          </script>\\n          <br/>\\n          <br/>\\n          Now, that is something we need to foresee before we plan our journey. Things won\\'t be simple once the journey is set. Now, all these matters for people who are like avid travelers. If you are a person who would like to explore the world on a minimal note, you have plenty of ways to save money on each trip that you do including your tickets, food and even accommodation. Online travel websites play a key role in this factor. Let\\'s ponder on such top 10 online travel websites that will get your tickets cheaper...\\n          <br/>\\n          <br/>\\n          <h2>\\n           MakeMyTrip\\n          </h2>\\n          <img alt=\"Makemytrip website\" src=\"http://www.indiatravelblog.com/attachments/Resources/3410-1-Makemytrip-website.PNG\" style=\"padding:10px\"/>\\n          <br/>\\n          <br/>\\n          <a href=\"https://www.makemytrip.com\" rel=\"nofollow\" target=\"_blank\">\\n           MakeMyTrip\\n          </a>\\n          is one of the best online travel websites in India that helps i meeting the end to end needs of any needy traveler, right from booking your tickets to getting you the best accommodation - all these at amazing discounted rates that leaves you jaw dropping!\\n          <br/>\\n          <br/>\\n          MakeMyTrip is one such travel websites where you get amazing offers and discounts on International flights. They make sure that all their customers are well-satisfied with their services and so they assure that they get the best comfort at a very reasonable rate. This has in fact made them boosted them to be one of the most sought after travel websites in India. Check out their amazing deals on domestic flights as well. They also have a travel blog where they share best places to explore for the season, and tips on making your travel a cheaper one with fond memories.\\n          <br/>\\n          <br/>\\n          <h2>\\n           Thomas Cook\\n          </h2>\\n          <img alt=\"Thomas cook website image\" src=\"http://www.indiatravelblog.com/attachments/Resources/3410-5-Thomas-cook-website-image.PNG\" style=\"padding:10px\"/>\\n          <br/>\\n          <br/>\\n          Enjoy a flight journey or even a cruise journey via\\n          <a href=\"https://www.thomascook.in/\" rel=\"nofollow\" target=\"_blank\">\\n           Thomas Cook\\n          </a>\\n          , one of the most trusted online travel website. They assure a smooth travel as their tagline suggests. Apart from booking tickets, you can even plan your honeymoon, book hotels; seek help for travel insurance, visa services and lots more.\\n          <br/>\\n          <br/>\\n          Thomas Cook gets you amazing offers and discounts on each of the services offered by them. Book your tickets for International as well as domestic flights using Thomas Cook Coupons, offers, deals and promo codes which will slash down the price rates that is unbeatable. Click\\n          <a href=\"http://www.couponrani.com/thomas-cook-coupons\" rel=\"nofollow\" target=\"_blank\">\\n           here\\n          </a>\\n          to get coupons\\n          <br/>\\n          <br/>\\n          <div class=\"advertisement_label\" style=\"width:730px;height:91px;\">\\n           <script async=\"\" src=\"//pagead2.googlesyndication.com/pagead/js/adsbygoogle.js\">\\n           </script>\\n           <!-- IndiaTravelBlog 728x90 -->\\n           <ins class=\"adsbygoogle\" data-ad-client=\"ca-pub-7317001610240998\" data-ad-slot=\"5974156152\" style=\"display:inline-block;width:700px;height:90px\">\\n           </ins>\\n           <script>\\n            (adsbygoogle = window.adsbygoogle || []).push({});\\n           </script>\\n          </div>\\n          <br/>\\n          <br/>\\n          <h2>\\n           Ticketgoose\\n          </h2>\\n          <img alt=\"ticketgoose web image\" src=\"http://www.indiatravelblog.com/attachments/Resources/3410-6-ticketgoose-web-image.PNG\" style=\"padding:10px\"/>\\n          <br/>\\n          <br/>\\n          It is not always possible to book flight tickets each time you plan a journey. Sometimes, you might prefer your own vehicle for short distances and even buses. It has been reported that a lot of people generally prefer buses to any other mode of conveyance which has made it quite popular as such!\\n          <br/>\\n          <br/>\\n          Ticketgoose is one such online website that helps you in booking your tickets just with a few clicks and that too at surprising slashed rates. They have bus services to top destinations like Chennai, Bangalore, Pune, Goa, Hyderabad, Kochi and more.\\n          <a href=\"http://www.couponrani.com/ticketgoose-coupons\" rel=\"nofollow\" target=\"_blank\">\\n           Get\\n          </a>\\n          coupons for Ticketgoose\\n          <br/>\\n          <br/>\\n          <h2>\\n           Booking.com\\n          </h2>\\n          <img alt=\"booking website screenshot\" src=\"http://www.indiatravelblog.com/attachments/Resources/3410-2-booking-website-screenshot.PNG\" style=\"padding:10px\"/>\\n          <br/>\\n          <br/>\\n          Booking.com is one such online websites that gets you the best accommodation, anywhere around the globe at the best hotels, apartments and villas. They assure the best price guaranteed. You can even share your experiences with them as testimonials and share your reviews about the places you visited with their help.\\n          <br/>\\n          <br/>\\n          You can very well search for the best deals based on destination which will make your search more confined, easy and can save your time.\\n          <br/>\\n          <br/>\\n          <h2>\\n           Expedia\\n          </h2>\\n          <img alt=\"Expedia homepage image\" src=\"http://www.indiatravelblog.com/attachments/Resources/3410-3-Expedia-homepage-image.PNG\" style=\"padding:10px\"/>\\n          <br/>\\n          <br/>\\n          Book your flight, bus or cab at the lowest assured price from\\n          <a href=\"https://www.expedia.co.in\" rel=\"nofollow\" target=\"_blank\">\\n           Expedia\\n          </a>\\n          , an online travel website that caters to all your travel needs. The main highlight of this particular site is that if you find that you did not get the best-guaranteed price or that you paid a higher amount, you will be refunded the extra amount that you had paid them!\\n          <br/>\\n          <br/>\\n          Check out for their exciting deals on hotels worldwide for the upcoming Dusshera, where they have offered flat 50% off. The booking ends on 29th September. You can travel before 30th November. Check out the site for more details and other exciting deals.\\n          <br/>\\n          <br/>\\n          Expedia also offers hotel booking with lot of deals. Explore hotel deals at Expedia\\n          <br/>\\n          <br/>\\n          <div class=\"advertisement_label\" style=\"width:730px;height:91px;\">\\n           <script async=\"\" src=\"//pagead2.googlesyndication.com/pagead/js/adsbygoogle.js\">\\n           </script>\\n           <!-- IndiaTravelBlog 728x90 -->\\n           <ins class=\"adsbygoogle\" data-ad-client=\"ca-pub-7317001610240998\" data-ad-slot=\"5974156152\" style=\"display:inline-block;width:700px;height:90px\">\\n           </ins>\\n           <script>\\n            (adsbygoogle = window.adsbygoogle || []).push({});\\n           </script>\\n          </div>\\n          <br/>\\n          <br/>\\n          <h2>\\n           TravelGuru\\n          </h2>\\n          <img alt=\"travelguru\" src=\"http://www.indiatravelblog.com/attachments/Resources/3410-8-travelguru.PNG\" style=\"padding:10px\"/>\\n          <br/>\\n          <br/>\\n          TravelGuru is again another online website for getting the best hotel deals worldwide. You will find amazing deals on weekend getaway packages as well. Book your favorite hotels at any location at the most reasonable rates via TravelGuru. If you are too lucky, you can even get them at a slashed half rate!\\n          <br/>\\n          <br/>\\n          Check out their website for all the latest offers and discounts and also for the upcoming festivals including Dusshera. Do not forget to grab their last minute deals that happen on the 11th hour!\\n          <br/>\\n          <br/>\\n          TravelGuru also offers hotel guru.\\n          <a href=\"https://www.travelguru.com\" rel=\"nofollow\" target=\"_blank\">\\n           Check\\n          </a>\\n          TravelGuru website for hotel deals.\\n          <br/>\\n          <br/>\\n          <h2>\\n           ClearTrip\\n          </h2>\\n          <img alt=\"cleartrip\" src=\"http://www.indiatravelblog.com/attachments/Resources/3410-10-cleartrip.PNG\" style=\"padding:10px\"/>\\n          <br/>\\n          <br/>\\n          Book your travel needs including flights, buses, hotels, combos and even train tickets via ClearTrip, a one stop destination that will make all your travel needs a cost effective one. Travel anywhere in the world at the best price. Explore interesting to-do activities on local grounds including indoor as well as outdoor and lots more.\\n          <br/>\\n          <br/>\\n          Read more at\\n          <a href=\"http://clk.omgt5.com/?AID=963653&amp;PID=8162&amp;WID=65575\" rel=\"nofollow\" target=\"_blank\">\\n           ClearTrip website\\n          </a>\\n          .\\n          <br/>\\n          <br/>\\n          <div class=\"advertisement_label\" style=\"width:730px;height:91px;\">\\n           <script async=\"\" src=\"//pagead2.googlesyndication.com/pagead/js/adsbygoogle.js\">\\n           </script>\\n           <!-- IndiaTravelBlog 728x90 -->\\n           <ins class=\"adsbygoogle\" data-ad-client=\"ca-pub-7317001610240998\" data-ad-slot=\"5974156152\" style=\"display:inline-block;width:700px;height:90px\">\\n           </ins>\\n           <script>\\n            (adsbygoogle = window.adsbygoogle || []).push({});\\n           </script>\\n          </div>\\n          <br/>\\n          <br/>\\n          <h2>\\n           Yatra\\n          </h2>\\n          <img alt=\"yatra website home page\" src=\"http://www.indiatravelblog.com/attachments/Resources/3410-9-yatra-website-home-page.PNG\" style=\"padding:10px\"/>\\n          <br/>\\n          <br/>\\n          Yatra is a super saving online travel site that meets all your travel needs at a great price. Get amazing discounts while booking your flight, bus or even train tickets. Also, get the best prices guaranteed for hotels and any domestic as well as International tour packages.\\n          <br/>\\n          <br/>\\n          Check out their picks for some amazing tour for honeymoon, to hill stations, family trips, weekend getaways, and even some exotic destinations that will conquer your mind.\\n          <br/>\\n          <br/>\\n          <a href=\"https://www.yatra.com\" rel=\"nofollow\" target=\"_blank\">\\n           Read\\n          </a>\\n          more at Yatra website.\\n          <br/>\\n          <br/>\\n          <h2>\\n           Travelchacha\\n          </h2>\\n          <img alt=\"travelchacha image\" src=\"http://www.indiatravelblog.com/attachments/Resources/3410-7-travelchacha-image.PNG\" style=\"padding:10px\"/>\\n          <br/>\\n          <br/>\\n          You can plan your domestic or International holidays with Travelchacha, another online travel expert. Explore wonderful holiday destinations within as well as outside India now at your finger tips. You can book hotels, and can even enjoy a cruise journey with your loved ones at the lowest rates possible with Travelchacha.\\n          <br/>\\n          <br/>\\n          <h2>\\n           Ezeego1\\n          </h2>\\n          <img alt=\"ezeego home page\" src=\"http://www.indiatravelblog.com/attachments/Resources/3410-4-ezeego-home-page.PNG\" style=\"padding:10px\"/>\\n          <br/>\\n          <br/>\\n          Apart from all the above mentioned websites, Ezeego1 is yet another site which helps you to book flights and hotels at affordable rates. Get amazing deals everyday for flights, hotels and holidays. In fact, this travel site holds a lot of heap deals that can make you plan an exciting holiday plan with you family and loved ones.\\n          <br/>\\n          <br/>\\n          These are a list of top 10 lists of online travel websites that can help any avid traveller to have the most memorable trip. It is cost effective as well. So, do check out them before you make your plan and book your tickets cheaper!\\n          <br/>\\n          <br/>\\n          <i>\\n           <h3>\\n            You may also like\\n           </h3>\\n          </i>\\n          <br/>\\n          <ul>\\n           <li>\\n            <a href=\"http://www.indiatravelblog.com/resources/3731-top-10-online-cab-booking-websites-to-book-your-cab-cheaper.aspx\">\\n             Top 10 Online Cab Booking Websites\\n            </a>\\n           </li>\\n           <li>\\n            <a href=\"http://www.indiatravelblog.com/resources/4000-Best-places-to-see-snowfall-in-India.aspx\">\\n             15 Best Places to See Snowfall in India\\n            </a>\\n           </li>\\n           <li>\\n            <a href=\"http://www.indiatravelblog.com/resources/3690-Best-Travel-Destinations-in-Goa.aspx\">\\n             Best travel destinations in Goa\\n            </a>\\n           </li>\\n           <li>\\n            <a href=\"http://www.indiatravelblog.com/resources/3982-Trip-to-USA-from-India.aspx\">\\n             USA in 12 Days\\n            </a>\\n           </li>\\n          </ul>\\n         </span>\\n         <br/>\\n         <br/>\\n         Sponsored Ad :\\n         <br/>\\n         <br/>\\n         Work as you travel from anywhere in the world with a cloud desktop by\\n         <a href=\"https://www.clouddesktoponline.com\">\\n          CloudDesktopOnline.com\\n         </a>\\n         . If you prefer a server, try\\n         <a href=\"http://www.apps4rent.com/\">\\n          Apps4Rent\\n         </a>\\n         .\\n        </p>\\n        <br/>\\n       </article>\\n      </div>\\n     </div>\\n     <div class=\"row\">\\n      <div class=\"col-md-offset-0 col-md-12 bigad\">\\n       <script async=\"\" src=\"//pagead2.googlesyndication.com/pagead/js/adsbygoogle.js\">\\n       </script>\\n       <!-- IndiaTravelBlog 728x90 -->\\n       <ins class=\"adsbygoogle\" data-ad-client=\"ca-pub-7317001610240998\" data-ad-slot=\"5974156152\" style=\"display:inline-block;width:700px;height:90px\">\\n       </ins>\\n       <script>\\n        (adsbygoogle = window.adsbygoogle || []).push({});\\n       </script>\\n      </div>\\n     </div>\\n     <div class=\"row\">\\n      <div class=\"col-md-12\">\\n       <div class=\"item\">\\n        <h3>\\n         Comments\\n        </h3>\\n        <div class=\"row\">\\n         <div class=\"col-md-12 comment\">\\n          <div class=\"comment-header\">\\n           <span class=\"comment-author\">\\n            Guest Author: Avinash Deshpande\\n           </span>\\n           <span class=\"comment-timestamp text-muted\">\\n            08 Jun 2016\\n           </span>\\n          </div>\\n          <p class=\"comment-body\">\\n           <font color=\"BLACK\">\\n            You forgot to add go ibibo in the list which is by far the best site offering discount coupons. I have travelled very cheap from Mumbai to Banglore with their coupons.\\n            <br/>\\n            <br/>\\n            But, is there any other options to get free or discounted tickets? I\\'ve heard from a friend that some airlines offers free passes for patronage etc. Is this true?\\n           </font>\\n          </p>\\n         </div>\\n        </div>\\n        <div class=\"row\">\\n         <div class=\"col-md-12 comment\">\\n          <div class=\"comment-header\">\\n           <span class=\"comment-author\">\\n            Author:\\n            <a href=\"/member/shubho_07.aspx\">\\n             Sunit Saha\\n            </a>\\n           </span>\\n           <span class=\"comment-timestamp text-muted\">\\n            15 Nov 2016\\n           </span>\\n           Member Level:\\n           <b>\\n            <a href=\"/general/MembershipLevels.aspx\" title=\"Total Points: 17\">\\n             Bronze\\n            </a>\\n           </b>\\n           <a href=\"/general/ContentRating.aspx?EntityType=2&amp;EntityId=3002\">\\n            Points\\n           </a>\\n           : 1\\n          </div>\\n          <p class=\"comment-body\">\\n           <font color=\"BLACK\">\\n            You can add Skyscanner in the list as I have got best deals while travelling abroad. It is one of the top 10 travel website to book tickets cheaper.\\n           </font>\\n          </p>\\n         </div>\\n        </div>\\n        <div class=\"row\">\\n         <div class=\"col-md-12 comment\">\\n          <div class=\"comment-header\">\\n           <span class=\"comment-author\">\\n            Guest Author: Vipul Jain\\n           </span>\\n           <span class=\"comment-timestamp text-muted\">\\n            05 Dec 2016\\n           </span>\\n          </div>\\n          <p class=\"comment-body\">\\n           <font color=\"BLACK\">\\n            You have missed on SKyscanner and Goibibo, two of the leading portals for hotels and flights. I use them quite often. It is one top 10 travel website to book tickets cheaper.\\n            <br/>\\n            You can also add www.roundtrips365.com as they have  very economical travel packages to USA\\n           </font>\\n          </p>\\n         </div>\\n        </div>\\n        <div class=\"row\">\\n         <div class=\"col-md-12 comment\">\\n          <div class=\"comment-header\">\\n           <span class=\"comment-author\">\\n            Guest Author: H. Dutta\\n           </span>\\n           <span class=\"comment-timestamp text-muted\">\\n            12 Apr 2017\\n           </span>\\n          </div>\\n          <p class=\"comment-body\">\\n           <font color=\"BLACK\">\\n            Absolutely a great list and a great work. Just want to mention, a new travel social networking site is in place called www.tripnhowl.com Though it is not just a ticket booking site, but it is kind of all in one travel website. Mobile apps are also ready to be launched soon. Here you can plan trips, connect with friends and travellers, share your trips, agencies can also register themselves to show their offers. So its a complete travel social site made for trippers.\\n           </font>\\n          </p>\\n         </div>\\n        </div>\\n        <div class=\"row\">\\n         <div class=\"col-md-12 comment\">\\n          <div class=\"comment-header\">\\n           <span class=\"comment-author\">\\n            Author:\\n            <a href=\"/member/kondapure.aspx\">\\n             sukanya kondapure\\n            </a>\\n           </span>\\n           <span class=\"comment-timestamp text-muted\">\\n            04 Jun 2017\\n           </span>\\n           Member Level:\\n           <b>\\n            <a href=\"/general/MembershipLevels.aspx\" title=\"Total Points: 5\">\\n             Bronze\\n            </a>\\n           </b>\\n           <a href=\"/general/ContentRating.aspx?EntityType=2&amp;EntityId=3254\">\\n            Points\\n           </a>\\n           : 0\\n          </div>\\n          <p class=\"comment-body\">\\n           <font color=\"#4C4C4C\">\\n            Very much good collection of sites and a very much good explanation of the sites.\\n           </font>\\n          </p>\\n         </div>\\n        </div>\\n       </div>\\n      </div>\\n     </div>\\n     <div class=\"row\">\\n      <div class=\"col-md-12\">\\n       <div class=\"item\">\\n        <form action=\"./ViewResourceDetails.aspx?resourceId=3410\" class=\"form-horizontal\" id=\"Form1\" method=\"post\">\\n         <input id=\"__VIEWSTATE\" name=\"__VIEWSTATE\" type=\"hidden\" value=\"/wEPDwULLTIwNjc1NDIzMzNkGAEFHl9fQ29udHJvbHNSZXF1aXJlUG9zdEJhY2tLZXlfXxYBBSZjdGwwMCRDb250ZW50UGxhY2VIb2xkZXIxJGNoa1N1YnNjcmliZWE0tAru8GzQKoZnF2xm/DeaA/m8k7oIK4W6gKGfq8yi\"/>\\n         <input id=\"__VIEWSTATEGENERATOR\" name=\"__VIEWSTATEGENERATOR\" type=\"hidden\" value=\"30510F13\"/>\\n         <a name=\"PostReply\">\\n         </a>\\n         <div id=\"ContentPlaceHolder1_pnlReply\">\\n          <textarea class=\"form-control\" cols=\"60\" id=\"ContentPlaceHolder1_txtReply\" name=\"ctl00$ContentPlaceHolder1$txtReply\" placeholder=\"Post a comment…\" rows=\"8\">\\n          </textarea>\\n          <br/>\\n          <input id=\"ContentPlaceHolder1_chkSubscribe\" name=\"ctl00$ContentPlaceHolder1$chkSubscribe\" type=\"checkbox\"/>\\n          <label for=\"ContentPlaceHolder1_chkSubscribe\">\\n           Notify me by email when others post comments to this article.\\n          </label>\\n          <br/>\\n          <!-- disabled -->\\n          <li>\\n           Do not include your name, \"with regards\" etc in the comment. Write detailed comment, relevant to the topic.\\n          </li>\\n          <li>\\n           No HTML formatting and links to other web sites are allowed.\\n          </li>\\n          <li>\\n           This is a strictly moderated site. Absolutely no spam allowed.\\n          </li>\\n          <div class=\"row\">\\n           <div class=\"col-md-4\">\\n            Name:\\n           </div>\\n           <div class=\"col-md-8\">\\n            <input id=\"ContentPlaceHolder1_txtName\" maxlength=\"30\" name=\"ctl00$ContentPlaceHolder1$txtName\" size=\"20\" type=\"text\"/>\\n           </div>\\n          </div>\\n          <div class=\"row\">\\n           <div class=\"col-md-4\">\\n            Email:\\n           </div>\\n           <div class=\"col-md-8\">\\n            <input id=\"ContentPlaceHolder1_txtEmail\" maxlength=\"100\" name=\"ctl00$ContentPlaceHolder1$txtEmail\" size=\"20\" type=\"text\"/>\\n           </div>\\n          </div>\\n          <div class=\"row\">\\n           <label class=\"col-sm-3 control-label\">\\n            Spam check\\n           </label>\\n           <div class=\"col-sm-8\">\\n            <div class=\"g-recaptcha\" data-sitekey=\"6LeLCAwTAAAAACrl7YYvmF5-qOdWNHfaRck0yXTq\">\\n            </div>\\n           </div>\\n          </div>\\n          <div class=\"row\">\\n           <div class=\"col-md-12\">\\n            <input id=\"ContentPlaceHolder1_btnSubmitReply\" name=\"ctl00$ContentPlaceHolder1$btnSubmitReply\" onclick=\"this.onclick=new Function(\\'return false;\\');\" type=\"submit\" value=\"Submit Response\"/>\\n           </div>\\n          </div>\\n         </div>\\n        </form>\\n       </div>\\n      </div>\\n     </div>\\n     <div class=\"row\">\\n      <div class=\"col-md-6\">\\n       <a href=\"PostResource.aspx\">\\n        Submit Article\\n       </a>\\n      </div>\\n      <div class=\"col-md-6\">\\n       Return to\\n       <a href=\"index.aspx\">\\n        Article Index\\n       </a>\\n      </div>\\n     </div>\\n    </div>\\n    <div class=\"col-md-4 sidebar\">\\n     <div class=\"row\">\\n      <div class=\"item\">\\n       <div class=\"fb-like\" data-action=\"like\" data-href=\"https://www.facebook.com/IndiaTravelBlogs/\" data-layout=\"standard\" data-share=\"true\" data-show-faces=\"true\" data-width=\"300\">\\n       </div>\\n      </div>\\n     </div>\\n     <div class=\"row\">\\n      <div class=\"item\">\\n       <h3>\\n        Popular Blog Posts\\n       </h3>\\n       <a href=\"/resources/5013-List-of-best-restaurants-in-Kochi-Ernakulam.aspx\">\\n        List of best restaurants in Kochi - Ernakulam\\n       </a>\\n       <br/>\\n       <a href=\"/resources/5013-List-of-best-restaurants-in-Kochi-Ernakulam.aspx\" title=\"List of best restaurants in Kochi - Ernakulam\">\\n        <img align=\"left\" src=\"/attachments/resources/thumbs/5013-5-Wok-Grill.jpg\" style=\"padding:5px\" title=\"List of best restaurants in Kochi - Ernakulam\" width=\"75\"/>\\n       </a>\\n       Here is my list of top restaurants in Kochi - Ernakulam area. Being a foodie, I have personally enjoyed the food in all these restaurants and this review is based on my own experience.\\n       <br/>\\n       <br/>\\n       <a href=\"/resources/4960-best-tourist-attractions-in-darjeeling.aspx\">\\n        Best Tourist Attractions In Darjeeling\\n       </a>\\n       <br/>\\n       <a href=\"/resources/4960-best-tourist-attractions-in-darjeeling.aspx\" title=\"Best Tourist Attractions In Darjeeling\">\\n        <img align=\"left\" src=\"/attachments/resources/thumbs/4960-1-Best-Tourist-Attractions-in-Darjeeling.jpg\" style=\"padding:5px\" title=\"Best Tourist Attractions In Darjeeling\" width=\"75\"/>\\n       </a>\\n       This article is about best tourist attractions in Darjeeling. It also describes about the beautiful places on the way to Darjeeling. The rich greenery surrounding this area including tea plantations and the train journey in Darjeeling are also outlined.\\n       <br/>\\n       <br/>\\n       <a href=\"/resources/4907-Top-10-Wildlife-Safari-Destinations-In-India.aspx\">\\n        Top 10 Wildlife Safari Destinations In India\\n       </a>\\n       <br/>\\n       <a href=\"/resources/4907-Top-10-Wildlife-Safari-Destinations-In-India.aspx\" title=\"Top 10 Wildlife Safari Destinations In India\">\\n        <img align=\"left\" src=\"/attachments/resources/thumbs/4907-1-top-10-wildlife-safari-destination-in-india.jpg\" style=\"padding:5px\" title=\"Top 10 Wildlife Safari Destinations In India\" width=\"75\"/>\\n       </a>\\n       This article helps you to know more about the top 10 wildlife safari destinations in India and the major features associated with each of them.\\n       <br/>\\n       <br/>\\n       <a href=\"/resources/4955-what-to-wear-on-your-trip-to-rajasthan.aspx\">\\n        What to Wear on Your Trip to Rajasthan\\n       </a>\\n       <br/>\\n       In this article, I am going to elaborate on what to wear on your trip to Rajasthan with a Royal Backdrops of Forts and lakes.To get the best clicks in the Land of kings it is always good to dress like a Diva.\\n       <br/>\\n       <br/>\\n       <a href=\"/resources/4945-Top-Things-to-Do-in-India.aspx\">\\n        Top Things to Do in India in 2018\\n       </a>\\n       <br/>\\n       Find helpful tips how to organize your trip to India.  Here are Top things to do in India. Learn more about things to do in the country of legends and fairytales-India.\\n       <br/>\\n       <br/>\\n       <a href=\"/resources/\">\\n        More...\\n       </a>\\n      </div>\\n     </div>\\n    </div>\\n   </div>\\n  </div>\\n  <div class=\"container-fluid footer main-footer-outer-wrap\">\\n   <div class=\"footer-top-bar-section col-md-12 col-sm-12 col-xs-12\">\\n    <div class=\"container\">\\n     <div class=\"col-md-6 col-sm-6 col-xs-12 subscribe-news-outer-wrap\">\\n      <input class=\"subscribe-news-input-field\" placeholder=\"News letter...\"/>\\n      <button class=\"subscribe-news-button\">\\n       Subscribe\\n      </button>\\n     </div>\\n     <div class=\"col-md-6 col-sm-6 col-xs-12 follow-us-section-wrap\" itemscope=\"\" itemtype=\"http://schema.org/Organization\">\\n      <link href=\"http://www.indiatravelblog.com\" itemprop=\"url\"/>\\n      <ul class=\"main-footer-social-icons\">\\n       <li>\\n        Follow Us\\n       </li>\\n       <li>\\n        <a class=\"footer-facebbok-icon\" href=\"http://www.facebook.com/IndiaTravelBlogs\" itemprop=\"sameAs\" rel=\"nofollow\" target=\"_blank\">\\n         <i aria-hidden=\"true\" class=\"fa fa-facebook\">\\n         </i>\\n        </a>\\n       </li>\\n       <li>\\n        <a class=\"footer-googleplus-icon\" href=\"https://plus.google.com/IndiaTravelBlog\" itemprop=\"sameAs\" rel=\"nofollow\" target=\"_blank\">\\n         <i aria-hidden=\"true\" class=\"fa fa-googleplus\">\\n         </i>\\n        </a>\\n       </li>\\n      </ul>\\n     </div>\\n    </div>\\n   </div>\\n   <div class=\"col-md-12 col-sm-12 col-xs-12 dark-footer-below-section-wrap\">\\n    <div class=\"container\">\\n     <div class=\"col-md-3 col-sm-3 col-xs-12 main-footer-menu-wrap footer-menu-first-column\">\\n      <div class=\"media\">\\n       <div class=\"media-left\">\\n       </div>\\n       <div class=\"media-body\">\\n        <h4 class=\"media-heading\">\\n         About IndiaTravelBlog.com\\n        </h4>\\n       </div>\\n      </div>\\n      <p class=\"footer-about-desc\">\\n       We believe in providing quality content to our readers. If you have any questions or concerns regarding any content published here, feel free to contact us using the Contact link below.\\n      </p>\\n     </div>\\n     <div class=\"col-md-2 col-sm-2 col-xs-4 main-footer-menu-wrap footer-items-listing-middle\">\\n      <h6 class=\"main-footer-head-quote\">\\n       Travelholic\\n      </h6>\\n      <ul class=\"main-footer-items-listings\">\\n       <li>\\n        <a href=\"/forum/\">\\n         Travel Forum\\n        </a>\\n       </li>\\n       <li>\\n        <a href=\"/resources/Category1-India-Travel-Destinations.aspx\">\\n         Travel Destinations\\n        </a>\\n       </li>\\n       <li>\\n        <a href=\"/forum/Category3-Travel-Questions.aspx\">\\n         Travel Queries\\n        </a>\\n       </li>\\n       <li>\\n        <a href=\"/resources/\">\\n         Travel Blogs\\n        </a>\\n       </li>\\n      </ul>\\n     </div>\\n     <div class=\"col-md-2 col-sm-2 col-xs-4 main-footer-menu-wrap footer-items-listing-middle\">\\n      <h6 class=\"main-footer-head-quote\">\\n       Travel Guide\\n      </h6>\\n      <ul class=\"main-footer-items-listings\">\\n       <li>\\n        <a href=\"/resources/Category11-Travel-packages.aspx\">\\n         Travel Packages\\n        </a>\\n       </li>\\n       <li>\\n        <a href=\"/resources/Category4-Travel-Tips.aspx\">\\n         Travel Tips\\n        </a>\\n       </li>\\n       <li>\\n        <a href=\"/resources/Category46-Travel-Business.aspx\">\\n         Travel Business\\n        </a>\\n       </li>\\n       <li>\\n        <a href=\"/resources/Category5-Travel-Abroad.aspx\">\\n         Travel Abroad\\n        </a>\\n       </li>\\n      </ul>\\n     </div>\\n     <div class=\"col-md-2 col-sm-2 col-xs-4 main-footer-menu-wrap footer-items-listing-middle\">\\n      <h6 class=\"main-footer-head-quote\">\\n       Travelouge\\n      </h6>\\n      <ul class=\"main-footer-items-listings\">\\n       <li>\\n        <a href=\"/resources/Category10-Travel-guides-and-books.aspx\">\\n         Travel Articles &amp; Books\\n        </a>\\n       </li>\\n       <li>\\n        <a href=\"/resources/Category7-Travel-tips-and-preparation.aspx\">\\n         Travel Tips &amp; Preparation\\n        </a>\\n       </li>\\n       <li>\\n        <a href=\"/resources/Category9-Travel-activites-and-ideas.aspx\">\\n         Travel Venture &amp; Ideas\\n        </a>\\n       </li>\\n       <li>\\n        <a href=\"/resources/Category41-Travel-Experience.aspx\">\\n         Travel Experience\\n        </a>\\n       </li>\\n      </ul>\\n     </div>\\n     <div class=\"col-md-3 col-sm-3 col-xs-12 main-footer-menu-wrap footer-menu-last-column\">\\n      <button class=\"footer-main-link-buttons\">\\n       <a href=\"/credits/\">\\n        Awards\\n       </a>\\n      </button>\\n      <button class=\"footer-main-link-buttons\">\\n       <a href=\"/credits/index.aspx?Display=Group\">\\n        Top Earners\\n       </a>\\n      </button>\\n      <button class=\"footer-main-link-buttons\">\\n       <a href=\"/newposts/\">\\n        New Posts\\n       </a>\\n      </button>\\n     </div>\\n    </div>\\n   </div>\\n   <div class=\" copyright copyright-new col-md-12 col-sm-12 col-xs-12\">\\n    <div class=\"container\">\\n     <div class=\"col-md-12 col-sm-12 col-xs-12 copyright-inner-wrap\">\\n      <div class=\"col-md-6 col-sm-6 col-xs-12 footer-btm-small-menu-wrap\">\\n       <ul class=\"footer-btm-menu-listing\">\\n        <li>\\n         <a href=\"/general/AboutUs.aspx\">\\n          About Us\\n         </a>\\n        </li>\\n        <li>\\n         <a href=\"/general/ContactUs.aspx\">\\n          Contact Us\\n         </a>\\n        </li>\\n        <li>\\n         <a href=\"/general/Copyrights.aspx\">\\n          Copyright\\n         </a>\\n        </li>\\n        <li>\\n         <a href=\"/general/PrivacyPolicy.aspx\">\\n          Privacy Policy\\n         </a>\\n        </li>\\n        <li>\\n         <a href=\"/general/TermsOfUse.aspx\">\\n          Terms of Use\\n         </a>\\n        </li>\\n       </ul>\\n      </div>\\n      <div class=\"col-md-6 col-sm-6 col-xs-12 text-center footer-copty-text\">\\n       <p>\\n        SpiderWorks Technologies, Kochi - India. ©\\n        <span class=\"rights-reserve-on-mobile\">\\n         All Rights Reserved.\\n        </span>\\n       </p>\\n      </div>\\n     </div>\\n    </div>\\n   </div>\\n  </div>\\n  <script>\\n   (function(i,s,o,g,r,a,m){i[\\'GoogleAnalyticsObject\\']=r;i[r]=i[r]||function(){\\r\\n  (i[r].q=i[r].q||[]).push(arguments)},i[r].l=1*new Date();a=s.createElement(o),\\r\\n  m=s.getElementsByTagName(o)[0];a.async=1;a.src=g;m.parentNode.insertBefore(a,m)\\r\\n  })(window,document,\\'script\\',\\'//www.google-analytics.com/analytics.js\\',\\'ga\\');\\r\\n\\r\\n  ga(\\'create\\', \\'UA-4428394-66\\', \\'auto\\');\\r\\n  ga(\\'send\\', \\'pageview\\');\\n  </script>\\n  <!--Add the following script at the bottom of the web page (before </body></html>)-->\\n  <script async=\"async\" data-cfasync=\"false\" defer=\"defer\" src=\"https://mylivechat.com/chatinline.aspx?hccid=97486283\" type=\"text/javascript\">\\n  </script>\\n  <script src=\"https://code.jquery.com/jquery-2.1.4.min.js\">\\n  </script>\\n  <script src=\"https://maxcdn.bootstrapcdn.com/bootstrap/3.3.5/js/bootstrap.min.js\">\\n  </script>\\n  <script src=\"http://spiderworks.info/script.min.js\">\\n  </script>\\n  <div id=\"fb-root\">\\n  </div>\\n  <script>\\n   (function (d, s, id) {\\r\\n        var js, fjs = d.getElementsByTagName(s)[0];\\r\\n        if (d.getElementById(id)) return;\\r\\n        js = d.createElement(s); js.id = id;\\r\\n        js.src = \"//connect.facebook.net/en_US/sdk.js#xfbml=1&version=v2.3&appId=211956038847988\";\\r\\n        fjs.parentNode.insertBefore(js, fjs);\\r\\n    } (document, \\'script\\', \\'facebook-jssdk\\'));\\n  </script>\\n  <script>\\n   $(\\'#searchbutton\\').click(function () {\\r\\n    $(\\'.main-menu-search-box div input\\').toggleClass(\\'expanded\\');\\r\\n});\\n  </script>\\n  <script>\\n   $(\\'.search-box .icon-magnifier\\').on(\\'click\\', function (e) {\\r\\n           $(\\'.search-bar\\').toggleClass(\"search-bar-open\");\\r\\n           $(\\'.search-icon\\').toggleClass(\"search-icon-open\");\\r\\n           e.preventDefault();\\r\\n       });\\n  </script>\\n </body>\\n</html>\\n'"
      ]
     },
     "execution_count": 5,
     "metadata": {},
     "output_type": "execute_result"
    }
   ],
   "source": [
    "soup.prettify()"
   ]
  },
  {
   "cell_type": "code",
   "execution_count": 6,
   "metadata": {},
   "outputs": [
    {
     "data": {
      "text/plain": [
       "<article class=\"item\">\n",
       "<header>\n",
       "<h1>Top 10 online travel websites to book your tickets cheaper</h1>\n",
       "<div class=\"byline\">Posted Date: <time datetime=\"2015-09-09T23:21:48.0670000\" itemprop=\"publishDate\">09 Sep 2015</time> <span class=\"sep\">|</span>Updated: 09-Sep-2015 <span class=\"sep\">|</span><span class=\"category\">Category: <a href=\"/resources/Category8-Travel-transportation.aspx\">Travel transportation</a></span> <span class=\"sep\">|</span><span class=\"byline-author\">Author: <a href=\"/member/prakash123.aspx\" rel=\"author\"><span itemprop=\"author\">Prakash</span></a></span> <span class=\"sep\">|</span><span class=\"category\">Member Level: <a href=\"/general/MembershipLevels.aspx\" rel=\"nofollow\" title=\"Total Points: 142\">Silver</a></span> <span class=\"sep\">|</span>Points: <a href=\"/general/ContentRating.aspx?EntityType=1&amp;EntityId=3410\">100</a> <span class=\"sep\">|</span></div>\n",
       "<p class=\"lead\">\n",
       "<br/><span itemprop=\"summary\">Here you can read about top 10 online travel websites which can help you with booking flights or hotels with discounts.</span><br/><br/>\n",
       "</p>\n",
       "</header>\n",
       "<p><span itemprop=\"articleBody\">People have become so much passionate about travelling that we read many of them even quitting their job for accomplishing their dream see the light. It is more like an adventure for them, exploring new places, meeting new people, getting to know and learn new culture from other countries, tribes and even neighboring states. The expense involved is never a concern for them.<br/><br/>We recently read news on a couple who had quit their job to travel the world but, finally landed up scrubbing the loo and that too for money! Chanel Cartell and Stevo Dirnberger had quit their advertising jobs to follow their dream of travelling around the world. But, people were quite alarmed to see a blog post by Cartell which she posted recently. It said that she wanted to share the uglier side of their trip after six months. They landed up bankrupt and now scrub the loo for pay, to earn a living! That sounds so scary indeed!!<br/><br/><script async=\"\" src=\"//pagead2.googlesyndication.com/pagead/js/adsbygoogle.js\"></script>\n",
       "<!-- IndiaTravelBlog 336x280 -->\n",
       "<ins class=\"adsbygoogle\" data-ad-client=\"ca-pub-7317001610240998\" data-ad-slot=\"1404355756\" style=\"display:inline-block;width:336px;height:280px\"></ins>\n",
       "<script>\n",
       "(adsbygoogle = window.adsbygoogle || []).push({});\n",
       "</script><br/><br/>Now, that is something we need to foresee before we plan our journey. Things won't be simple once the journey is set. Now, all these matters for people who are like avid travelers. If you are a person who would like to explore the world on a minimal note, you have plenty of ways to save money on each trip that you do including your tickets, food and even accommodation. Online travel websites play a key role in this factor. Let's ponder on such top 10 online travel websites that will get your tickets cheaper...<br/><br/><h2>MakeMyTrip</h2> <img alt=\"Makemytrip website\" src=\"http://www.indiatravelblog.com/attachments/Resources/3410-1-Makemytrip-website.PNG\" style=\"padding:10px\"/><br/><br/><a href=\"https://www.makemytrip.com\" rel=\"nofollow\" target=\"_blank\">MakeMyTrip</a> is one of the best online travel websites in India that helps i meeting the end to end needs of any needy traveler, right from booking your tickets to getting you the best accommodation - all these at amazing discounted rates that leaves you jaw dropping! <br/><br/>MakeMyTrip is one such travel websites where you get amazing offers and discounts on International flights. They make sure that all their customers are well-satisfied with their services and so they assure that they get the best comfort at a very reasonable rate. This has in fact made them boosted them to be one of the most sought after travel websites in India. Check out their amazing deals on domestic flights as well. They also have a travel blog where they share best places to explore for the season, and tips on making your travel a cheaper one with fond memories.<br/><br/><h2>Thomas Cook</h2> <img alt=\"Thomas cook website image\" src=\"http://www.indiatravelblog.com/attachments/Resources/3410-5-Thomas-cook-website-image.PNG\" style=\"padding:10px\"/><br/><br/>Enjoy a flight journey or even a cruise journey via <a href=\"https://www.thomascook.in/\" rel=\"nofollow\" target=\"_blank\">Thomas Cook</a>, one of the most trusted online travel website. They assure a smooth travel as their tagline suggests. Apart from booking tickets, you can even plan your honeymoon, book hotels; seek help for travel insurance, visa services and lots more. <br/><br/>Thomas Cook gets you amazing offers and discounts on each of the services offered by them. Book your tickets for International as well as domestic flights using Thomas Cook Coupons, offers, deals and promo codes which will slash down the price rates that is unbeatable. Click <a href=\"http://www.couponrani.com/thomas-cook-coupons\" rel=\"nofollow\" target=\"_blank\">here</a> to get coupons<br/><br/><div class=\"advertisement_label\" style=\"width:730px;height:91px;\"><script async=\"\" src=\"//pagead2.googlesyndication.com/pagead/js/adsbygoogle.js\"></script>\n",
       "<!-- IndiaTravelBlog 728x90 -->\n",
       "<ins class=\"adsbygoogle\" data-ad-client=\"ca-pub-7317001610240998\" data-ad-slot=\"5974156152\" style=\"display:inline-block;width:700px;height:90px\"></ins>\n",
       "<script>\n",
       "(adsbygoogle = window.adsbygoogle || []).push({});\n",
       "</script></div><br/><br/><h2>Ticketgoose</h2> <img alt=\"ticketgoose web image\" src=\"http://www.indiatravelblog.com/attachments/Resources/3410-6-ticketgoose-web-image.PNG\" style=\"padding:10px\"/><br/><br/>It is not always possible to book flight tickets each time you plan a journey. Sometimes, you might prefer your own vehicle for short distances and even buses. It has been reported that a lot of people generally prefer buses to any other mode of conveyance which has made it quite popular as such!<br/><br/>Ticketgoose is one such online website that helps you in booking your tickets just with a few clicks and that too at surprising slashed rates. They have bus services to top destinations like Chennai, Bangalore, Pune, Goa, Hyderabad, Kochi and more. <a href=\"http://www.couponrani.com/ticketgoose-coupons\" rel=\"nofollow\" target=\"_blank\">Get</a> coupons for Ticketgoose<br/><br/><h2>Booking.com</h2> <img alt=\"booking website screenshot\" src=\"http://www.indiatravelblog.com/attachments/Resources/3410-2-booking-website-screenshot.PNG\" style=\"padding:10px\"/><br/><br/>Booking.com is one such online websites that gets you the best accommodation, anywhere around the globe at the best hotels, apartments and villas. They assure the best price guaranteed. You can even share your experiences with them as testimonials and share your reviews about the places you visited with their help.<br/><br/>You can very well search for the best deals based on destination which will make your search more confined, easy and can save your time.<br/><br/><h2>Expedia</h2> <img alt=\"Expedia homepage image\" src=\"http://www.indiatravelblog.com/attachments/Resources/3410-3-Expedia-homepage-image.PNG\" style=\"padding:10px\"/><br/><br/>Book your flight, bus or cab at the lowest assured price from <a href=\"https://www.expedia.co.in\" rel=\"nofollow\" target=\"_blank\">Expedia</a>, an online travel website that caters to all your travel needs. The main highlight of this particular site is that if you find that you did not get the best-guaranteed price or that you paid a higher amount, you will be refunded the extra amount that you had paid them!<br/><br/>Check out for their exciting deals on hotels worldwide for the upcoming Dusshera, where they have offered flat 50% off. The booking ends on 29th September. You can travel before 30th November. Check out the site for more details and other exciting deals.<br/><br/>Expedia also offers hotel booking with lot of deals. Explore hotel deals at Expedia<br/><br/><div class=\"advertisement_label\" style=\"width:730px;height:91px;\"><script async=\"\" src=\"//pagead2.googlesyndication.com/pagead/js/adsbygoogle.js\"></script>\n",
       "<!-- IndiaTravelBlog 728x90 -->\n",
       "<ins class=\"adsbygoogle\" data-ad-client=\"ca-pub-7317001610240998\" data-ad-slot=\"5974156152\" style=\"display:inline-block;width:700px;height:90px\"></ins>\n",
       "<script>\n",
       "(adsbygoogle = window.adsbygoogle || []).push({});\n",
       "</script></div><br/><br/><h2>TravelGuru</h2> <img alt=\"travelguru\" src=\"http://www.indiatravelblog.com/attachments/Resources/3410-8-travelguru.PNG\" style=\"padding:10px\"/><br/><br/>TravelGuru is again another online website for getting the best hotel deals worldwide. You will find amazing deals on weekend getaway packages as well. Book your favorite hotels at any location at the most reasonable rates via TravelGuru. If you are too lucky, you can even get them at a slashed half rate!<br/><br/>Check out their website for all the latest offers and discounts and also for the upcoming festivals including Dusshera. Do not forget to grab their last minute deals that happen on the 11th hour!<br/><br/>TravelGuru also offers hotel guru. <a href=\"https://www.travelguru.com\" rel=\"nofollow\" target=\"_blank\">Check</a> TravelGuru website for hotel deals.<br/><br/><h2>ClearTrip</h2> <img alt=\"cleartrip\" src=\"http://www.indiatravelblog.com/attachments/Resources/3410-10-cleartrip.PNG\" style=\"padding:10px\"/><br/><br/>Book your travel needs including flights, buses, hotels, combos and even train tickets via ClearTrip, a one stop destination that will make all your travel needs a cost effective one. Travel anywhere in the world at the best price. Explore interesting to-do activities on local grounds including indoor as well as outdoor and lots more.<br/><br/>Read more at <a href=\"http://clk.omgt5.com/?AID=963653&amp;PID=8162&amp;WID=65575\" rel=\"nofollow\" target=\"_blank\">ClearTrip website</a>.<br/><br/><div class=\"advertisement_label\" style=\"width:730px;height:91px;\"><script async=\"\" src=\"//pagead2.googlesyndication.com/pagead/js/adsbygoogle.js\"></script>\n",
       "<!-- IndiaTravelBlog 728x90 -->\n",
       "<ins class=\"adsbygoogle\" data-ad-client=\"ca-pub-7317001610240998\" data-ad-slot=\"5974156152\" style=\"display:inline-block;width:700px;height:90px\"></ins>\n",
       "<script>\n",
       "(adsbygoogle = window.adsbygoogle || []).push({});\n",
       "</script></div><br/><br/><h2>Yatra</h2> <img alt=\"yatra website home page\" src=\"http://www.indiatravelblog.com/attachments/Resources/3410-9-yatra-website-home-page.PNG\" style=\"padding:10px\"/><br/><br/>Yatra is a super saving online travel site that meets all your travel needs at a great price. Get amazing discounts while booking your flight, bus or even train tickets. Also, get the best prices guaranteed for hotels and any domestic as well as International tour packages.<br/><br/>Check out their picks for some amazing tour for honeymoon, to hill stations, family trips, weekend getaways, and even some exotic destinations that will conquer your mind.<br/><br/><a href=\"https://www.yatra.com\" rel=\"nofollow\" target=\"_blank\">Read</a> more at Yatra website.<br/><br/><h2>Travelchacha</h2> <img alt=\"travelchacha image\" src=\"http://www.indiatravelblog.com/attachments/Resources/3410-7-travelchacha-image.PNG\" style=\"padding:10px\"/><br/><br/>You can plan your domestic or International holidays with Travelchacha, another online travel expert. Explore wonderful holiday destinations within as well as outside India now at your finger tips. You can book hotels, and can even enjoy a cruise journey with your loved ones at the lowest rates possible with Travelchacha.<br/><br/><h2>Ezeego1</h2> <img alt=\"ezeego home page\" src=\"http://www.indiatravelblog.com/attachments/Resources/3410-4-ezeego-home-page.PNG\" style=\"padding:10px\"/><br/><br/>Apart from all the above mentioned websites, Ezeego1 is yet another site which helps you to book flights and hotels at affordable rates. Get amazing deals everyday for flights, hotels and holidays. In fact, this travel site holds a lot of heap deals that can make you plan an exciting holiday plan with you family and loved ones. <br/><br/>These are a list of top 10 lists of online travel websites that can help any avid traveller to have the most memorable trip. It is cost effective as well. So, do check out them before you make your plan and book your tickets cheaper!<br/><br/><i><h3>You may also like</h3></i><br/><ul><li><a href=\"http://www.indiatravelblog.com/resources/3731-top-10-online-cab-booking-websites-to-book-your-cab-cheaper.aspx\">Top 10 Online Cab Booking Websites</a></li><li><a href=\"http://www.indiatravelblog.com/resources/4000-Best-places-to-see-snowfall-in-India.aspx\">15 Best Places to See Snowfall in India</a></li><li><a href=\"http://www.indiatravelblog.com/resources/3690-Best-Travel-Destinations-in-Goa.aspx\">Best travel destinations in Goa</a></li><li><a href=\"http://www.indiatravelblog.com/resources/3982-Trip-to-USA-from-India.aspx\">USA in 12 Days</a></li></ul></span><br/><br/>Sponsored Ad : \n",
       "<br/><br/>Work as you travel from anywhere in the world with a cloud desktop by <a href=\"https://www.clouddesktoponline.com\">CloudDesktopOnline.com </a>. If you prefer a server, try <a href=\"http://www.apps4rent.com/\">Apps4Rent</a>.</p>\n",
       "<br/>\n",
       "</article>"
      ]
     },
     "execution_count": 6,
     "metadata": {},
     "output_type": "execute_result"
    }
   ],
   "source": [
    "soup.find('article')"
   ]
  },
  {
   "cell_type": "code",
   "execution_count": 7,
   "metadata": {},
   "outputs": [
    {
     "data": {
      "text/plain": [
       "\"\\n\\nTop 10 online travel websites to book your tickets cheaper\\nPosted Date: 09 Sep 2015 |Updated: 09-Sep-2015 |Category: Travel transportation |Author: Prakash |Member Level: Silver |Points: 100 |\\n\\nHere you can read about top 10 online travel websites which can help you with booking flights or hotels with discounts.\\n\\n\\nPeople have become so much passionate about travelling that we read many of them even quitting their job for accomplishing their dream see the light. It is more like an adventure for them, exploring new places, meeting new people, getting to know and learn new culture from other countries, tribes and even neighboring states. The expense involved is never a concern for them.We recently read news on a couple who had quit their job to travel the world but, finally landed up scrubbing the loo and that too for money! Chanel Cartell and Stevo Dirnberger had quit their advertising jobs to follow their dream of travelling around the world. But, people were quite alarmed to see a blog post by Cartell which she posted recently. It said that she wanted to share the uglier side of their trip after six months. They landed up bankrupt and now scrub the loo for pay, to earn a living! That sounds so scary indeed!!\\n\\n\\n\\r\\n(adsbygoogle = window.adsbygoogle || []).push({});\\r\\nNow, that is something we need to foresee before we plan our journey. Things won't be simple once the journey is set. Now, all these matters for people who are like avid travelers. If you are a person who would like to explore the world on a minimal note, you have plenty of ways to save money on each trip that you do including your tickets, food and even accommodation. Online travel websites play a key role in this factor. Let's ponder on such top 10 online travel websites that will get your tickets cheaper...MakeMyTrip MakeMyTrip is one of the best online travel websites in India that helps i meeting the end to end needs of any needy traveler, right from booking your tickets to getting you the best accommodation - all these at amazing discounted rates that leaves you jaw dropping! MakeMyTrip is one such travel websites where you get amazing offers and discounts on International flights. They make sure that all their customers are well-satisfied with their services and so they assure that they get the best comfort at a very reasonable rate. This has in fact made them boosted them to be one of the most sought after travel websites in India. Check out their amazing deals on domestic flights as well. They also have a travel blog where they share best places to explore for the season, and tips on making your travel a cheaper one with fond memories.Thomas Cook Enjoy a flight journey or even a cruise journey via Thomas Cook, one of the most trusted online travel website. They assure a smooth travel as their tagline suggests. Apart from booking tickets, you can even plan your honeymoon, book hotels; seek help for travel insurance, visa services and lots more. Thomas Cook gets you amazing offers and discounts on each of the services offered by them. Book your tickets for International as well as domestic flights using Thomas Cook Coupons, offers, deals and promo codes which will slash down the price rates that is unbeatable. Click here to get coupons\\n\\n\\n\\r\\n(adsbygoogle = window.adsbygoogle || []).push({});\\r\\nTicketgoose It is not always possible to book flight tickets each time you plan a journey. Sometimes, you might prefer your own vehicle for short distances and even buses. It has been reported that a lot of people generally prefer buses to any other mode of conveyance which has made it quite popular as such!Ticketgoose is one such online website that helps you in booking your tickets just with a few clicks and that too at surprising slashed rates. They have bus services to top destinations like Chennai, Bangalore, Pune, Goa, Hyderabad, Kochi and more. Get coupons for TicketgooseBooking.com Booking.com is one such online websites that gets you the best accommodation, anywhere around the globe at the best hotels, apartments and villas. They assure the best price guaranteed. You can even share your experiences with them as testimonials and share your reviews about the places you visited with their help.You can very well search for the best deals based on destination which will make your search more confined, easy and can save your time.Expedia Book your flight, bus or cab at the lowest assured price from Expedia, an online travel website that caters to all your travel needs. The main highlight of this particular site is that if you find that you did not get the best-guaranteed price or that you paid a higher amount, you will be refunded the extra amount that you had paid them!Check out for their exciting deals on hotels worldwide for the upcoming Dusshera, where they have offered flat 50% off. The booking ends on 29th September. You can travel before 30th November. Check out the site for more details and other exciting deals.Expedia also offers hotel booking with lot of deals. Explore hotel deals at Expedia\\n\\n\\n\\r\\n(adsbygoogle = window.adsbygoogle || []).push({});\\r\\nTravelGuru TravelGuru is again another online website for getting the best hotel deals worldwide. You will find amazing deals on weekend getaway packages as well. Book your favorite hotels at any location at the most reasonable rates via TravelGuru. If you are too lucky, you can even get them at a slashed half rate!Check out their website for all the latest offers and discounts and also for the upcoming festivals including Dusshera. Do not forget to grab their last minute deals that happen on the 11th hour!TravelGuru also offers hotel guru. Check TravelGuru website for hotel deals.ClearTrip Book your travel needs including flights, buses, hotels, combos and even train tickets via ClearTrip, a one stop destination that will make all your travel needs a cost effective one. Travel anywhere in the world at the best price. Explore interesting to-do activities on local grounds including indoor as well as outdoor and lots more.Read more at ClearTrip website.\\n\\n\\n\\r\\n(adsbygoogle = window.adsbygoogle || []).push({});\\r\\nYatra Yatra is a super saving online travel site that meets all your travel needs at a great price. Get amazing discounts while booking your flight, bus or even train tickets. Also, get the best prices guaranteed for hotels and any domestic as well as International tour packages.Check out their picks for some amazing tour for honeymoon, to hill stations, family trips, weekend getaways, and even some exotic destinations that will conquer your mind.Read more at Yatra website.Travelchacha You can plan your domestic or International holidays with Travelchacha, another online travel expert. Explore wonderful holiday destinations within as well as outside India now at your finger tips. You can book hotels, and can even enjoy a cruise journey with your loved ones at the lowest rates possible with Travelchacha.Ezeego1 Apart from all the above mentioned websites, Ezeego1 is yet another site which helps you to book flights and hotels at affordable rates. Get amazing deals everyday for flights, hotels and holidays. In fact, this travel site holds a lot of heap deals that can make you plan an exciting holiday plan with you family and loved ones. These are a list of top 10 lists of online travel websites that can help any avid traveller to have the most memorable trip. It is cost effective as well. So, do check out them before you make your plan and book your tickets cheaper!You may also likeTop 10 Online Cab Booking Websites15 Best Places to See Snowfall in IndiaBest travel destinations in GoaUSA in 12 DaysSponsored Ad : \\r\\nWork as you travel from anywhere in the world with a cloud desktop by CloudDesktopOnline.com . If you prefer a server, try Apps4Rent.\\n\\n\""
      ]
     },
     "execution_count": 7,
     "metadata": {},
     "output_type": "execute_result"
    }
   ],
   "source": [
    "soup.find('article').text"
   ]
  },
  {
   "cell_type": "code",
   "execution_count": 8,
   "metadata": {},
   "outputs": [],
   "source": [
    "l=soup.find_all('a')"
   ]
  },
  {
   "cell_type": "code",
   "execution_count": 9,
   "metadata": {},
   "outputs": [
    {
     "data": {
      "text/plain": [
       "[<a class=\"btn dropdown-toggle rss-dropdown-top-btn\" id=\"dropdownMenu1\" type=\"button\"><i aria-hidden=\"true\" class=\"fa fa-share-alt\"></i></a>,\n",
       " <a class=\"facebook-icon-dropdown\" href=\"http://www.facebook.com/IndiaTravelBlogs\" rel=\"nofollow\" target=\"_blank\"><i aria-hidden=\"true\" class=\"fa fa-facebook\"></i></a>,\n",
       " <a class=\"googleplus-icon-dropdown\" href=\"https://plus.google.com/IndiaTravelBlog\" rel=\"nofollow\" target=\"_blank\"><i aria-hidden=\"true\" class=\"fa fa-googleplus\"></i></a>,\n",
       " <a href=\"/account/Login.aspx?ReturnUrl=%2fresources%2fViewResourceDetails.aspx%3fresourceId%3d3410\">Login</a>,\n",
       " <a href=\"/account/Register.aspx\">Register</a>,\n",
       " <a href=\"/\" title=\"Indian Travel Blog\"><img alt=\"The Authentic Indian Travel Blog\" border=\"0\" src=\"http://www.indiatravelblog.com/images/Indian%20Travel%20Blog%20Logo.png\"/></a>,\n",
       " <a class=\"facebook-icon-dropdown\" href=\"http://www.facebook.com/IndiaTravelBlogs\" rel=\"nofollow\" target=\"_blank\"><i aria-hidden=\"true\" class=\"fa fa-facebook\"></i></a>,\n",
       " <a class=\"googleplus-icon-dropdown\" href=\"https://plus.google.com/IndiaTravelBlog\" rel=\"nofollow\" target=\"_blank\"><i aria-hidden=\"true\" class=\"fa fa-googleplus\"></i></a>,\n",
       " <a aria-expanded=\"false\" aria-haspopup=\"true\" class=\"dropdown-toggle\" data-toggle=\"dropdown\" href=\"/\" role=\"button\">Articles <span class=\"caret\"></span></a>,\n",
       " <a href=\"/resources/Category4-Travel-Tips.aspx\">Travel Tips</a>,\n",
       " <a href=\"/resources/Category41-Travel-Experience.aspx\">Travel Experience</a>,\n",
       " <a href=\"/resources/Category5-Travel-Abroad.aspx\">International</a>,\n",
       " <a href=\"/resources/Category1-India-Travel-Destinations.aspx\">Indian Destinations</a>,\n",
       " <a href=\"/resources/\">Travel Blogs</a>,\n",
       " <a aria-expanded=\"false\" aria-haspopup=\"true\" class=\"dropdown-toggle\" data-toggle=\"dropdown\" href=\"/\" role=\"button\">Destinations <span class=\"caret\"></span></a>,\n",
       " <a href=\"/destinations/\">All Destinations</a>,\n",
       " <a href=\"/destinations/1-Kerala.aspx\">Kerala</a>,\n",
       " <a href=\"/destinations/3-Goa.aspx\">Goa</a>,\n",
       " <a href=\"/destinations/32-Andaman-and-Nicobar-Islands.aspx\">Andaman and Nicobar Islands</a>,\n",
       " <a href=\"http://www.indiatravelblog.com/articles/Best-In-India.aspx\">Best in India</a>,\n",
       " <a href=\"/forum/\">Forum</a>,\n",
       " <a href=\"http://www.indiatravelblog.com/resources/PostingOption.aspx?ReturnUrl=/resources/PostResource.aspx?CategoryId=\">Submit Blog</a>,\n",
       " <a class=\"navbar-brand navbar-brand-new\" href=\"/\">\n",
       " <span aria-hidden=\"true\" class=\"glyphicon glyphicon-home\"></span>\n",
       " </a>,\n",
       " <a href=\"/account/Login.aspx?ReturnUrl=%2fresources%2fViewResourceDetails.aspx%3fresourceId%3d3410\">Login</a>,\n",
       " <a href=\"/account/Register.aspx\">Register</a>,\n",
       " <a aria-expanded=\"false\" aria-haspopup=\"true\" class=\"dropdown-toggle\" data-toggle=\"dropdown\" href=\"/\" role=\"button\">Articles <span class=\"caret\"></span></a>,\n",
       " <a href=\"/resources/Category4-Travel-Tips.aspx\">Travel Tips</a>,\n",
       " <a href=\"/resources/Category41-Travel-Experience.aspx\">Travel Experience</a>,\n",
       " <a href=\"/resources/Category5-Travel-Abroad.aspx\">International</a>,\n",
       " <a href=\"/resources/Category1-India-Travel-Destinations.aspx\">Indian Destinations</a>,\n",
       " <a href=\"/resources/\">Travel Blogs</a>,\n",
       " <a aria-expanded=\"false\" aria-haspopup=\"true\" class=\"dropdown-toggle\" data-toggle=\"dropdown\" href=\"/\" role=\"button\">Destinations <span class=\"caret\"></span></a>,\n",
       " <a href=\"/destinations/\">All Destinations</a>,\n",
       " <a href=\"/destinations/1-Kerala.aspx\">Kerala</a>,\n",
       " <a href=\"/destinations/3-Goa.aspx\">Goa</a>,\n",
       " <a href=\"/destinations/32-Andaman-and-Nicobar-Islands.aspx\">Andaman and Nicobar Islands</a>,\n",
       " <a href=\"http://www.indiatravelblog.com/articles/Best-In-India.aspx\">Best in India</a>,\n",
       " <a href=\"/forum/\">Forum</a>,\n",
       " <a href=\"http://www.indiatravelblog.com/resources/PostingOption.aspx?ReturnUrl=/resources/PostResource.aspx?CategoryId=\">Submit Blog</a>,\n",
       " <a href=\"/resources/\">Resources</a>,\n",
       " <a href=\"/resources/Category4-Travel-Tips.aspx\">Travel Tips</a>,\n",
       " <a href=\"/resources/Category8-Travel-transportation.aspx\">Travel transportation</a>,\n",
       " <a href=\"/resources/Category8-Travel-transportation.aspx\">Travel transportation</a>,\n",
       " <a href=\"/member/prakash123.aspx\" rel=\"author\"><span itemprop=\"author\">Prakash</span></a>,\n",
       " <a href=\"/general/MembershipLevels.aspx\" rel=\"nofollow\" title=\"Total Points: 142\">Silver</a>,\n",
       " <a href=\"/general/ContentRating.aspx?EntityType=1&amp;EntityId=3410\">100</a>,\n",
       " <a href=\"https://www.makemytrip.com\" rel=\"nofollow\" target=\"_blank\">MakeMyTrip</a>,\n",
       " <a href=\"https://www.thomascook.in/\" rel=\"nofollow\" target=\"_blank\">Thomas Cook</a>,\n",
       " <a href=\"http://www.couponrani.com/thomas-cook-coupons\" rel=\"nofollow\" target=\"_blank\">here</a>,\n",
       " <a href=\"http://www.couponrani.com/ticketgoose-coupons\" rel=\"nofollow\" target=\"_blank\">Get</a>,\n",
       " <a href=\"https://www.expedia.co.in\" rel=\"nofollow\" target=\"_blank\">Expedia</a>,\n",
       " <a href=\"https://www.travelguru.com\" rel=\"nofollow\" target=\"_blank\">Check</a>,\n",
       " <a href=\"http://clk.omgt5.com/?AID=963653&amp;PID=8162&amp;WID=65575\" rel=\"nofollow\" target=\"_blank\">ClearTrip website</a>,\n",
       " <a href=\"https://www.yatra.com\" rel=\"nofollow\" target=\"_blank\">Read</a>,\n",
       " <a href=\"http://www.indiatravelblog.com/resources/3731-top-10-online-cab-booking-websites-to-book-your-cab-cheaper.aspx\">Top 10 Online Cab Booking Websites</a>,\n",
       " <a href=\"http://www.indiatravelblog.com/resources/4000-Best-places-to-see-snowfall-in-India.aspx\">15 Best Places to See Snowfall in India</a>,\n",
       " <a href=\"http://www.indiatravelblog.com/resources/3690-Best-Travel-Destinations-in-Goa.aspx\">Best travel destinations in Goa</a>,\n",
       " <a href=\"http://www.indiatravelblog.com/resources/3982-Trip-to-USA-from-India.aspx\">USA in 12 Days</a>,\n",
       " <a href=\"https://www.clouddesktoponline.com\">CloudDesktopOnline.com </a>,\n",
       " <a href=\"http://www.apps4rent.com/\">Apps4Rent</a>,\n",
       " <a href=\"/member/shubho_07.aspx\">Sunit Saha</a>,\n",
       " <a href=\"/general/MembershipLevels.aspx\" title=\"Total Points: 17\">Bronze</a>,\n",
       " <a href=\"/general/ContentRating.aspx?EntityType=2&amp;EntityId=3002\">Points</a>,\n",
       " <a href=\"/member/kondapure.aspx\">sukanya kondapure</a>,\n",
       " <a href=\"/general/MembershipLevels.aspx\" title=\"Total Points: 5\">Bronze</a>,\n",
       " <a href=\"/general/ContentRating.aspx?EntityType=2&amp;EntityId=3254\">Points</a>,\n",
       " <a name=\"PostReply\"></a>,\n",
       " <a href=\"PostResource.aspx\">Submit Article</a>,\n",
       " <a href=\"index.aspx\">Article Index</a>,\n",
       " <a href=\"/resources/5013-List-of-best-restaurants-in-Kochi-Ernakulam.aspx\">List of best restaurants in Kochi - Ernakulam</a>,\n",
       " <a href=\"/resources/5013-List-of-best-restaurants-in-Kochi-Ernakulam.aspx\" title=\"List of best restaurants in Kochi - Ernakulam\"><img align=\"left\" src=\"/attachments/resources/thumbs/5013-5-Wok-Grill.jpg\" style=\"padding:5px\" title=\"List of best restaurants in Kochi - Ernakulam\" width=\"75\"/></a>,\n",
       " <a href=\"/resources/4960-best-tourist-attractions-in-darjeeling.aspx\">Best Tourist Attractions In Darjeeling</a>,\n",
       " <a href=\"/resources/4960-best-tourist-attractions-in-darjeeling.aspx\" title=\"Best Tourist Attractions In Darjeeling\"><img align=\"left\" src=\"/attachments/resources/thumbs/4960-1-Best-Tourist-Attractions-in-Darjeeling.jpg\" style=\"padding:5px\" title=\"Best Tourist Attractions In Darjeeling\" width=\"75\"/></a>,\n",
       " <a href=\"/resources/4907-Top-10-Wildlife-Safari-Destinations-In-India.aspx\">Top 10 Wildlife Safari Destinations In India</a>,\n",
       " <a href=\"/resources/4907-Top-10-Wildlife-Safari-Destinations-In-India.aspx\" title=\"Top 10 Wildlife Safari Destinations In India\"><img align=\"left\" src=\"/attachments/resources/thumbs/4907-1-top-10-wildlife-safari-destination-in-india.jpg\" style=\"padding:5px\" title=\"Top 10 Wildlife Safari Destinations In India\" width=\"75\"/></a>,\n",
       " <a href=\"/resources/4955-what-to-wear-on-your-trip-to-rajasthan.aspx\">What to Wear on Your Trip to Rajasthan</a>,\n",
       " <a href=\"/resources/4945-Top-Things-to-Do-in-India.aspx\">Top Things to Do in India in 2018</a>,\n",
       " <a href=\"/resources/\">More...</a>,\n",
       " <a class=\"footer-facebbok-icon\" href=\"http://www.facebook.com/IndiaTravelBlogs\" itemprop=\"sameAs\" rel=\"nofollow\" target=\"_blank\"><i aria-hidden=\"true\" class=\"fa fa-facebook\"></i></a>,\n",
       " <a class=\"footer-googleplus-icon\" href=\"https://plus.google.com/IndiaTravelBlog\" itemprop=\"sameAs\" rel=\"nofollow\" target=\"_blank\"><i aria-hidden=\"true\" class=\"fa fa-googleplus\"></i></a>,\n",
       " <a href=\"/forum/\">Travel Forum</a>,\n",
       " <a href=\"/resources/Category1-India-Travel-Destinations.aspx\">Travel Destinations</a>,\n",
       " <a href=\"/forum/Category3-Travel-Questions.aspx\">Travel Queries</a>,\n",
       " <a href=\"/resources/\">Travel Blogs</a>,\n",
       " <a href=\"/resources/Category11-Travel-packages.aspx\">Travel Packages</a>,\n",
       " <a href=\"/resources/Category4-Travel-Tips.aspx\">Travel Tips</a>,\n",
       " <a href=\"/resources/Category46-Travel-Business.aspx\"> Travel Business</a>,\n",
       " <a href=\"/resources/Category5-Travel-Abroad.aspx\">Travel Abroad</a>,\n",
       " <a href=\"/resources/Category10-Travel-guides-and-books.aspx\">Travel Articles &amp; Books</a>,\n",
       " <a href=\"/resources/Category7-Travel-tips-and-preparation.aspx\">Travel Tips &amp; Preparation </a>,\n",
       " <a href=\"/resources/Category9-Travel-activites-and-ideas.aspx\">Travel Venture &amp; Ideas</a>,\n",
       " <a href=\"/resources/Category41-Travel-Experience.aspx\">Travel Experience</a>,\n",
       " <a href=\"/credits/\">Awards</a>,\n",
       " <a href=\"/credits/index.aspx?Display=Group\">Top Earners</a>,\n",
       " <a href=\"/newposts/\">New Posts</a>,\n",
       " <a href=\"/general/AboutUs.aspx\">About Us</a>,\n",
       " <a href=\"/general/ContactUs.aspx\">Contact Us</a>,\n",
       " <a href=\"/general/Copyrights.aspx\">Copyright</a>,\n",
       " <a href=\"/general/PrivacyPolicy.aspx\">Privacy Policy</a>,\n",
       " <a href=\"/general/TermsOfUse.aspx\">Terms of Use</a>]"
      ]
     },
     "execution_count": 9,
     "metadata": {},
     "output_type": "execute_result"
    }
   ],
   "source": [
    "l"
   ]
  },
  {
   "cell_type": "code",
   "execution_count": 13,
   "metadata": {
    "collapsed": true
   },
   "outputs": [],
   "source": [
    "import time"
   ]
  },
  {
   "cell_type": "code",
   "execution_count": 28,
   "metadata": {
    "scrolled": true
   },
   "outputs": [
    {
     "name": "stdout",
     "output_type": "stream",
     "text": [
      "http://www.facebook.com/IndiaTravelBlogs None True 19:37:06\n",
      "http://www.facebook.com/IndiaTravelBlogs None True 19:37:07\n",
      "http://www.indiatravelblog.com/articles/Best-In-India.aspx Best in India True 19:37:07\n",
      "http://www.indiatravelblog.com/resources/PostingOption.aspx?ReturnUrl=/resources/PostResource.aspx?CategoryId= Submit Blog True 19:37:08\n",
      "http://www.indiatravelblog.com/articles/Best-In-India.aspx Best in India True 19:37:08\n",
      "http://www.indiatravelblog.com/resources/PostingOption.aspx?ReturnUrl=/resources/PostResource.aspx?CategoryId= Submit Blog True 19:37:08\n",
      "https://www.makemytrip.com MakeMyTrip True 19:37:11\n",
      "https://www.thomascook.in/ Thomas Cook True 19:37:14\n",
      "http://www.couponrani.com/thomas-cook-coupons here True 19:37:16\n",
      "http://www.couponrani.com/ticketgoose-coupons Get True 19:37:17\n",
      "https://www.expedia.co.in Expedia True 19:37:18\n",
      "https://www.travelguru.com Check True 19:37:19\n",
      "http://clk.omgt5.com/?AID=963653&PID=8162&WID=65575 ClearTrip website True 19:37:20\n",
      "https://www.yatra.com Read True 19:37:21\n",
      "http://www.indiatravelblog.com/resources/3731-top-10-online-cab-booking-websites-to-book-your-cab-cheaper.aspx Top 10 Online Cab Booking Websites True 19:37:21\n",
      "http://www.indiatravelblog.com/resources/4000-Best-places-to-see-snowfall-in-India.aspx 15 Best Places to See Snowfall in India True 19:37:21\n",
      "http://www.indiatravelblog.com/resources/3690-Best-Travel-Destinations-in-Goa.aspx Best travel destinations in Goa True 19:37:22\n",
      "http://www.indiatravelblog.com/resources/3982-Trip-to-USA-from-India.aspx USA in 12 Days True 19:37:22\n",
      "https://www.clouddesktoponline.com CloudDesktopOnline.com  True 19:37:25\n",
      "http://www.apps4rent.com/ Apps4Rent True 19:37:26\n",
      "http://www.facebook.com/IndiaTravelBlogs None True 19:37:27\n"
     ]
    }
   ],
   "source": [
    "links=[]\n",
    "AssociatedText=[]\n",
    "status=[]\n",
    "Timestamp=[]\n",
    "for link in soup.find_all('a' ,href=True):\n",
    "    if link['href'].startswith('http'):\n",
    "        valid='True'\n",
    "        if http.request('GET',link['href']).status==200:       #check if link is valid by checking response status\n",
    "            \n",
    "            print(link['href'],link.string,valid,time.strftime(\"%H:%M:%S\")) #print all links\n",
    "            if not link['href'].startswith('http://www.indiatravelblog.com/'): #because we are lookin for external links only\n",
    "                links.append(link['href'])\n",
    "                AssociatedText.append(link.string)\n",
    "                status.append(valid)\n",
    "                Timestamp.append(time.strftime(\"%H:%M:%S\"))\n",
    "            "
   ]
  },
  {
   "cell_type": "code",
   "execution_count": 29,
   "metadata": {},
   "outputs": [],
   "source": [
    "import pandas as pd\n",
    "scrapdf=pd.DataFrame(links,columns=['Link'])\n",
    "scrapdf['AssociatedText']=AssociatedText\n",
    "scrapdf['Valid']= status\n",
    "scrapdf['TimeStamp']= Timestamp"
   ]
  },
  {
   "cell_type": "code",
   "execution_count": 30,
   "metadata": {},
   "outputs": [
    {
     "data": {
      "text/html": [
       "<div>\n",
       "<table border=\"1\" class=\"dataframe\">\n",
       "  <thead>\n",
       "    <tr style=\"text-align: right;\">\n",
       "      <th></th>\n",
       "      <th>Link</th>\n",
       "      <th>AssociatedText</th>\n",
       "      <th>Valid</th>\n",
       "      <th>TimeStamp</th>\n",
       "    </tr>\n",
       "  </thead>\n",
       "  <tbody>\n",
       "    <tr>\n",
       "      <th>0</th>\n",
       "      <td>http://www.facebook.com/IndiaTravelBlogs</td>\n",
       "      <td>None</td>\n",
       "      <td>True</td>\n",
       "      <td>19:37:06</td>\n",
       "    </tr>\n",
       "    <tr>\n",
       "      <th>1</th>\n",
       "      <td>http://www.facebook.com/IndiaTravelBlogs</td>\n",
       "      <td>None</td>\n",
       "      <td>True</td>\n",
       "      <td>19:37:07</td>\n",
       "    </tr>\n",
       "    <tr>\n",
       "      <th>2</th>\n",
       "      <td>https://www.makemytrip.com</td>\n",
       "      <td>MakeMyTrip</td>\n",
       "      <td>True</td>\n",
       "      <td>19:37:11</td>\n",
       "    </tr>\n",
       "    <tr>\n",
       "      <th>3</th>\n",
       "      <td>https://www.thomascook.in/</td>\n",
       "      <td>Thomas Cook</td>\n",
       "      <td>True</td>\n",
       "      <td>19:37:14</td>\n",
       "    </tr>\n",
       "    <tr>\n",
       "      <th>4</th>\n",
       "      <td>http://www.couponrani.com/thomas-cook-coupons</td>\n",
       "      <td>here</td>\n",
       "      <td>True</td>\n",
       "      <td>19:37:16</td>\n",
       "    </tr>\n",
       "    <tr>\n",
       "      <th>5</th>\n",
       "      <td>http://www.couponrani.com/ticketgoose-coupons</td>\n",
       "      <td>Get</td>\n",
       "      <td>True</td>\n",
       "      <td>19:37:17</td>\n",
       "    </tr>\n",
       "    <tr>\n",
       "      <th>6</th>\n",
       "      <td>https://www.expedia.co.in</td>\n",
       "      <td>Expedia</td>\n",
       "      <td>True</td>\n",
       "      <td>19:37:18</td>\n",
       "    </tr>\n",
       "    <tr>\n",
       "      <th>7</th>\n",
       "      <td>https://www.travelguru.com</td>\n",
       "      <td>Check</td>\n",
       "      <td>True</td>\n",
       "      <td>19:37:19</td>\n",
       "    </tr>\n",
       "    <tr>\n",
       "      <th>8</th>\n",
       "      <td>http://clk.omgt5.com/?AID=963653&amp;PID=8162&amp;WID=...</td>\n",
       "      <td>ClearTrip website</td>\n",
       "      <td>True</td>\n",
       "      <td>19:37:20</td>\n",
       "    </tr>\n",
       "    <tr>\n",
       "      <th>9</th>\n",
       "      <td>https://www.yatra.com</td>\n",
       "      <td>Read</td>\n",
       "      <td>True</td>\n",
       "      <td>19:37:21</td>\n",
       "    </tr>\n",
       "    <tr>\n",
       "      <th>10</th>\n",
       "      <td>https://www.clouddesktoponline.com</td>\n",
       "      <td>CloudDesktopOnline.com</td>\n",
       "      <td>True</td>\n",
       "      <td>19:37:25</td>\n",
       "    </tr>\n",
       "    <tr>\n",
       "      <th>11</th>\n",
       "      <td>http://www.apps4rent.com/</td>\n",
       "      <td>Apps4Rent</td>\n",
       "      <td>True</td>\n",
       "      <td>19:37:26</td>\n",
       "    </tr>\n",
       "    <tr>\n",
       "      <th>12</th>\n",
       "      <td>http://www.facebook.com/IndiaTravelBlogs</td>\n",
       "      <td>None</td>\n",
       "      <td>True</td>\n",
       "      <td>19:37:27</td>\n",
       "    </tr>\n",
       "  </tbody>\n",
       "</table>\n",
       "</div>"
      ],
      "text/plain": [
       "                                                 Link  \\\n",
       "0            http://www.facebook.com/IndiaTravelBlogs   \n",
       "1            http://www.facebook.com/IndiaTravelBlogs   \n",
       "2                          https://www.makemytrip.com   \n",
       "3                          https://www.thomascook.in/   \n",
       "4       http://www.couponrani.com/thomas-cook-coupons   \n",
       "5       http://www.couponrani.com/ticketgoose-coupons   \n",
       "6                           https://www.expedia.co.in   \n",
       "7                          https://www.travelguru.com   \n",
       "8   http://clk.omgt5.com/?AID=963653&PID=8162&WID=...   \n",
       "9                               https://www.yatra.com   \n",
       "10                 https://www.clouddesktoponline.com   \n",
       "11                          http://www.apps4rent.com/   \n",
       "12           http://www.facebook.com/IndiaTravelBlogs   \n",
       "\n",
       "             AssociatedText Valid TimeStamp  \n",
       "0                      None  True  19:37:06  \n",
       "1                      None  True  19:37:07  \n",
       "2                MakeMyTrip  True  19:37:11  \n",
       "3               Thomas Cook  True  19:37:14  \n",
       "4                      here  True  19:37:16  \n",
       "5                       Get  True  19:37:17  \n",
       "6                   Expedia  True  19:37:18  \n",
       "7                     Check  True  19:37:19  \n",
       "8         ClearTrip website  True  19:37:20  \n",
       "9                      Read  True  19:37:21  \n",
       "10  CloudDesktopOnline.com   True  19:37:25  \n",
       "11                Apps4Rent  True  19:37:26  \n",
       "12                     None  True  19:37:27  "
      ]
     },
     "execution_count": 30,
     "metadata": {},
     "output_type": "execute_result"
    }
   ],
   "source": [
    "scrapdf"
   ]
  },
  {
   "cell_type": "markdown",
   "metadata": {},
   "source": [
    "This dataframe contains the occurences of external links, text, validity and timestamp on the page."
   ]
  },
  {
   "cell_type": "code",
   "execution_count": 31,
   "metadata": {
    "collapsed": true
   },
   "outputs": [],
   "source": [
    "scrapdf.to_csv('ExternalLinks.csv')"
   ]
  },
  {
   "cell_type": "code",
   "execution_count": null,
   "metadata": {
    "collapsed": true
   },
   "outputs": [],
   "source": []
  }
 ],
 "metadata": {
  "kernelspec": {
   "display_name": "Python 3",
   "language": "python",
   "name": "python3"
  },
  "language_info": {
   "codemirror_mode": {
    "name": "ipython",
    "version": 3
   },
   "file_extension": ".py",
   "mimetype": "text/x-python",
   "name": "python",
   "nbconvert_exporter": "python",
   "pygments_lexer": "ipython3",
   "version": "3.6.3"
  }
 },
 "nbformat": 4,
 "nbformat_minor": 1
}
